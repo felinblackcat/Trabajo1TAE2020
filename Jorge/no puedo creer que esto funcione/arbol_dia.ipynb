{
 "cells": [
  {
   "cell_type": "markdown",
   "metadata": {},
   "source": [
    "# Ask Question"
   ]
  },
  {
   "cell_type": "markdown",
   "metadata": {},
   "source": [
    "Can we predict the maximum temperature tomorrow for Seattle, Washington given one year of historical data? "
   ]
  },
  {
   "cell_type": "markdown",
   "metadata": {},
   "source": [
    "The data we have available is the maximum temperatures in Seattle from the National Oceanic and Atmospheric Administration's (NOAA) [Climate Data Online Tool](https://www.ncdc.noaa.gov/cdo-web/)."
   ]
  },
  {
   "cell_type": "markdown",
   "metadata": {},
   "source": [
    "# Data Acqusition"
   ]
  },
  {
   "cell_type": "code",
   "execution_count": 412,
   "metadata": {
    "collapsed": false,
    "hideCode": false,
    "hidePrompt": false,
    "jupyter": {
     "outputs_hidden": false
    }
   },
   "outputs": [],
   "source": [
    "# Pandas is used for data manipulation\n",
    "import pandas as pd\n",
    "from matplotlib import pyplot as plt\n",
    "\n",
    "# Read in data as pandas dataframe and display first 5 rows\n",
    "\n",
    "features_train = pd.read_csv('data/train.csv')\n",
    "features_val = pd.read_csv('data/val.csv')\n",
    "#features = pd.concat([data_train, data_val])\n",
    "\n",
    "\n",
    "from sklearn.preprocessing import LabelEncoder\n",
    "\n"
   ]
  },
  {
   "cell_type": "markdown",
   "metadata": {},
   "source": [
    "# Identify Anomalies"
   ]
  },
  {
   "cell_type": "code",
   "execution_count": 413,
   "metadata": {
    "collapsed": false,
    "hideCode": false,
    "hidePrompt": false,
    "jupyter": {
     "outputs_hidden": false
    }
   },
   "outputs": [
    {
     "name": "stdout",
     "output_type": "stream",
     "text": [
      "The shape of our features is: (168508, 7)\n",
      "The shape of our features is: (40229, 7)\n"
     ]
    }
   ],
   "source": [
    "print('The shape of our features is:', features_train.shape)\n",
    "print('The shape of our features is:', features_val.shape)\n"
   ]
  },
  {
   "cell_type": "code",
   "execution_count": 414,
   "metadata": {
    "collapsed": false,
    "jupyter": {
     "outputs_hidden": false
    }
   },
   "outputs": [
    {
     "data": {
      "text/html": [
       "<div>\n",
       "<style scoped>\n",
       "    .dataframe tbody tr th:only-of-type {\n",
       "        vertical-align: middle;\n",
       "    }\n",
       "\n",
       "    .dataframe tbody tr th {\n",
       "        vertical-align: top;\n",
       "    }\n",
       "\n",
       "    .dataframe thead th {\n",
       "        text-align: right;\n",
       "    }\n",
       "</style>\n",
       "<table border=\"1\" class=\"dataframe\">\n",
       "  <thead>\n",
       "    <tr style=\"text-align: right;\">\n",
       "      <th></th>\n",
       "      <th>DIA</th>\n",
       "      <th>MES</th>\n",
       "      <th>ANIO</th>\n",
       "      <th>CLUSTER</th>\n",
       "      <th>ESPECIAL</th>\n",
       "      <th>SEMANA</th>\n",
       "    </tr>\n",
       "  </thead>\n",
       "  <tbody>\n",
       "    <tr>\n",
       "      <th>count</th>\n",
       "      <td>168508.000000</td>\n",
       "      <td>168508.000000</td>\n",
       "      <td>168508.000000</td>\n",
       "      <td>168508.000000</td>\n",
       "      <td>168508.000000</td>\n",
       "      <td>168508.000000</td>\n",
       "    </tr>\n",
       "    <tr>\n",
       "      <th>mean</th>\n",
       "      <td>15.723467</td>\n",
       "      <td>6.588542</td>\n",
       "      <td>2015.511074</td>\n",
       "      <td>0.847265</td>\n",
       "      <td>0.029631</td>\n",
       "      <td>105.009157</td>\n",
       "    </tr>\n",
       "    <tr>\n",
       "      <th>std</th>\n",
       "      <td>8.759809</td>\n",
       "      <td>3.398587</td>\n",
       "      <td>1.116261</td>\n",
       "      <td>0.963954</td>\n",
       "      <td>0.169567</td>\n",
       "      <td>60.160867</td>\n",
       "    </tr>\n",
       "    <tr>\n",
       "      <th>min</th>\n",
       "      <td>1.000000</td>\n",
       "      <td>1.000000</td>\n",
       "      <td>2014.000000</td>\n",
       "      <td>0.000000</td>\n",
       "      <td>0.000000</td>\n",
       "      <td>0.000000</td>\n",
       "    </tr>\n",
       "    <tr>\n",
       "      <th>25%</th>\n",
       "      <td>8.000000</td>\n",
       "      <td>4.000000</td>\n",
       "      <td>2015.000000</td>\n",
       "      <td>0.000000</td>\n",
       "      <td>0.000000</td>\n",
       "      <td>53.000000</td>\n",
       "    </tr>\n",
       "    <tr>\n",
       "      <th>50%</th>\n",
       "      <td>16.000000</td>\n",
       "      <td>7.000000</td>\n",
       "      <td>2016.000000</td>\n",
       "      <td>0.000000</td>\n",
       "      <td>0.000000</td>\n",
       "      <td>106.000000</td>\n",
       "    </tr>\n",
       "    <tr>\n",
       "      <th>75%</th>\n",
       "      <td>23.000000</td>\n",
       "      <td>10.000000</td>\n",
       "      <td>2017.000000</td>\n",
       "      <td>2.000000</td>\n",
       "      <td>0.000000</td>\n",
       "      <td>157.000000</td>\n",
       "    </tr>\n",
       "    <tr>\n",
       "      <th>max</th>\n",
       "      <td>31.000000</td>\n",
       "      <td>12.000000</td>\n",
       "      <td>2017.000000</td>\n",
       "      <td>2.000000</td>\n",
       "      <td>1.000000</td>\n",
       "      <td>208.000000</td>\n",
       "    </tr>\n",
       "  </tbody>\n",
       "</table>\n",
       "</div>"
      ],
      "text/plain": [
       "                 DIA            MES           ANIO        CLUSTER  \\\n",
       "count  168508.000000  168508.000000  168508.000000  168508.000000   \n",
       "mean       15.723467       6.588542    2015.511074       0.847265   \n",
       "std         8.759809       3.398587       1.116261       0.963954   \n",
       "min         1.000000       1.000000    2014.000000       0.000000   \n",
       "25%         8.000000       4.000000    2015.000000       0.000000   \n",
       "50%        16.000000       7.000000    2016.000000       0.000000   \n",
       "75%        23.000000      10.000000    2017.000000       2.000000   \n",
       "max        31.000000      12.000000    2017.000000       2.000000   \n",
       "\n",
       "            ESPECIAL         SEMANA  \n",
       "count  168508.000000  168508.000000  \n",
       "mean        0.029631     105.009157  \n",
       "std         0.169567      60.160867  \n",
       "min         0.000000       0.000000  \n",
       "25%         0.000000      53.000000  \n",
       "50%         0.000000     106.000000  \n",
       "75%         0.000000     157.000000  \n",
       "max         1.000000     208.000000  "
      ]
     },
     "execution_count": 414,
     "metadata": {},
     "output_type": "execute_result"
    }
   ],
   "source": [
    "# Descriptive statistics for each column\n",
    "features_train.describe()"
   ]
  },
  {
   "cell_type": "code",
   "execution_count": 415,
   "metadata": {},
   "outputs": [
    {
     "data": {
      "text/plain": [
       "'\"\\n# Use datetime for dealing with dates\\nimport datetime\\n\\n# Get years, months, and days\\nyears = features[\\'ANIO\\']\\nmonths = features[\\'MES\\']\\ndays = features[\\'DIA\\']\\n\\n# List and then convert to datetime object\\ndates = [str(int(year)) + \\'-\\' + str(int(month)) + \\'-\\' + str(int(day)) for year, month, day in zip(years, months, days)]\\ndates = [datetime.datetime.strptime(date, \\'%Y-%m-%d\\') for date in dates]\\n'"
      ]
     },
     "execution_count": 415,
     "metadata": {},
     "output_type": "execute_result"
    }
   ],
   "source": [
    "\"\"\"\"\n",
    "# Use datetime for dealing with dates\n",
    "import datetime\n",
    "\n",
    "# Get years, months, and days\n",
    "years = features['ANIO']\n",
    "months = features['MES']\n",
    "days = features['DIA']\n",
    "\n",
    "# List and then convert to datetime object\n",
    "dates = [str(int(year)) + '-' + str(int(month)) + '-' + str(int(day)) for year, month, day in zip(years, months, days)]\n",
    "dates = [datetime.datetime.strptime(date, '%Y-%m-%d') for date in dates]\n",
    "\"\"\""
   ]
  },
  {
   "cell_type": "code",
   "execution_count": 416,
   "metadata": {},
   "outputs": [
    {
     "data": {
      "text/html": [
       "<div>\n",
       "<style scoped>\n",
       "    .dataframe tbody tr th:only-of-type {\n",
       "        vertical-align: middle;\n",
       "    }\n",
       "\n",
       "    .dataframe tbody tr th {\n",
       "        vertical-align: top;\n",
       "    }\n",
       "\n",
       "    .dataframe thead th {\n",
       "        text-align: right;\n",
       "    }\n",
       "</style>\n",
       "<table border=\"1\" class=\"dataframe\">\n",
       "  <thead>\n",
       "    <tr style=\"text-align: right;\">\n",
       "      <th></th>\n",
       "      <th>DIA</th>\n",
       "      <th>MES</th>\n",
       "      <th>ANIO</th>\n",
       "      <th>CLASE</th>\n",
       "      <th>CLUSTER</th>\n",
       "      <th>ESPECIAL</th>\n",
       "      <th>SEMANA</th>\n",
       "      <th>DIA_SEMANA</th>\n",
       "    </tr>\n",
       "  </thead>\n",
       "  <tbody>\n",
       "    <tr>\n",
       "      <th>0</th>\n",
       "      <td>2.0</td>\n",
       "      <td>1.0</td>\n",
       "      <td>2018.0</td>\n",
       "      <td>atropello</td>\n",
       "      <td>0.0</td>\n",
       "      <td>0.0</td>\n",
       "      <td>209</td>\n",
       "      <td>1</td>\n",
       "    </tr>\n",
       "    <tr>\n",
       "      <th>1</th>\n",
       "      <td>2.0</td>\n",
       "      <td>1.0</td>\n",
       "      <td>2018.0</td>\n",
       "      <td>choque</td>\n",
       "      <td>0.0</td>\n",
       "      <td>0.0</td>\n",
       "      <td>209</td>\n",
       "      <td>1</td>\n",
       "    </tr>\n",
       "    <tr>\n",
       "      <th>2</th>\n",
       "      <td>2.0</td>\n",
       "      <td>1.0</td>\n",
       "      <td>2018.0</td>\n",
       "      <td>otro</td>\n",
       "      <td>0.0</td>\n",
       "      <td>0.0</td>\n",
       "      <td>209</td>\n",
       "      <td>1</td>\n",
       "    </tr>\n",
       "    <tr>\n",
       "      <th>3</th>\n",
       "      <td>2.0</td>\n",
       "      <td>1.0</td>\n",
       "      <td>2018.0</td>\n",
       "      <td>choque</td>\n",
       "      <td>0.0</td>\n",
       "      <td>0.0</td>\n",
       "      <td>209</td>\n",
       "      <td>1</td>\n",
       "    </tr>\n",
       "    <tr>\n",
       "      <th>4</th>\n",
       "      <td>2.0</td>\n",
       "      <td>1.0</td>\n",
       "      <td>2018.0</td>\n",
       "      <td>otro</td>\n",
       "      <td>0.0</td>\n",
       "      <td>0.0</td>\n",
       "      <td>209</td>\n",
       "      <td>1</td>\n",
       "    </tr>\n",
       "    <tr>\n",
       "      <th>...</th>\n",
       "      <td>...</td>\n",
       "      <td>...</td>\n",
       "      <td>...</td>\n",
       "      <td>...</td>\n",
       "      <td>...</td>\n",
       "      <td>...</td>\n",
       "      <td>...</td>\n",
       "      <td>...</td>\n",
       "    </tr>\n",
       "    <tr>\n",
       "      <th>40224</th>\n",
       "      <td>1.0</td>\n",
       "      <td>12.0</td>\n",
       "      <td>2018.0</td>\n",
       "      <td>choque</td>\n",
       "      <td>2.0</td>\n",
       "      <td>0.0</td>\n",
       "      <td>256</td>\n",
       "      <td>5</td>\n",
       "    </tr>\n",
       "    <tr>\n",
       "      <th>40225</th>\n",
       "      <td>1.0</td>\n",
       "      <td>12.0</td>\n",
       "      <td>2018.0</td>\n",
       "      <td>choque</td>\n",
       "      <td>2.0</td>\n",
       "      <td>0.0</td>\n",
       "      <td>256</td>\n",
       "      <td>5</td>\n",
       "    </tr>\n",
       "    <tr>\n",
       "      <th>40226</th>\n",
       "      <td>1.0</td>\n",
       "      <td>12.0</td>\n",
       "      <td>2018.0</td>\n",
       "      <td>choque</td>\n",
       "      <td>0.0</td>\n",
       "      <td>0.0</td>\n",
       "      <td>256</td>\n",
       "      <td>5</td>\n",
       "    </tr>\n",
       "    <tr>\n",
       "      <th>40227</th>\n",
       "      <td>1.0</td>\n",
       "      <td>12.0</td>\n",
       "      <td>2018.0</td>\n",
       "      <td>choque</td>\n",
       "      <td>2.0</td>\n",
       "      <td>0.0</td>\n",
       "      <td>256</td>\n",
       "      <td>5</td>\n",
       "    </tr>\n",
       "    <tr>\n",
       "      <th>40228</th>\n",
       "      <td>1.0</td>\n",
       "      <td>12.0</td>\n",
       "      <td>2018.0</td>\n",
       "      <td>choque</td>\n",
       "      <td>1.0</td>\n",
       "      <td>0.0</td>\n",
       "      <td>256</td>\n",
       "      <td>5</td>\n",
       "    </tr>\n",
       "  </tbody>\n",
       "</table>\n",
       "<p>40229 rows × 8 columns</p>\n",
       "</div>"
      ],
      "text/plain": [
       "       DIA   MES    ANIO      CLASE  CLUSTER  ESPECIAL  SEMANA  DIA_SEMANA\n",
       "0      2.0   1.0  2018.0  atropello      0.0       0.0     209           1\n",
       "1      2.0   1.0  2018.0     choque      0.0       0.0     209           1\n",
       "2      2.0   1.0  2018.0       otro      0.0       0.0     209           1\n",
       "3      2.0   1.0  2018.0     choque      0.0       0.0     209           1\n",
       "4      2.0   1.0  2018.0       otro      0.0       0.0     209           1\n",
       "...    ...   ...     ...        ...      ...       ...     ...         ...\n",
       "40224  1.0  12.0  2018.0     choque      2.0       0.0     256           5\n",
       "40225  1.0  12.0  2018.0     choque      2.0       0.0     256           5\n",
       "40226  1.0  12.0  2018.0     choque      0.0       0.0     256           5\n",
       "40227  1.0  12.0  2018.0     choque      2.0       0.0     256           5\n",
       "40228  1.0  12.0  2018.0     choque      1.0       0.0     256           5\n",
       "\n",
       "[40229 rows x 8 columns]"
      ]
     },
     "execution_count": 416,
     "metadata": {},
     "output_type": "execute_result"
    }
   ],
   "source": [
    "features_train['DIA_SEMANA']=pd.to_datetime(features_train['ANIO']*10000+features_train['MES']*100+features_train['DIA'],format='%Y%m%d').dt.dayofweek\n",
    "features_val['DIA_SEMANA']=pd.to_datetime(features_val['ANIO']*10000+features_val['MES']*100+features_val['DIA'],format='%Y%m%d').dt.dayofweek\n",
    "features_val"
   ]
  },
  {
   "cell_type": "code",
   "execution_count": 417,
   "metadata": {},
   "outputs": [
    {
     "data": {
      "text/html": [
       "<div>\n",
       "<style scoped>\n",
       "    .dataframe tbody tr th:only-of-type {\n",
       "        vertical-align: middle;\n",
       "    }\n",
       "\n",
       "    .dataframe tbody tr th {\n",
       "        vertical-align: top;\n",
       "    }\n",
       "\n",
       "    .dataframe thead th {\n",
       "        text-align: right;\n",
       "    }\n",
       "</style>\n",
       "<table border=\"1\" class=\"dataframe\">\n",
       "  <thead>\n",
       "    <tr style=\"text-align: right;\">\n",
       "      <th></th>\n",
       "      <th>DIA</th>\n",
       "      <th>MES</th>\n",
       "      <th>ANIO</th>\n",
       "      <th>CLASE</th>\n",
       "      <th>CLUSTER</th>\n",
       "      <th>ESPECIAL</th>\n",
       "      <th>SEMANA</th>\n",
       "      <th>DIA_SEMANA</th>\n",
       "    </tr>\n",
       "  </thead>\n",
       "  <tbody>\n",
       "    <tr>\n",
       "      <th>0</th>\n",
       "      <td>1.0</td>\n",
       "      <td>1.0</td>\n",
       "      <td>2014.0</td>\n",
       "      <td>choque</td>\n",
       "      <td>0.0</td>\n",
       "      <td>1.0</td>\n",
       "      <td>0</td>\n",
       "      <td>2</td>\n",
       "    </tr>\n",
       "    <tr>\n",
       "      <th>1</th>\n",
       "      <td>1.0</td>\n",
       "      <td>1.0</td>\n",
       "      <td>2014.0</td>\n",
       "      <td>atropello</td>\n",
       "      <td>2.0</td>\n",
       "      <td>1.0</td>\n",
       "      <td>0</td>\n",
       "      <td>2</td>\n",
       "    </tr>\n",
       "    <tr>\n",
       "      <th>2</th>\n",
       "      <td>1.0</td>\n",
       "      <td>1.0</td>\n",
       "      <td>2014.0</td>\n",
       "      <td>atropello</td>\n",
       "      <td>0.0</td>\n",
       "      <td>1.0</td>\n",
       "      <td>0</td>\n",
       "      <td>2</td>\n",
       "    </tr>\n",
       "    <tr>\n",
       "      <th>3</th>\n",
       "      <td>1.0</td>\n",
       "      <td>1.0</td>\n",
       "      <td>2014.0</td>\n",
       "      <td>atropello</td>\n",
       "      <td>1.0</td>\n",
       "      <td>1.0</td>\n",
       "      <td>0</td>\n",
       "      <td>2</td>\n",
       "    </tr>\n",
       "    <tr>\n",
       "      <th>4</th>\n",
       "      <td>1.0</td>\n",
       "      <td>1.0</td>\n",
       "      <td>2014.0</td>\n",
       "      <td>caida ocupante</td>\n",
       "      <td>0.0</td>\n",
       "      <td>1.0</td>\n",
       "      <td>0</td>\n",
       "      <td>2</td>\n",
       "    </tr>\n",
       "    <tr>\n",
       "      <th>...</th>\n",
       "      <td>...</td>\n",
       "      <td>...</td>\n",
       "      <td>...</td>\n",
       "      <td>...</td>\n",
       "      <td>...</td>\n",
       "      <td>...</td>\n",
       "      <td>...</td>\n",
       "      <td>...</td>\n",
       "    </tr>\n",
       "    <tr>\n",
       "      <th>168503</th>\n",
       "      <td>22.0</td>\n",
       "      <td>11.0</td>\n",
       "      <td>2017.0</td>\n",
       "      <td>atropello</td>\n",
       "      <td>0.0</td>\n",
       "      <td>0.0</td>\n",
       "      <td>203</td>\n",
       "      <td>2</td>\n",
       "    </tr>\n",
       "    <tr>\n",
       "      <th>168504</th>\n",
       "      <td>9.0</td>\n",
       "      <td>12.0</td>\n",
       "      <td>2017.0</td>\n",
       "      <td>caida ocupante</td>\n",
       "      <td>0.0</td>\n",
       "      <td>0.0</td>\n",
       "      <td>205</td>\n",
       "      <td>5</td>\n",
       "    </tr>\n",
       "    <tr>\n",
       "      <th>168505</th>\n",
       "      <td>23.0</td>\n",
       "      <td>12.0</td>\n",
       "      <td>2017.0</td>\n",
       "      <td>atropello</td>\n",
       "      <td>2.0</td>\n",
       "      <td>0.0</td>\n",
       "      <td>207</td>\n",
       "      <td>5</td>\n",
       "    </tr>\n",
       "    <tr>\n",
       "      <th>168506</th>\n",
       "      <td>25.0</td>\n",
       "      <td>12.0</td>\n",
       "      <td>2017.0</td>\n",
       "      <td>choque</td>\n",
       "      <td>0.0</td>\n",
       "      <td>1.0</td>\n",
       "      <td>208</td>\n",
       "      <td>0</td>\n",
       "    </tr>\n",
       "    <tr>\n",
       "      <th>168507</th>\n",
       "      <td>30.0</td>\n",
       "      <td>12.0</td>\n",
       "      <td>2017.0</td>\n",
       "      <td>choque</td>\n",
       "      <td>2.0</td>\n",
       "      <td>0.0</td>\n",
       "      <td>208</td>\n",
       "      <td>5</td>\n",
       "    </tr>\n",
       "  </tbody>\n",
       "</table>\n",
       "<p>168508 rows × 8 columns</p>\n",
       "</div>"
      ],
      "text/plain": [
       "         DIA   MES    ANIO           CLASE  CLUSTER  ESPECIAL  SEMANA  \\\n",
       "0        1.0   1.0  2014.0          choque      0.0       1.0       0   \n",
       "1        1.0   1.0  2014.0       atropello      2.0       1.0       0   \n",
       "2        1.0   1.0  2014.0       atropello      0.0       1.0       0   \n",
       "3        1.0   1.0  2014.0       atropello      1.0       1.0       0   \n",
       "4        1.0   1.0  2014.0  caida ocupante      0.0       1.0       0   \n",
       "...      ...   ...     ...             ...      ...       ...     ...   \n",
       "168503  22.0  11.0  2017.0       atropello      0.0       0.0     203   \n",
       "168504   9.0  12.0  2017.0  caida ocupante      0.0       0.0     205   \n",
       "168505  23.0  12.0  2017.0       atropello      2.0       0.0     207   \n",
       "168506  25.0  12.0  2017.0          choque      0.0       1.0     208   \n",
       "168507  30.0  12.0  2017.0          choque      2.0       0.0     208   \n",
       "\n",
       "        DIA_SEMANA  \n",
       "0                2  \n",
       "1                2  \n",
       "2                2  \n",
       "3                2  \n",
       "4                2  \n",
       "...            ...  \n",
       "168503           2  \n",
       "168504           5  \n",
       "168505           5  \n",
       "168506           0  \n",
       "168507           5  \n",
       "\n",
       "[168508 rows x 8 columns]"
      ]
     },
     "execution_count": 417,
     "metadata": {},
     "output_type": "execute_result"
    }
   ],
   "source": [
    "features_train"
   ]
  },
  {
   "cell_type": "code",
   "execution_count": 418,
   "metadata": {
    "collapsed": false,
    "jupyter": {
     "outputs_hidden": false
    }
   },
   "outputs": [
    {
     "data": {
      "text/plain": [
       "\"\\n# Set up the plotting layout\\nfig, ((ax1, ax2), (ax3, ax4)) = plt.subplots(nrows=2, ncols=2, figsize = (10,10))\\nfig.autofmt_xdate(rotation = 45)\\n\\n# Actual max temperature measurement\\nax1.plot(dates, features['actual'])\\nax1.set_xlabel(''); ax1.set_ylabel('Temperature'); ax1.set_title('Max Temp')\\n\\n# Temperature from 1 day ago\\nax2.plot(dates, features['temp_1'])\\nax2.set_xlabel(''); ax2.set_ylabel('Temperature'); ax2.set_title('Previous Max Temp')\\n\\n# Temperature from 2 days ago\\nax3.plot(dates, features['temp_2'])\\nax3.set_xlabel('Date'); ax3.set_ylabel('Temperature'); ax3.set_title('Two Days Prior Max Temp')\\n\\n# Friend Estimate\\nax4.plot(dates, features['friend'])\\nax4.set_xlabel('Date'); ax4.set_ylabel('Temperature'); ax4.set_title('Friend Estimate')\\n\\nplt.tight_layout(pad=2)\\n\""
      ]
     },
     "execution_count": 418,
     "metadata": {},
     "output_type": "execute_result"
    }
   ],
   "source": [
    "\"\"\"\n",
    "# Set up the plotting layout\n",
    "fig, ((ax1, ax2), (ax3, ax4)) = plt.subplots(nrows=2, ncols=2, figsize = (10,10))\n",
    "fig.autofmt_xdate(rotation = 45)\n",
    "\n",
    "# Actual max temperature measurement\n",
    "ax1.plot(dates, features['actual'])\n",
    "ax1.set_xlabel(''); ax1.set_ylabel('Temperature'); ax1.set_title('Max Temp')\n",
    "\n",
    "# Temperature from 1 day ago\n",
    "ax2.plot(dates, features['temp_1'])\n",
    "ax2.set_xlabel(''); ax2.set_ylabel('Temperature'); ax2.set_title('Previous Max Temp')\n",
    "\n",
    "# Temperature from 2 days ago\n",
    "ax3.plot(dates, features['temp_2'])\n",
    "ax3.set_xlabel('Date'); ax3.set_ylabel('Temperature'); ax3.set_title('Two Days Prior Max Temp')\n",
    "\n",
    "# Friend Estimate\n",
    "ax4.plot(dates, features['friend'])\n",
    "ax4.set_xlabel('Date'); ax4.set_ylabel('Temperature'); ax4.set_title('Friend Estimate')\n",
    "\n",
    "plt.tight_layout(pad=2)\n",
    "\"\"\""
   ]
  },
  {
   "cell_type": "markdown",
   "metadata": {},
   "source": [
    "# Data Preparation"
   ]
  },
  {
   "cell_type": "markdown",
   "metadata": {},
   "source": [
    "### One-Hot Encoding"
   ]
  },
  {
   "cell_type": "code",
   "execution_count": 419,
   "metadata": {
    "collapsed": false,
    "hideCode": false,
    "hidePrompt": false,
    "jupyter": {
     "outputs_hidden": false
    }
   },
   "outputs": [],
   "source": [
    "# One-hot encode categorical features\n",
    "\n",
    "\n",
    "\"\"\"\n",
    "le = LabelEncoder()\n",
    "le.fit(features['CLASE'].unique())\n",
    "features['CLASE']=le.transform(features['BARRIO'])\n",
    "\"\"\"\n",
    "features_train = pd.get_dummies(features_train)\n",
    "features_train=features_train.groupby(['DIA_SEMANA','MES','ANIO','ESPECIAL','CLUSTER','SEMANA']).agg({'CLASE_atropello':'sum','CLASE_caida ocupante':'sum','CLASE_choque':'sum','CLASE_otro':'sum','CLASE_volcamiento':'sum'})\n",
    "nombre_columnasTipo=['atropello', 'caidaocupante','choque','otro','volcamiento']\n",
    "features_train.columns = nombre_columnasTipo\n",
    "features_train = features_train.reset_index()\n",
    "\n",
    "features_train.loc[features_train['CLUSTER'] == 0, 'CLUSTER'] = 'cluster0'\n",
    "features_train.loc[features_train['CLUSTER'] == 1, 'CLUSTER'] = 'cluster1'\n",
    "features_train.loc[features_train['CLUSTER'] == 2, 'CLUSTER'] = 'cluster2'\n",
    "\n",
    "features_train = pd.get_dummies(features_train)\n",
    "\n",
    "\n",
    "features_val = pd.get_dummies(features_val)\n",
    "features_val=features_val.groupby(['DIA_SEMANA','MES','ANIO','ESPECIAL','CLUSTER','SEMANA']).agg({'CLASE_atropello':'sum','CLASE_caida ocupante':'sum','CLASE_choque':'sum','CLASE_otro':'sum','CLASE_volcamiento':'sum'})\n",
    "nombre_columnasTipo=['atropello', 'caidaocupante','choque','otro','volcamiento']\n",
    "features_val.columns = nombre_columnasTipo\n",
    "features_val = features_val.reset_index()\n",
    "\n",
    "features_val.loc[features_val['CLUSTER'] == 0, 'CLUSTER'] = 'cluster0'\n",
    "features_val.loc[features_val['CLUSTER'] == 1, 'CLUSTER'] = 'cluster1'\n",
    "features_val.loc[features_val['CLUSTER'] == 2, 'CLUSTER'] = 'cluster2'\n",
    "\n",
    "features_val = pd.get_dummies(features_val)\n"
   ]
  },
  {
   "cell_type": "code",
   "execution_count": 420,
   "metadata": {
    "collapsed": false,
    "jupyter": {
     "outputs_hidden": false
    }
   },
   "outputs": [
    {
     "name": "stdout",
     "output_type": "stream",
     "text": [
      "Shape of features after one-hot encoding: (1089, 13)\n",
      "Shape of train after one-hot encoding: (4371, 13)\n"
     ]
    }
   ],
   "source": [
    "\n",
    "print('Shape of features after one-hot encoding:', features_val.shape)\n",
    "print('Shape of train after one-hot encoding:', features_train.shape)\n"
   ]
  },
  {
   "cell_type": "markdown",
   "metadata": {},
   "source": [
    "### Features and Labels and Convert Data to Arrays"
   ]
  },
  {
   "cell_type": "code",
   "execution_count": 421,
   "metadata": {},
   "outputs": [],
   "source": [
    "# Use numpy to convert to arrays\n",
    "import numpy as np\n",
    "\n",
    "# Labels are the values we want to predict\n",
    "\n",
    "label_train = np.array(features_train[['atropello', 'caidaocupante','choque','otro','volcamiento']])\n",
    "label_val = np.array(features_val[['atropello', 'caidaocupante','choque','otro','volcamiento']])\n",
    "\n",
    "# Remove the labels from the features\n",
    "# axis 1 refers to the columns\n",
    "features_train= features_train.drop(['atropello', 'caidaocupante','choque','otro','volcamiento'], axis = 1)\n",
    "features_val= features_val.drop(['atropello', 'caidaocupante','choque','otro','volcamiento'], axis = 1)\n",
    "\n",
    "feature_list = list(features_train.columns)\n",
    "\n",
    "features_train= np.array(features_train)\n",
    "features_val= np.array(features_val)\n",
    "\n",
    "\n",
    "\n"
   ]
  },
  {
   "cell_type": "markdown",
   "metadata": {},
   "source": [
    "### Conjuntos de prueba"
   ]
  },
  {
   "cell_type": "code",
   "execution_count": 422,
   "metadata": {
    "collapsed": false,
    "jupyter": {
     "outputs_hidden": false
    }
   },
   "outputs": [
    {
     "name": "stdout",
     "output_type": "stream",
     "text": [
      "Training Features Shape: (4371, 8)\n",
      "Training Labels Shape: (4371, 5)\n",
      "Testing Features Shape: (1089, 8)\n",
      "Testing Labels Shape: (1089, 5)\n"
     ]
    }
   ],
   "source": [
    "print('Training Features Shape:', features_train.shape)\n",
    "print('Training Labels Shape:', label_train.shape)\n",
    "print('Testing Features Shape:', features_val.shape)\n",
    "print('Testing Labels Shape:', label_val.shape)"
   ]
  },
  {
   "cell_type": "markdown",
   "metadata": {},
   "source": [
    "# Establish Baseline"
   ]
  },
  {
   "cell_type": "code",
   "execution_count": 423,
   "metadata": {
    "collapsed": false,
    "jupyter": {
     "outputs_hidden": false
    }
   },
   "outputs": [
    {
     "data": {
      "text/plain": [
       "\"\\n# The baseline predictions are the historical averages\\nbaseline_preds = test_features[:, feature_list.index('average')]\\n\\n# Baseline errors, and display average baseline error\\nbaseline_errors = abs(baseline_preds - test_labels)\\nprint('Average baseline error: ', round(np.mean(baseline_errors), 2), 'degrees.')\\n\""
      ]
     },
     "execution_count": 423,
     "metadata": {},
     "output_type": "execute_result"
    }
   ],
   "source": [
    "\"\"\"\n",
    "# The baseline predictions are the historical averages\n",
    "baseline_preds = test_features[:, feature_list.index('average')]\n",
    "\n",
    "# Baseline errors, and display average baseline error\n",
    "baseline_errors = abs(baseline_preds - test_labels)\n",
    "print('Average baseline error: ', round(np.mean(baseline_errors), 2), 'degrees.')\n",
    "\"\"\""
   ]
  },
  {
   "cell_type": "markdown",
   "metadata": {},
   "source": [
    "# Train Model"
   ]
  },
  {
   "cell_type": "code",
   "execution_count": 424,
   "metadata": {
    "hideCode": false,
    "hidePrompt": false
   },
   "outputs": [],
   "source": [
    "# Import the model we are using\n",
    "from sklearn.ensemble import RandomForestRegressor\n",
    "\n",
    "# Instantiate model \n",
    "rf = RandomForestRegressor(n_estimators= 1000, min_samples_leaf=50, random_state=42)\n",
    "\n",
    "# Train the model on training data\n",
    "rf.fit(features_train,label_train);\n"
   ]
  },
  {
   "cell_type": "code",
   "execution_count": null,
   "metadata": {},
   "outputs": [],
   "source": []
  },
  {
   "cell_type": "markdown",
   "metadata": {},
   "source": [
    "# Make Predictions on Test Data"
   ]
  },
  {
   "cell_type": "code",
   "execution_count": 425,
   "metadata": {
    "collapsed": false,
    "jupyter": {
     "outputs_hidden": false
    }
   },
   "outputs": [
    {
     "name": "stdout",
     "output_type": "stream",
     "text": [
      "error validacion: 11.350853964079027 erro prueva 11.098365715779519\n"
     ]
    },
    {
     "data": {
      "text/plain": [
       "[<matplotlib.lines.Line2D at 0x29501806490>]"
      ]
     },
     "execution_count": 425,
     "metadata": {},
     "output_type": "execute_result"
    },
    {
     "data": {
      "image/png": "[encoded data removed]",
      "text/plain": [
       "<Figure size 432x288 with 1 Axes>"
      ]
     },
     "metadata": {
      "needs_background": "light"
     },
     "output_type": "display_data"
    }
   ],
   "source": [
    "from sklearn.metrics import mean_squared_error as rmse\n",
    "# Use the forest's predict method on the test data\n",
    "prediccion_validacion = rf.predict(features_val)\n",
    "prediccion_entrenamiento=rf.predict(features_train)\n",
    "# Calculate the absolute errors\n",
    "error=rmse(label_val, prediccion_validacion)\n",
    "error2=rmse(label_train, prediccion_entrenamiento)\n",
    "\n",
    "# Print out the mean absolute error (mae)\n",
    "print('error validacion:', error,\"erro prueva\",error2)\n",
    "#plt.plot(prediccion_validacion[80])\n",
    "#plt.plot(test_labels[80])\n",
    "plt.plot(prediccion_entrenamiento[100:500,3])\n",
    "\n",
    "plt.plot(label_train[100:500,3])\n"
   ]
  },
  {
   "cell_type": "code",
   "execution_count": 426,
   "metadata": {},
   "outputs": [
    {
     "name": "stdout",
     "output_type": "stream",
     "text": [
      "Variable: CLUSTER_cluster1     Importance: 0.81\n",
      "Variable: DIA_SEMANA           Importance: 0.09\n",
      "Variable: ESPECIAL             Importance: 0.04\n",
      "Variable: CLUSTER_cluster0     Importance: 0.02\n",
      "Variable: CLUSTER_cluster2     Importance: 0.02\n",
      "Variable: MES                  Importance: 0.01\n",
      "Variable: SEMANA               Importance: 0.01\n",
      "Variable: ANIO                 Importance: 0.0\n"
     ]
    }
   ],
   "source": [
    "\n",
    "# Get numerical feature importances\n",
    "importances = list(rf.feature_importances_)\n",
    "\n",
    "# List of tuples with variable and importance\n",
    "feature_importances = [(feature, round(importance, 2)) for feature, importance in zip(feature_list, importances)]\n",
    "\n",
    "# Sort the feature importances by most important first\n",
    "feature_importances = sorted(feature_importances, key = lambda x: x[1], reverse = True)\n",
    "\n",
    "# Print out the feature and importances \n",
    "[print('Variable: {:20} Importance: {}'.format(*pair)) for pair in feature_importances];"
   ]
  }
 ],
 "metadata": {
  "hide_code_all_hidden": false,
  "kernelspec": {
   "display_name": "Python 3",
   "language": "python",
   "name": "python3"
  },
  "language_info": {
   "codemirror_mode": {
    "name": "ipython",
    "version": 3
   },
   "file_extension": ".py",
   "mimetype": "text/x-python",
   "name": "python",
   "nbconvert_exporter": "python",
   "pygments_lexer": "ipython3",
   "version": "3.8.5"
  }
 },
 "nbformat": 4,
 "nbformat_minor": 4
}
