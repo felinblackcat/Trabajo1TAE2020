{
 "cells": [
  {
   "cell_type": "markdown",
   "metadata": {},
   "source": [
    "# Ask Question"
   ]
  },
  {
   "cell_type": "markdown",
   "metadata": {},
   "source": [
    "Can we predict the maximum temperature tomorrow for Seattle, Washington given one year of historical data? "
   ]
  },
  {
   "cell_type": "markdown",
   "metadata": {},
   "source": [
    "The data we have available is the maximum temperatures in Seattle from the National Oceanic and Atmospheric Administration's (NOAA) [Climate Data Online Tool](https://www.ncdc.noaa.gov/cdo-web/)."
   ]
  },
  {
   "cell_type": "markdown",
   "metadata": {},
   "source": [
    "# Data Acqusition"
   ]
  },
  {
   "cell_type": "code",
   "execution_count": 1,
   "metadata": {
    "collapsed": false,
    "hideCode": false,
    "hidePrompt": false,
    "jupyter": {
     "outputs_hidden": false
    }
   },
   "outputs": [],
   "source": [
    "# Pandas is used for data manipulation\n",
    "import pandas as pd\n",
    "from matplotlib import pyplot as plt\n",
    "\n",
    "# Read in data as pandas dataframe and display first 5 rows\n",
    "\n",
    "features_train = pd.read_csv('data/train.csv')\n",
    "features_val = pd.read_csv('data/val.csv')\n",
    "#features = pd.concat([data_train, data_val])\n",
    "import joblib\n",
    "\n",
    "\n",
    "from sklearn.preprocessing import LabelEncoder\n",
    "\n"
   ]
  },
  {
   "cell_type": "markdown",
   "metadata": {},
   "source": [
    "# Identify Anomalies"
   ]
  },
  {
   "cell_type": "code",
   "execution_count": 2,
   "metadata": {
    "collapsed": false,
    "hideCode": false,
    "hidePrompt": false,
    "jupyter": {
     "outputs_hidden": false
    }
   },
   "outputs": [
    {
     "name": "stdout",
     "output_type": "stream",
     "text": [
      "The shape of our features is: (168508, 7)\n",
      "The shape of our features is: (40229, 7)\n"
     ]
    }
   ],
   "source": [
    "print('The shape of our features is:', features_train.shape)\n",
    "print('The shape of our features is:', features_val.shape)\n"
   ]
  },
  {
   "cell_type": "code",
   "execution_count": 3,
   "metadata": {
    "collapsed": false,
    "jupyter": {
     "outputs_hidden": false
    }
   },
   "outputs": [
    {
     "data": {
      "text/html": [
       "<div>\n",
       "<style scoped>\n",
       "    .dataframe tbody tr th:only-of-type {\n",
       "        vertical-align: middle;\n",
       "    }\n",
       "\n",
       "    .dataframe tbody tr th {\n",
       "        vertical-align: top;\n",
       "    }\n",
       "\n",
       "    .dataframe thead th {\n",
       "        text-align: right;\n",
       "    }\n",
       "</style>\n",
       "<table border=\"1\" class=\"dataframe\">\n",
       "  <thead>\n",
       "    <tr style=\"text-align: right;\">\n",
       "      <th></th>\n",
       "      <th>DIA</th>\n",
       "      <th>MES</th>\n",
       "      <th>ANIO</th>\n",
       "      <th>CLUSTER</th>\n",
       "      <th>ESPECIAL</th>\n",
       "      <th>SEMANA</th>\n",
       "    </tr>\n",
       "  </thead>\n",
       "  <tbody>\n",
       "    <tr>\n",
       "      <th>count</th>\n",
       "      <td>168508.000000</td>\n",
       "      <td>168508.000000</td>\n",
       "      <td>168508.000000</td>\n",
       "      <td>168508.000000</td>\n",
       "      <td>168508.000000</td>\n",
       "      <td>168508.000000</td>\n",
       "    </tr>\n",
       "    <tr>\n",
       "      <th>mean</th>\n",
       "      <td>15.723467</td>\n",
       "      <td>6.588542</td>\n",
       "      <td>2015.511074</td>\n",
       "      <td>0.847265</td>\n",
       "      <td>0.029631</td>\n",
       "      <td>105.009157</td>\n",
       "    </tr>\n",
       "    <tr>\n",
       "      <th>std</th>\n",
       "      <td>8.759809</td>\n",
       "      <td>3.398587</td>\n",
       "      <td>1.116261</td>\n",
       "      <td>0.963954</td>\n",
       "      <td>0.169567</td>\n",
       "      <td>60.160867</td>\n",
       "    </tr>\n",
       "    <tr>\n",
       "      <th>min</th>\n",
       "      <td>1.000000</td>\n",
       "      <td>1.000000</td>\n",
       "      <td>2014.000000</td>\n",
       "      <td>0.000000</td>\n",
       "      <td>0.000000</td>\n",
       "      <td>0.000000</td>\n",
       "    </tr>\n",
       "    <tr>\n",
       "      <th>25%</th>\n",
       "      <td>8.000000</td>\n",
       "      <td>4.000000</td>\n",
       "      <td>2015.000000</td>\n",
       "      <td>0.000000</td>\n",
       "      <td>0.000000</td>\n",
       "      <td>53.000000</td>\n",
       "    </tr>\n",
       "    <tr>\n",
       "      <th>50%</th>\n",
       "      <td>16.000000</td>\n",
       "      <td>7.000000</td>\n",
       "      <td>2016.000000</td>\n",
       "      <td>0.000000</td>\n",
       "      <td>0.000000</td>\n",
       "      <td>106.000000</td>\n",
       "    </tr>\n",
       "    <tr>\n",
       "      <th>75%</th>\n",
       "      <td>23.000000</td>\n",
       "      <td>10.000000</td>\n",
       "      <td>2017.000000</td>\n",
       "      <td>2.000000</td>\n",
       "      <td>0.000000</td>\n",
       "      <td>157.000000</td>\n",
       "    </tr>\n",
       "    <tr>\n",
       "      <th>max</th>\n",
       "      <td>31.000000</td>\n",
       "      <td>12.000000</td>\n",
       "      <td>2017.000000</td>\n",
       "      <td>2.000000</td>\n",
       "      <td>1.000000</td>\n",
       "      <td>208.000000</td>\n",
       "    </tr>\n",
       "  </tbody>\n",
       "</table>\n",
       "</div>"
      ],
      "text/plain": [
       "                 DIA            MES           ANIO        CLUSTER  \\\n",
       "count  168508.000000  168508.000000  168508.000000  168508.000000   \n",
       "mean       15.723467       6.588542    2015.511074       0.847265   \n",
       "std         8.759809       3.398587       1.116261       0.963954   \n",
       "min         1.000000       1.000000    2014.000000       0.000000   \n",
       "25%         8.000000       4.000000    2015.000000       0.000000   \n",
       "50%        16.000000       7.000000    2016.000000       0.000000   \n",
       "75%        23.000000      10.000000    2017.000000       2.000000   \n",
       "max        31.000000      12.000000    2017.000000       2.000000   \n",
       "\n",
       "            ESPECIAL         SEMANA  \n",
       "count  168508.000000  168508.000000  \n",
       "mean        0.029631     105.009157  \n",
       "std         0.169567      60.160867  \n",
       "min         0.000000       0.000000  \n",
       "25%         0.000000      53.000000  \n",
       "50%         0.000000     106.000000  \n",
       "75%         0.000000     157.000000  \n",
       "max         1.000000     208.000000  "
      ]
     },
     "execution_count": 3,
     "metadata": {},
     "output_type": "execute_result"
    }
   ],
   "source": [
    "# Descriptive statistics for each column\n",
    "features_train.describe()"
   ]
  },
  {
   "cell_type": "code",
   "execution_count": 4,
   "metadata": {},
   "outputs": [
    {
     "data": {
      "text/plain": [
       "'\"\\n# Use datetime for dealing with dates\\nimport datetime\\n\\n# Get years, months, and days\\nyears = features[\\'ANIO\\']\\nmonths = features[\\'MES\\']\\ndays = features[\\'DIA\\']\\n\\n# List and then convert to datetime object\\ndates = [str(int(year)) + \\'-\\' + str(int(month)) + \\'-\\' + str(int(day)) for year, month, day in zip(years, months, days)]\\ndates = [datetime.datetime.strptime(date, \\'%Y-%m-%d\\') for date in dates]\\n'"
      ]
     },
     "execution_count": 4,
     "metadata": {},
     "output_type": "execute_result"
    }
   ],
   "source": [
    "\"\"\"\"\n",
    "# Use datetime for dealing with dates\n",
    "import datetime\n",
    "\n",
    "# Get years, months, and days\n",
    "years = features['ANIO']\n",
    "months = features['MES']\n",
    "days = features['DIA']\n",
    "\n",
    "# List and then convert to datetime object\n",
    "dates = [str(int(year)) + '-' + str(int(month)) + '-' + str(int(day)) for year, month, day in zip(years, months, days)]\n",
    "dates = [datetime.datetime.strptime(date, '%Y-%m-%d') for date in dates]\n",
    "\"\"\""
   ]
  },
  {
   "cell_type": "code",
   "execution_count": 5,
   "metadata": {},
   "outputs": [
    {
     "data": {
      "text/plain": [
       "\"\\n# Import matplotlib for plotting and use magic command for Jupyter Notebooks\\nimport matplotlib.pyplot as plt\\n\\n%matplotlib inline\\n\\n# Set the style\\nplt.style.use('fivethirtyeight')\\n\""
      ]
     },
     "execution_count": 5,
     "metadata": {},
     "output_type": "execute_result"
    }
   ],
   "source": [
    "\"\"\"\n",
    "# Import matplotlib for plotting and use magic command for Jupyter Notebooks\n",
    "import matplotlib.pyplot as plt\n",
    "\n",
    "%matplotlib inline\n",
    "\n",
    "# Set the style\n",
    "plt.style.use('fivethirtyeight')\n",
    "\"\"\""
   ]
  },
  {
   "cell_type": "code",
   "execution_count": 6,
   "metadata": {
    "collapsed": false,
    "jupyter": {
     "outputs_hidden": false
    }
   },
   "outputs": [
    {
     "data": {
      "text/plain": [
       "\"\\n# Set up the plotting layout\\nfig, ((ax1, ax2), (ax3, ax4)) = plt.subplots(nrows=2, ncols=2, figsize = (10,10))\\nfig.autofmt_xdate(rotation = 45)\\n\\n# Actual max temperature measurement\\nax1.plot(dates, features['actual'])\\nax1.set_xlabel(''); ax1.set_ylabel('Temperature'); ax1.set_title('Max Temp')\\n\\n# Temperature from 1 day ago\\nax2.plot(dates, features['temp_1'])\\nax2.set_xlabel(''); ax2.set_ylabel('Temperature'); ax2.set_title('Previous Max Temp')\\n\\n# Temperature from 2 days ago\\nax3.plot(dates, features['temp_2'])\\nax3.set_xlabel('Date'); ax3.set_ylabel('Temperature'); ax3.set_title('Two Days Prior Max Temp')\\n\\n# Friend Estimate\\nax4.plot(dates, features['friend'])\\nax4.set_xlabel('Date'); ax4.set_ylabel('Temperature'); ax4.set_title('Friend Estimate')\\n\\nplt.tight_layout(pad=2)\\n\""
      ]
     },
     "execution_count": 6,
     "metadata": {},
     "output_type": "execute_result"
    }
   ],
   "source": [
    "\"\"\"\n",
    "# Set up the plotting layout\n",
    "fig, ((ax1, ax2), (ax3, ax4)) = plt.subplots(nrows=2, ncols=2, figsize = (10,10))\n",
    "fig.autofmt_xdate(rotation = 45)\n",
    "\n",
    "# Actual max temperature measurement\n",
    "ax1.plot(dates, features['actual'])\n",
    "ax1.set_xlabel(''); ax1.set_ylabel('Temperature'); ax1.set_title('Max Temp')\n",
    "\n",
    "# Temperature from 1 day ago\n",
    "ax2.plot(dates, features['temp_1'])\n",
    "ax2.set_xlabel(''); ax2.set_ylabel('Temperature'); ax2.set_title('Previous Max Temp')\n",
    "\n",
    "# Temperature from 2 days ago\n",
    "ax3.plot(dates, features['temp_2'])\n",
    "ax3.set_xlabel('Date'); ax3.set_ylabel('Temperature'); ax3.set_title('Two Days Prior Max Temp')\n",
    "\n",
    "# Friend Estimate\n",
    "ax4.plot(dates, features['friend'])\n",
    "ax4.set_xlabel('Date'); ax4.set_ylabel('Temperature'); ax4.set_title('Friend Estimate')\n",
    "\n",
    "plt.tight_layout(pad=2)\n",
    "\"\"\""
   ]
  },
  {
   "cell_type": "markdown",
   "metadata": {},
   "source": [
    "# Data Preparation"
   ]
  },
  {
   "cell_type": "markdown",
   "metadata": {},
   "source": [
    "### One-Hot Encoding"
   ]
  },
  {
   "cell_type": "markdown",
   "metadata": {},
   "source": [
    "One hot encoding takes this:\n",
    "\n",
    "| week |\n",
    "|------|\n",
    "| Mon  |\n",
    "| Tue  |\n",
    "| Wed  |\n",
    "| Thu  |\n",
    "| Fri  |\n",
    "| Sat  |\n",
    "| Sun  |\n",
    "\n",
    "and converts it into:\n",
    "\n",
    "| Mon | Tue | Wed | Thu | Fri | Sat | Sun |\n",
    "|-----|-----|-----|-----|-----|-----|-----|\n",
    "| 1   | 0   | 0   | 0   | 0   |  0  |  0  |\n",
    "| 0   | 1   | 0   | 0   | 0   |  0  |  0  |\n",
    "| 0   | 0   | 1   | 0   | 0   |  0  |  0  |\n",
    "| 0   | 0   | 0   | 1   | 0   |  0  |  0  |\n",
    "| 0   | 0   | 0   | 0   | 1   |  0  |  0  |\n",
    "| 0   | 0   | 0   | 0   | 0   |  1  |  0  |\n",
    "| 0   | 0   | 0   | 0   | 0   |  0  |  1  |"
   ]
  },
  {
   "cell_type": "code",
   "execution_count": 7,
   "metadata": {
    "collapsed": false,
    "hideCode": false,
    "hidePrompt": false,
    "jupyter": {
     "outputs_hidden": false
    }
   },
   "outputs": [],
   "source": [
    "features_train['DIA_SEMANA']=pd.to_datetime(features_train['ANIO']*10000+features_train['MES']*100+features_train['DIA'],format='%Y%m%d').dt.dayofweek\n",
    "features_val['DIA_SEMANA']=pd.to_datetime(features_val['ANIO']*10000+features_val['MES']*100+features_val['DIA'],format='%Y%m%d').dt.dayofweek\n",
    "\n",
    "\n",
    "features_train = pd.get_dummies(features_train)\n",
    "features_train=features_train.groupby(['MES','ANIO','CLUSTER']).agg({'CLASE_atropello':'sum','CLASE_caida ocupante':'sum','CLASE_choque':'sum','CLASE_otro':'sum','CLASE_volcamiento':'sum'})\n",
    "nombre_columnasTipo=['atropello', 'caidaocupante','choque','otro','volcamiento']\n",
    "features_train.columns = nombre_columnasTipo\n",
    "features_train = features_train.reset_index()\n",
    "\n",
    "features_train.loc[features_train['CLUSTER'] == 0, 'CLUSTER'] = 'cluster0'\n",
    "features_train.loc[features_train['CLUSTER'] == 1, 'CLUSTER'] = 'cluster1'\n",
    "features_train.loc[features_train['CLUSTER'] == 2, 'CLUSTER'] = 'cluster2'\n",
    "\n",
    "features_train = pd.get_dummies(features_train)\n",
    "\n",
    "\n",
    "features_val = pd.get_dummies(features_val)\n",
    "features_val=features_val.groupby(['MES','ANIO','CLUSTER']).agg({'CLASE_atropello':'sum','CLASE_caida ocupante':'sum','CLASE_choque':'sum','CLASE_otro':'sum','CLASE_volcamiento':'sum'})\n",
    "nombre_columnasTipo=['atropello', 'caidaocupante','choque','otro','volcamiento']\n",
    "features_val.columns = nombre_columnasTipo\n",
    "features_val = features_val.reset_index()\n",
    "\n",
    "features_val.loc[features_val['CLUSTER'] == 0, 'CLUSTER'] = 'cluster0'\n",
    "features_val.loc[features_val['CLUSTER'] == 1, 'CLUSTER'] = 'cluster1'\n",
    "features_val.loc[features_val['CLUSTER'] == 2, 'CLUSTER'] = 'cluster2'\n",
    "\n",
    "features_val = pd.get_dummies(features_val)\n"
   ]
  },
  {
   "cell_type": "code",
   "execution_count": 8,
   "metadata": {},
   "outputs": [
    {
     "data": {
      "text/html": [
       "<div>\n",
       "<style scoped>\n",
       "    .dataframe tbody tr th:only-of-type {\n",
       "        vertical-align: middle;\n",
       "    }\n",
       "\n",
       "    .dataframe tbody tr th {\n",
       "        vertical-align: top;\n",
       "    }\n",
       "\n",
       "    .dataframe thead th {\n",
       "        text-align: right;\n",
       "    }\n",
       "</style>\n",
       "<table border=\"1\" class=\"dataframe\">\n",
       "  <thead>\n",
       "    <tr style=\"text-align: right;\">\n",
       "      <th></th>\n",
       "      <th>MES</th>\n",
       "      <th>ANIO</th>\n",
       "      <th>atropello</th>\n",
       "      <th>caidaocupante</th>\n",
       "      <th>choque</th>\n",
       "      <th>otro</th>\n",
       "      <th>volcamiento</th>\n",
       "      <th>CLUSTER_cluster0</th>\n",
       "      <th>CLUSTER_cluster1</th>\n",
       "      <th>CLUSTER_cluster2</th>\n",
       "    </tr>\n",
       "  </thead>\n",
       "  <tbody>\n",
       "    <tr>\n",
       "      <th>0</th>\n",
       "      <td>1.0</td>\n",
       "      <td>2018.0</td>\n",
       "      <td>164</td>\n",
       "      <td>182</td>\n",
       "      <td>1068.0</td>\n",
       "      <td>215</td>\n",
       "      <td>47</td>\n",
       "      <td>1</td>\n",
       "      <td>0</td>\n",
       "      <td>0</td>\n",
       "    </tr>\n",
       "    <tr>\n",
       "      <th>1</th>\n",
       "      <td>1.0</td>\n",
       "      <td>2018.0</td>\n",
       "      <td>12</td>\n",
       "      <td>18</td>\n",
       "      <td>70.0</td>\n",
       "      <td>22</td>\n",
       "      <td>5</td>\n",
       "      <td>0</td>\n",
       "      <td>1</td>\n",
       "      <td>0</td>\n",
       "    </tr>\n",
       "    <tr>\n",
       "      <th>2</th>\n",
       "      <td>1.0</td>\n",
       "      <td>2018.0</td>\n",
       "      <td>94</td>\n",
       "      <td>74</td>\n",
       "      <td>848.0</td>\n",
       "      <td>111</td>\n",
       "      <td>23</td>\n",
       "      <td>0</td>\n",
       "      <td>0</td>\n",
       "      <td>1</td>\n",
       "    </tr>\n",
       "    <tr>\n",
       "      <th>3</th>\n",
       "      <td>2.0</td>\n",
       "      <td>2018.0</td>\n",
       "      <td>165</td>\n",
       "      <td>192</td>\n",
       "      <td>1239.0</td>\n",
       "      <td>177</td>\n",
       "      <td>59</td>\n",
       "      <td>1</td>\n",
       "      <td>0</td>\n",
       "      <td>0</td>\n",
       "    </tr>\n",
       "    <tr>\n",
       "      <th>4</th>\n",
       "      <td>2.0</td>\n",
       "      <td>2018.0</td>\n",
       "      <td>13</td>\n",
       "      <td>19</td>\n",
       "      <td>82.0</td>\n",
       "      <td>18</td>\n",
       "      <td>3</td>\n",
       "      <td>0</td>\n",
       "      <td>1</td>\n",
       "      <td>0</td>\n",
       "    </tr>\n",
       "    <tr>\n",
       "      <th>5</th>\n",
       "      <td>2.0</td>\n",
       "      <td>2018.0</td>\n",
       "      <td>79</td>\n",
       "      <td>68</td>\n",
       "      <td>1015.0</td>\n",
       "      <td>86</td>\n",
       "      <td>31</td>\n",
       "      <td>0</td>\n",
       "      <td>0</td>\n",
       "      <td>1</td>\n",
       "    </tr>\n",
       "    <tr>\n",
       "      <th>6</th>\n",
       "      <td>3.0</td>\n",
       "      <td>2018.0</td>\n",
       "      <td>199</td>\n",
       "      <td>244</td>\n",
       "      <td>1216.0</td>\n",
       "      <td>190</td>\n",
       "      <td>51</td>\n",
       "      <td>1</td>\n",
       "      <td>0</td>\n",
       "      <td>0</td>\n",
       "    </tr>\n",
       "    <tr>\n",
       "      <th>7</th>\n",
       "      <td>3.0</td>\n",
       "      <td>2018.0</td>\n",
       "      <td>15</td>\n",
       "      <td>25</td>\n",
       "      <td>101.0</td>\n",
       "      <td>20</td>\n",
       "      <td>5</td>\n",
       "      <td>0</td>\n",
       "      <td>1</td>\n",
       "      <td>0</td>\n",
       "    </tr>\n",
       "    <tr>\n",
       "      <th>8</th>\n",
       "      <td>3.0</td>\n",
       "      <td>2018.0</td>\n",
       "      <td>95</td>\n",
       "      <td>119</td>\n",
       "      <td>921.0</td>\n",
       "      <td>100</td>\n",
       "      <td>29</td>\n",
       "      <td>0</td>\n",
       "      <td>0</td>\n",
       "      <td>1</td>\n",
       "    </tr>\n",
       "    <tr>\n",
       "      <th>9</th>\n",
       "      <td>4.0</td>\n",
       "      <td>2018.0</td>\n",
       "      <td>188</td>\n",
       "      <td>204</td>\n",
       "      <td>1225.0</td>\n",
       "      <td>183</td>\n",
       "      <td>58</td>\n",
       "      <td>1</td>\n",
       "      <td>0</td>\n",
       "      <td>0</td>\n",
       "    </tr>\n",
       "    <tr>\n",
       "      <th>10</th>\n",
       "      <td>4.0</td>\n",
       "      <td>2018.0</td>\n",
       "      <td>21</td>\n",
       "      <td>16</td>\n",
       "      <td>105.0</td>\n",
       "      <td>15</td>\n",
       "      <td>4</td>\n",
       "      <td>0</td>\n",
       "      <td>1</td>\n",
       "      <td>0</td>\n",
       "    </tr>\n",
       "    <tr>\n",
       "      <th>11</th>\n",
       "      <td>4.0</td>\n",
       "      <td>2018.0</td>\n",
       "      <td>102</td>\n",
       "      <td>89</td>\n",
       "      <td>1026.0</td>\n",
       "      <td>105</td>\n",
       "      <td>31</td>\n",
       "      <td>0</td>\n",
       "      <td>0</td>\n",
       "      <td>1</td>\n",
       "    </tr>\n",
       "    <tr>\n",
       "      <th>12</th>\n",
       "      <td>5.0</td>\n",
       "      <td>2018.0</td>\n",
       "      <td>207</td>\n",
       "      <td>236</td>\n",
       "      <td>1282.0</td>\n",
       "      <td>211</td>\n",
       "      <td>61</td>\n",
       "      <td>1</td>\n",
       "      <td>0</td>\n",
       "      <td>0</td>\n",
       "    </tr>\n",
       "    <tr>\n",
       "      <th>13</th>\n",
       "      <td>5.0</td>\n",
       "      <td>2018.0</td>\n",
       "      <td>15</td>\n",
       "      <td>18</td>\n",
       "      <td>111.0</td>\n",
       "      <td>18</td>\n",
       "      <td>4</td>\n",
       "      <td>0</td>\n",
       "      <td>1</td>\n",
       "      <td>0</td>\n",
       "    </tr>\n",
       "    <tr>\n",
       "      <th>14</th>\n",
       "      <td>5.0</td>\n",
       "      <td>2018.0</td>\n",
       "      <td>84</td>\n",
       "      <td>92</td>\n",
       "      <td>1025.0</td>\n",
       "      <td>112</td>\n",
       "      <td>45</td>\n",
       "      <td>0</td>\n",
       "      <td>0</td>\n",
       "      <td>1</td>\n",
       "    </tr>\n",
       "    <tr>\n",
       "      <th>15</th>\n",
       "      <td>6.0</td>\n",
       "      <td>2018.0</td>\n",
       "      <td>202</td>\n",
       "      <td>194</td>\n",
       "      <td>1212.0</td>\n",
       "      <td>213</td>\n",
       "      <td>61</td>\n",
       "      <td>1</td>\n",
       "      <td>0</td>\n",
       "      <td>0</td>\n",
       "    </tr>\n",
       "    <tr>\n",
       "      <th>16</th>\n",
       "      <td>6.0</td>\n",
       "      <td>2018.0</td>\n",
       "      <td>15</td>\n",
       "      <td>12</td>\n",
       "      <td>98.0</td>\n",
       "      <td>23</td>\n",
       "      <td>4</td>\n",
       "      <td>0</td>\n",
       "      <td>1</td>\n",
       "      <td>0</td>\n",
       "    </tr>\n",
       "    <tr>\n",
       "      <th>17</th>\n",
       "      <td>6.0</td>\n",
       "      <td>2018.0</td>\n",
       "      <td>106</td>\n",
       "      <td>94</td>\n",
       "      <td>910.0</td>\n",
       "      <td>111</td>\n",
       "      <td>30</td>\n",
       "      <td>0</td>\n",
       "      <td>0</td>\n",
       "      <td>1</td>\n",
       "    </tr>\n",
       "    <tr>\n",
       "      <th>18</th>\n",
       "      <td>7.0</td>\n",
       "      <td>2018.0</td>\n",
       "      <td>187</td>\n",
       "      <td>200</td>\n",
       "      <td>1194.0</td>\n",
       "      <td>231</td>\n",
       "      <td>72</td>\n",
       "      <td>1</td>\n",
       "      <td>0</td>\n",
       "      <td>0</td>\n",
       "    </tr>\n",
       "    <tr>\n",
       "      <th>19</th>\n",
       "      <td>7.0</td>\n",
       "      <td>2018.0</td>\n",
       "      <td>18</td>\n",
       "      <td>19</td>\n",
       "      <td>87.0</td>\n",
       "      <td>16</td>\n",
       "      <td>6</td>\n",
       "      <td>0</td>\n",
       "      <td>1</td>\n",
       "      <td>0</td>\n",
       "    </tr>\n",
       "    <tr>\n",
       "      <th>20</th>\n",
       "      <td>7.0</td>\n",
       "      <td>2018.0</td>\n",
       "      <td>93</td>\n",
       "      <td>97</td>\n",
       "      <td>976.0</td>\n",
       "      <td>95</td>\n",
       "      <td>30</td>\n",
       "      <td>0</td>\n",
       "      <td>0</td>\n",
       "      <td>1</td>\n",
       "    </tr>\n",
       "    <tr>\n",
       "      <th>21</th>\n",
       "      <td>8.0</td>\n",
       "      <td>2018.0</td>\n",
       "      <td>191</td>\n",
       "      <td>237</td>\n",
       "      <td>1296.0</td>\n",
       "      <td>188</td>\n",
       "      <td>53</td>\n",
       "      <td>1</td>\n",
       "      <td>0</td>\n",
       "      <td>0</td>\n",
       "    </tr>\n",
       "    <tr>\n",
       "      <th>22</th>\n",
       "      <td>8.0</td>\n",
       "      <td>2018.0</td>\n",
       "      <td>28</td>\n",
       "      <td>16</td>\n",
       "      <td>106.0</td>\n",
       "      <td>17</td>\n",
       "      <td>3</td>\n",
       "      <td>0</td>\n",
       "      <td>1</td>\n",
       "      <td>0</td>\n",
       "    </tr>\n",
       "    <tr>\n",
       "      <th>23</th>\n",
       "      <td>8.0</td>\n",
       "      <td>2018.0</td>\n",
       "      <td>96</td>\n",
       "      <td>87</td>\n",
       "      <td>1139.0</td>\n",
       "      <td>107</td>\n",
       "      <td>26</td>\n",
       "      <td>0</td>\n",
       "      <td>0</td>\n",
       "      <td>1</td>\n",
       "    </tr>\n",
       "    <tr>\n",
       "      <th>24</th>\n",
       "      <td>9.0</td>\n",
       "      <td>2018.0</td>\n",
       "      <td>210</td>\n",
       "      <td>171</td>\n",
       "      <td>1298.0</td>\n",
       "      <td>198</td>\n",
       "      <td>55</td>\n",
       "      <td>1</td>\n",
       "      <td>0</td>\n",
       "      <td>0</td>\n",
       "    </tr>\n",
       "    <tr>\n",
       "      <th>25</th>\n",
       "      <td>9.0</td>\n",
       "      <td>2018.0</td>\n",
       "      <td>16</td>\n",
       "      <td>14</td>\n",
       "      <td>95.0</td>\n",
       "      <td>13</td>\n",
       "      <td>6</td>\n",
       "      <td>0</td>\n",
       "      <td>1</td>\n",
       "      <td>0</td>\n",
       "    </tr>\n",
       "    <tr>\n",
       "      <th>26</th>\n",
       "      <td>9.0</td>\n",
       "      <td>2018.0</td>\n",
       "      <td>91</td>\n",
       "      <td>77</td>\n",
       "      <td>1047.0</td>\n",
       "      <td>109</td>\n",
       "      <td>43</td>\n",
       "      <td>0</td>\n",
       "      <td>0</td>\n",
       "      <td>1</td>\n",
       "    </tr>\n",
       "    <tr>\n",
       "      <th>27</th>\n",
       "      <td>10.0</td>\n",
       "      <td>2018.0</td>\n",
       "      <td>182</td>\n",
       "      <td>188</td>\n",
       "      <td>1245.0</td>\n",
       "      <td>181</td>\n",
       "      <td>66</td>\n",
       "      <td>1</td>\n",
       "      <td>0</td>\n",
       "      <td>0</td>\n",
       "    </tr>\n",
       "    <tr>\n",
       "      <th>28</th>\n",
       "      <td>10.0</td>\n",
       "      <td>2018.0</td>\n",
       "      <td>14</td>\n",
       "      <td>21</td>\n",
       "      <td>95.0</td>\n",
       "      <td>17</td>\n",
       "      <td>7</td>\n",
       "      <td>0</td>\n",
       "      <td>1</td>\n",
       "      <td>0</td>\n",
       "    </tr>\n",
       "    <tr>\n",
       "      <th>29</th>\n",
       "      <td>10.0</td>\n",
       "      <td>2018.0</td>\n",
       "      <td>111</td>\n",
       "      <td>103</td>\n",
       "      <td>1132.0</td>\n",
       "      <td>107</td>\n",
       "      <td>50</td>\n",
       "      <td>0</td>\n",
       "      <td>0</td>\n",
       "      <td>1</td>\n",
       "    </tr>\n",
       "    <tr>\n",
       "      <th>30</th>\n",
       "      <td>11.0</td>\n",
       "      <td>2018.0</td>\n",
       "      <td>162</td>\n",
       "      <td>164</td>\n",
       "      <td>1217.0</td>\n",
       "      <td>149</td>\n",
       "      <td>56</td>\n",
       "      <td>1</td>\n",
       "      <td>0</td>\n",
       "      <td>0</td>\n",
       "    </tr>\n",
       "    <tr>\n",
       "      <th>31</th>\n",
       "      <td>11.0</td>\n",
       "      <td>2018.0</td>\n",
       "      <td>12</td>\n",
       "      <td>11</td>\n",
       "      <td>117.0</td>\n",
       "      <td>18</td>\n",
       "      <td>2</td>\n",
       "      <td>0</td>\n",
       "      <td>1</td>\n",
       "      <td>0</td>\n",
       "    </tr>\n",
       "    <tr>\n",
       "      <th>32</th>\n",
       "      <td>11.0</td>\n",
       "      <td>2018.0</td>\n",
       "      <td>95</td>\n",
       "      <td>72</td>\n",
       "      <td>1041.0</td>\n",
       "      <td>95</td>\n",
       "      <td>41</td>\n",
       "      <td>0</td>\n",
       "      <td>0</td>\n",
       "      <td>1</td>\n",
       "    </tr>\n",
       "    <tr>\n",
       "      <th>33</th>\n",
       "      <td>12.0</td>\n",
       "      <td>2018.0</td>\n",
       "      <td>201</td>\n",
       "      <td>152</td>\n",
       "      <td>1308.0</td>\n",
       "      <td>157</td>\n",
       "      <td>61</td>\n",
       "      <td>1</td>\n",
       "      <td>0</td>\n",
       "      <td>0</td>\n",
       "    </tr>\n",
       "    <tr>\n",
       "      <th>34</th>\n",
       "      <td>12.0</td>\n",
       "      <td>2018.0</td>\n",
       "      <td>9</td>\n",
       "      <td>19</td>\n",
       "      <td>110.0</td>\n",
       "      <td>26</td>\n",
       "      <td>7</td>\n",
       "      <td>0</td>\n",
       "      <td>1</td>\n",
       "      <td>0</td>\n",
       "    </tr>\n",
       "    <tr>\n",
       "      <th>35</th>\n",
       "      <td>12.0</td>\n",
       "      <td>2018.0</td>\n",
       "      <td>107</td>\n",
       "      <td>54</td>\n",
       "      <td>1070.0</td>\n",
       "      <td>81</td>\n",
       "      <td>35</td>\n",
       "      <td>0</td>\n",
       "      <td>0</td>\n",
       "      <td>1</td>\n",
       "    </tr>\n",
       "  </tbody>\n",
       "</table>\n",
       "</div>"
      ],
      "text/plain": [
       "     MES    ANIO  atropello  caidaocupante  choque  otro  volcamiento  \\\n",
       "0    1.0  2018.0        164            182  1068.0   215           47   \n",
       "1    1.0  2018.0         12             18    70.0    22            5   \n",
       "2    1.0  2018.0         94             74   848.0   111           23   \n",
       "3    2.0  2018.0        165            192  1239.0   177           59   \n",
       "4    2.0  2018.0         13             19    82.0    18            3   \n",
       "5    2.0  2018.0         79             68  1015.0    86           31   \n",
       "6    3.0  2018.0        199            244  1216.0   190           51   \n",
       "7    3.0  2018.0         15             25   101.0    20            5   \n",
       "8    3.0  2018.0         95            119   921.0   100           29   \n",
       "9    4.0  2018.0        188            204  1225.0   183           58   \n",
       "10   4.0  2018.0         21             16   105.0    15            4   \n",
       "11   4.0  2018.0        102             89  1026.0   105           31   \n",
       "12   5.0  2018.0        207            236  1282.0   211           61   \n",
       "13   5.0  2018.0         15             18   111.0    18            4   \n",
       "14   5.0  2018.0         84             92  1025.0   112           45   \n",
       "15   6.0  2018.0        202            194  1212.0   213           61   \n",
       "16   6.0  2018.0         15             12    98.0    23            4   \n",
       "17   6.0  2018.0        106             94   910.0   111           30   \n",
       "18   7.0  2018.0        187            200  1194.0   231           72   \n",
       "19   7.0  2018.0         18             19    87.0    16            6   \n",
       "20   7.0  2018.0         93             97   976.0    95           30   \n",
       "21   8.0  2018.0        191            237  1296.0   188           53   \n",
       "22   8.0  2018.0         28             16   106.0    17            3   \n",
       "23   8.0  2018.0         96             87  1139.0   107           26   \n",
       "24   9.0  2018.0        210            171  1298.0   198           55   \n",
       "25   9.0  2018.0         16             14    95.0    13            6   \n",
       "26   9.0  2018.0         91             77  1047.0   109           43   \n",
       "27  10.0  2018.0        182            188  1245.0   181           66   \n",
       "28  10.0  2018.0         14             21    95.0    17            7   \n",
       "29  10.0  2018.0        111            103  1132.0   107           50   \n",
       "30  11.0  2018.0        162            164  1217.0   149           56   \n",
       "31  11.0  2018.0         12             11   117.0    18            2   \n",
       "32  11.0  2018.0         95             72  1041.0    95           41   \n",
       "33  12.0  2018.0        201            152  1308.0   157           61   \n",
       "34  12.0  2018.0          9             19   110.0    26            7   \n",
       "35  12.0  2018.0        107             54  1070.0    81           35   \n",
       "\n",
       "    CLUSTER_cluster0  CLUSTER_cluster1  CLUSTER_cluster2  \n",
       "0                  1                 0                 0  \n",
       "1                  0                 1                 0  \n",
       "2                  0                 0                 1  \n",
       "3                  1                 0                 0  \n",
       "4                  0                 1                 0  \n",
       "5                  0                 0                 1  \n",
       "6                  1                 0                 0  \n",
       "7                  0                 1                 0  \n",
       "8                  0                 0                 1  \n",
       "9                  1                 0                 0  \n",
       "10                 0                 1                 0  \n",
       "11                 0                 0                 1  \n",
       "12                 1                 0                 0  \n",
       "13                 0                 1                 0  \n",
       "14                 0                 0                 1  \n",
       "15                 1                 0                 0  \n",
       "16                 0                 1                 0  \n",
       "17                 0                 0                 1  \n",
       "18                 1                 0                 0  \n",
       "19                 0                 1                 0  \n",
       "20                 0                 0                 1  \n",
       "21                 1                 0                 0  \n",
       "22                 0                 1                 0  \n",
       "23                 0                 0                 1  \n",
       "24                 1                 0                 0  \n",
       "25                 0                 1                 0  \n",
       "26                 0                 0                 1  \n",
       "27                 1                 0                 0  \n",
       "28                 0                 1                 0  \n",
       "29                 0                 0                 1  \n",
       "30                 1                 0                 0  \n",
       "31                 0                 1                 0  \n",
       "32                 0                 0                 1  \n",
       "33                 1                 0                 0  \n",
       "34                 0                 1                 0  \n",
       "35                 0                 0                 1  "
      ]
     },
     "execution_count": 8,
     "metadata": {},
     "output_type": "execute_result"
    }
   ],
   "source": [
    "features_val"
   ]
  },
  {
   "cell_type": "code",
   "execution_count": 9,
   "metadata": {
    "collapsed": false,
    "jupyter": {
     "outputs_hidden": false
    }
   },
   "outputs": [
    {
     "name": "stdout",
     "output_type": "stream",
     "text": [
      "Shape of features after one-hot encoding: (36, 10)\n",
      "Shape of train after one-hot encoding: (144, 10)\n"
     ]
    }
   ],
   "source": [
    "\n",
    "print('Shape of features after one-hot encoding:', features_val.shape)\n",
    "print('Shape of train after one-hot encoding:', features_train.shape)\n"
   ]
  },
  {
   "cell_type": "markdown",
   "metadata": {},
   "source": [
    "### Features and Labels and Convert Data to Arrays"
   ]
  },
  {
   "cell_type": "code",
   "execution_count": 10,
   "metadata": {},
   "outputs": [],
   "source": [
    "# Use numpy to convert to arrays\n",
    "import numpy as np\n",
    "\n",
    "# Labels are the values we want to predict\n",
    "\n",
    "label_train = np.array(features_train[['atropello', 'caidaocupante','choque','otro','volcamiento']])\n",
    "label_val = np.array(features_val[['atropello', 'caidaocupante','choque','otro','volcamiento']])\n",
    "\n",
    "# Remove the labels from the features\n",
    "# axis 1 refers to the columns\n",
    "features_train= features_train.drop(['atropello', 'caidaocupante','choque','otro','volcamiento'], axis = 1)\n",
    "features_val= features_val.drop(['atropello', 'caidaocupante','choque','otro','volcamiento'], axis = 1)\n",
    "feature_list = list(features_val.columns)\n",
    "\n",
    "features_train= np.array(features_train)\n",
    "features_val= np.array(features_val)\n",
    "\n",
    "\n",
    "\n"
   ]
  },
  {
   "cell_type": "code",
   "execution_count": null,
   "metadata": {},
   "outputs": [],
   "source": []
  },
  {
   "cell_type": "markdown",
   "metadata": {},
   "source": [
    "### Training and Testing Sets"
   ]
  },
  {
   "cell_type": "code",
   "execution_count": null,
   "metadata": {},
   "outputs": [],
   "source": [
    "\n"
   ]
  },
  {
   "cell_type": "code",
   "execution_count": 11,
   "metadata": {
    "collapsed": false,
    "jupyter": {
     "outputs_hidden": false
    }
   },
   "outputs": [
    {
     "name": "stdout",
     "output_type": "stream",
     "text": [
      "Training Features Shape: (144, 5)\n",
      "Training Labels Shape: (144, 5)\n",
      "Testing Features Shape: (36, 5)\n",
      "Testing Labels Shape: (36, 5)\n"
     ]
    }
   ],
   "source": [
    "print('Training Features Shape:', features_train.shape)\n",
    "print('Training Labels Shape:', label_train.shape)\n",
    "print('Testing Features Shape:', features_val.shape)\n",
    "print('Testing Labels Shape:', label_val.shape)"
   ]
  },
  {
   "cell_type": "markdown",
   "metadata": {},
   "source": [
    "# Establish Baseline"
   ]
  },
  {
   "cell_type": "code",
   "execution_count": 12,
   "metadata": {
    "collapsed": false,
    "jupyter": {
     "outputs_hidden": false
    }
   },
   "outputs": [
    {
     "data": {
      "text/plain": [
       "\"\\n# The baseline predictions are the historical averages\\nbaseline_preds = test_features[:, feature_list.index('average')]\\n\\n# Baseline errors, and display average baseline error\\nbaseline_errors = abs(baseline_preds - test_labels)\\nprint('Average baseline error: ', round(np.mean(baseline_errors), 2), 'degrees.')\\n\""
      ]
     },
     "execution_count": 12,
     "metadata": {},
     "output_type": "execute_result"
    }
   ],
   "source": [
    "\"\"\"\n",
    "# The baseline predictions are the historical averages\n",
    "baseline_preds = test_features[:, feature_list.index('average')]\n",
    "\n",
    "# Baseline errors, and display average baseline error\n",
    "baseline_errors = abs(baseline_preds - test_labels)\n",
    "print('Average baseline error: ', round(np.mean(baseline_errors), 2), 'degrees.')\n",
    "\"\"\""
   ]
  },
  {
   "cell_type": "markdown",
   "metadata": {},
   "source": [
    "# Train Model"
   ]
  },
  {
   "cell_type": "code",
   "execution_count": 13,
   "metadata": {
    "hideCode": false,
    "hidePrompt": false
   },
   "outputs": [],
   "source": [
    "# Import the model we are using\n",
    "from sklearn.ensemble import RandomForestRegressor\n",
    "\n",
    "# Instantiate model \n",
    "rf = RandomForestRegressor(n_estimators= 1000, min_samples_leaf=25, random_state=42)\n",
    "\n",
    "# Train the model on training data\n",
    "rf.fit(features_train,label_train);\n"
   ]
  },
  {
   "cell_type": "code",
   "execution_count": null,
   "metadata": {},
   "outputs": [],
   "source": []
  },
  {
   "cell_type": "markdown",
   "metadata": {},
   "source": [
    "# Make Predictions on Test Data"
   ]
  },
  {
   "cell_type": "code",
   "execution_count": 14,
   "metadata": {
    "collapsed": false,
    "jupyter": {
     "outputs_hidden": false
    }
   },
   "outputs": [
    {
     "name": "stdout",
     "output_type": "stream",
     "text": [
      "error validacion: 1199.1679222686375 erro prueva 1243.219178929076\n"
     ]
    },
    {
     "data": {
      "text/plain": [
       "[<matplotlib.lines.Line2D at 0x2d6198f9df0>]"
      ]
     },
     "execution_count": 14,
     "metadata": {},
     "output_type": "execute_result"
    },
    {
     "data": {
      "image/png": "[encoded data removed]",
      "text/plain": [
       "<Figure size 432x288 with 1 Axes>"
      ]
     },
     "metadata": {
      "needs_background": "light"
     },
     "output_type": "display_data"
    }
   ],
   "source": [
    "from sklearn.metrics import mean_squared_error as rmse\n",
    "# Use the forest's predict method on the test data\n",
    "prediccion_validacion = rf.predict(features_val)\n",
    "prediccion_entrenamiento=rf.predict(features_train)\n",
    "# Calculate the absolute errors\n",
    "error=rmse(label_val, prediccion_validacion)\n",
    "error2=rmse(label_train, prediccion_entrenamiento)\n",
    "\n",
    "# Print out the mean absolute error (mae)\n",
    "print('error validacion:', error,\"erro prueva\",error2)\n",
    "#plt.plot(prediccion_validacion[80])\n",
    "#plt.plot(test_labels[80])\n",
    "plt.plot(prediccion_entrenamiento[0:30:,3])\n",
    "\n",
    "plt.plot(label_train[0:30:,3])\n"
   ]
  },
  {
   "cell_type": "code",
   "execution_count": 15,
   "metadata": {},
   "outputs": [
    {
     "name": "stdout",
     "output_type": "stream",
     "text": [
      "Variable: CLUSTER_cluster1     Importance: 0.93\n",
      "Variable: CLUSTER_cluster0     Importance: 0.05\n",
      "Variable: CLUSTER_cluster2     Importance: 0.02\n",
      "Variable: MES                  Importance: 0.0\n",
      "Variable: ANIO                 Importance: 0.0\n"
     ]
    }
   ],
   "source": [
    "\n",
    "# Get numerical feature importances\n",
    "importances = list(rf.feature_importances_)\n",
    "\n",
    "# List of tuples with variable and importance\n",
    "feature_importances = [(feature, round(importance, 2)) for feature, importance in zip(feature_list, importances)]\n",
    "\n",
    "# Sort the feature importances by most important first\n",
    "feature_importances = sorted(feature_importances, key = lambda x: x[1], reverse = True)\n",
    "joblib.dump(rf, 'models/arbol_mes.pkl')\n",
    "# Print out the feature and importances \n",
    "[print('Variable: {:20} Importance: {}'.format(*pair)) for pair in feature_importances];"
   ]
  }
 ],
 "metadata": {
  "hide_code_all_hidden": false,
  "kernelspec": {
   "display_name": "Python 3",
   "language": "python",
   "name": "python3"
  },
  "language_info": {
   "codemirror_mode": {
    "name": "ipython",
    "version": 3
   },
   "file_extension": ".py",
   "mimetype": "text/x-python",
   "name": "python",
   "nbconvert_exporter": "python",
   "pygments_lexer": "ipython3",
   "version": "3.8.6"
  }
 },
 "nbformat": 4,
 "nbformat_minor": 4
}
