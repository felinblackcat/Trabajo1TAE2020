{
 "cells": [
  {
   "cell_type": "markdown",
   "metadata": {},
   "source": [
    "# Ask Question"
   ]
  },
  {
   "cell_type": "markdown",
   "metadata": {},
   "source": [
    "Can we predict the maximum temperature tomorrow for Seattle, Washington given one year of historical data? "
   ]
  },
  {
   "cell_type": "markdown",
   "metadata": {},
   "source": [
    "The data we have available is the maximum temperatures in Seattle from the National Oceanic and Atmospheric Administration's (NOAA) [Climate Data Online Tool](https://www.ncdc.noaa.gov/cdo-web/)."
   ]
  },
  {
   "cell_type": "markdown",
   "metadata": {},
   "source": [
    "# Data Acqusition"
   ]
  },
  {
   "cell_type": "code",
   "execution_count": 16,
   "metadata": {
    "collapsed": false,
    "hideCode": false,
    "hidePrompt": false,
    "jupyter": {
     "outputs_hidden": false
    }
   },
   "outputs": [],
   "source": [
    "# Pandas is used for data manipulation\n",
    "import pandas as pd\n",
    "from matplotlib import pyplot as plt\n",
    "import joblib\n",
    "\n",
    "# Read in data as pandas dataframe and display first 5 rows\n",
    "\n",
    "features_train = pd.read_csv('data/train.csv')\n",
    "features_val = pd.read_csv('data/val.csv')\n",
    "#features = pd.concat([data_train, data_val])\n",
    "\n",
    "\n",
    "from sklearn.preprocessing import LabelEncoder\n",
    "\n"
   ]
  },
  {
   "cell_type": "markdown",
   "metadata": {},
   "source": [
    "# Identify Anomalies"
   ]
  },
  {
   "cell_type": "code",
   "execution_count": 17,
   "metadata": {
    "collapsed": false,
    "hideCode": false,
    "hidePrompt": false,
    "jupyter": {
     "outputs_hidden": false
    }
   },
   "outputs": [
    {
     "name": "stdout",
     "output_type": "stream",
     "text": [
      "The shape of our features is: (168508, 7)\n",
      "The shape of our features is: (40229, 7)\n"
     ]
    }
   ],
   "source": [
    "print('The shape of our features is:', features_train.shape)\n",
    "print('The shape of our features is:', features_val.shape)\n"
   ]
  },
  {
   "cell_type": "code",
   "execution_count": 18,
   "metadata": {
    "collapsed": false,
    "jupyter": {
     "outputs_hidden": false
    }
   },
   "outputs": [
    {
     "data": {
      "text/html": [
       "<div>\n",
       "<style scoped>\n",
       "    .dataframe tbody tr th:only-of-type {\n",
       "        vertical-align: middle;\n",
       "    }\n",
       "\n",
       "    .dataframe tbody tr th {\n",
       "        vertical-align: top;\n",
       "    }\n",
       "\n",
       "    .dataframe thead th {\n",
       "        text-align: right;\n",
       "    }\n",
       "</style>\n",
       "<table border=\"1\" class=\"dataframe\">\n",
       "  <thead>\n",
       "    <tr style=\"text-align: right;\">\n",
       "      <th></th>\n",
       "      <th>DIA</th>\n",
       "      <th>MES</th>\n",
       "      <th>ANIO</th>\n",
       "      <th>CLUSTER</th>\n",
       "      <th>ESPECIAL</th>\n",
       "      <th>SEMANA</th>\n",
       "    </tr>\n",
       "  </thead>\n",
       "  <tbody>\n",
       "    <tr>\n",
       "      <th>count</th>\n",
       "      <td>168508.000000</td>\n",
       "      <td>168508.000000</td>\n",
       "      <td>168508.000000</td>\n",
       "      <td>168508.000000</td>\n",
       "      <td>168508.000000</td>\n",
       "      <td>168508.000000</td>\n",
       "    </tr>\n",
       "    <tr>\n",
       "      <th>mean</th>\n",
       "      <td>15.723467</td>\n",
       "      <td>6.588542</td>\n",
       "      <td>2015.511074</td>\n",
       "      <td>0.847265</td>\n",
       "      <td>0.029631</td>\n",
       "      <td>105.009157</td>\n",
       "    </tr>\n",
       "    <tr>\n",
       "      <th>std</th>\n",
       "      <td>8.759809</td>\n",
       "      <td>3.398587</td>\n",
       "      <td>1.116261</td>\n",
       "      <td>0.963954</td>\n",
       "      <td>0.169567</td>\n",
       "      <td>60.160867</td>\n",
       "    </tr>\n",
       "    <tr>\n",
       "      <th>min</th>\n",
       "      <td>1.000000</td>\n",
       "      <td>1.000000</td>\n",
       "      <td>2014.000000</td>\n",
       "      <td>0.000000</td>\n",
       "      <td>0.000000</td>\n",
       "      <td>0.000000</td>\n",
       "    </tr>\n",
       "    <tr>\n",
       "      <th>25%</th>\n",
       "      <td>8.000000</td>\n",
       "      <td>4.000000</td>\n",
       "      <td>2015.000000</td>\n",
       "      <td>0.000000</td>\n",
       "      <td>0.000000</td>\n",
       "      <td>53.000000</td>\n",
       "    </tr>\n",
       "    <tr>\n",
       "      <th>50%</th>\n",
       "      <td>16.000000</td>\n",
       "      <td>7.000000</td>\n",
       "      <td>2016.000000</td>\n",
       "      <td>0.000000</td>\n",
       "      <td>0.000000</td>\n",
       "      <td>106.000000</td>\n",
       "    </tr>\n",
       "    <tr>\n",
       "      <th>75%</th>\n",
       "      <td>23.000000</td>\n",
       "      <td>10.000000</td>\n",
       "      <td>2017.000000</td>\n",
       "      <td>2.000000</td>\n",
       "      <td>0.000000</td>\n",
       "      <td>157.000000</td>\n",
       "    </tr>\n",
       "    <tr>\n",
       "      <th>max</th>\n",
       "      <td>31.000000</td>\n",
       "      <td>12.000000</td>\n",
       "      <td>2017.000000</td>\n",
       "      <td>2.000000</td>\n",
       "      <td>1.000000</td>\n",
       "      <td>208.000000</td>\n",
       "    </tr>\n",
       "  </tbody>\n",
       "</table>\n",
       "</div>"
      ],
      "text/plain": [
       "                 DIA            MES           ANIO        CLUSTER  \\\n",
       "count  168508.000000  168508.000000  168508.000000  168508.000000   \n",
       "mean       15.723467       6.588542    2015.511074       0.847265   \n",
       "std         8.759809       3.398587       1.116261       0.963954   \n",
       "min         1.000000       1.000000    2014.000000       0.000000   \n",
       "25%         8.000000       4.000000    2015.000000       0.000000   \n",
       "50%        16.000000       7.000000    2016.000000       0.000000   \n",
       "75%        23.000000      10.000000    2017.000000       2.000000   \n",
       "max        31.000000      12.000000    2017.000000       2.000000   \n",
       "\n",
       "            ESPECIAL         SEMANA  \n",
       "count  168508.000000  168508.000000  \n",
       "mean        0.029631     105.009157  \n",
       "std         0.169567      60.160867  \n",
       "min         0.000000       0.000000  \n",
       "25%         0.000000      53.000000  \n",
       "50%         0.000000     106.000000  \n",
       "75%         0.000000     157.000000  \n",
       "max         1.000000     208.000000  "
      ]
     },
     "execution_count": 18,
     "metadata": {},
     "output_type": "execute_result"
    }
   ],
   "source": [
    "# Descriptive statistics for each column\n",
    "features_train.describe()"
   ]
  },
  {
   "cell_type": "code",
   "execution_count": 19,
   "metadata": {},
   "outputs": [
    {
     "data": {
      "text/plain": [
       "'\"\\n# Use datetime for dealing with dates\\nimport datetime\\n\\n# Get years, months, and days\\nyears = features[\\'ANIO\\']\\nmonths = features[\\'MES\\']\\ndays = features[\\'DIA\\']\\n\\n# List and then convert to datetime object\\ndates = [str(int(year)) + \\'-\\' + str(int(month)) + \\'-\\' + str(int(day)) for year, month, day in zip(years, months, days)]\\ndates = [datetime.datetime.strptime(date, \\'%Y-%m-%d\\') for date in dates]\\n'"
      ]
     },
     "execution_count": 19,
     "metadata": {},
     "output_type": "execute_result"
    }
   ],
   "source": [
    "\"\"\"\"\n",
    "# Use datetime for dealing with dates\n",
    "import datetime\n",
    "\n",
    "# Get years, months, and days\n",
    "years = features['ANIO']\n",
    "months = features['MES']\n",
    "days = features['DIA']\n",
    "\n",
    "# List and then convert to datetime object\n",
    "dates = [str(int(year)) + '-' + str(int(month)) + '-' + str(int(day)) for year, month, day in zip(years, months, days)]\n",
    "dates = [datetime.datetime.strptime(date, '%Y-%m-%d') for date in dates]\n",
    "\"\"\""
   ]
  },
  {
   "cell_type": "code",
   "execution_count": 20,
   "metadata": {},
   "outputs": [
    {
     "data": {
      "text/plain": [
       "\"\\n# Import matplotlib for plotting and use magic command for Jupyter Notebooks\\nimport matplotlib.pyplot as plt\\n\\n%matplotlib inline\\n\\n# Set the style\\nplt.style.use('fivethirtyeight')\\n\""
      ]
     },
     "execution_count": 20,
     "metadata": {},
     "output_type": "execute_result"
    }
   ],
   "source": [
    "\"\"\"\n",
    "# Import matplotlib for plotting and use magic command for Jupyter Notebooks\n",
    "import matplotlib.pyplot as plt\n",
    "\n",
    "%matplotlib inline\n",
    "\n",
    "# Set the style\n",
    "plt.style.use('fivethirtyeight')\n",
    "\"\"\""
   ]
  },
  {
   "cell_type": "code",
   "execution_count": 21,
   "metadata": {
    "collapsed": false,
    "jupyter": {
     "outputs_hidden": false
    }
   },
   "outputs": [
    {
     "data": {
      "text/plain": [
       "\"\\n# Set up the plotting layout\\nfig, ((ax1, ax2), (ax3, ax4)) = plt.subplots(nrows=2, ncols=2, figsize = (10,10))\\nfig.autofmt_xdate(rotation = 45)\\n\\n# Actual max temperature measurement\\nax1.plot(dates, features['actual'])\\nax1.set_xlabel(''); ax1.set_ylabel('Temperature'); ax1.set_title('Max Temp')\\n\\n# Temperature from 1 day ago\\nax2.plot(dates, features['temp_1'])\\nax2.set_xlabel(''); ax2.set_ylabel('Temperature'); ax2.set_title('Previous Max Temp')\\n\\n# Temperature from 2 days ago\\nax3.plot(dates, features['temp_2'])\\nax3.set_xlabel('Date'); ax3.set_ylabel('Temperature'); ax3.set_title('Two Days Prior Max Temp')\\n\\n# Friend Estimate\\nax4.plot(dates, features['friend'])\\nax4.set_xlabel('Date'); ax4.set_ylabel('Temperature'); ax4.set_title('Friend Estimate')\\n\\nplt.tight_layout(pad=2)\\n\""
      ]
     },
     "execution_count": 21,
     "metadata": {},
     "output_type": "execute_result"
    }
   ],
   "source": [
    "\"\"\"\n",
    "# Set up the plotting layout\n",
    "fig, ((ax1, ax2), (ax3, ax4)) = plt.subplots(nrows=2, ncols=2, figsize = (10,10))\n",
    "fig.autofmt_xdate(rotation = 45)\n",
    "\n",
    "# Actual max temperature measurement\n",
    "ax1.plot(dates, features['actual'])\n",
    "ax1.set_xlabel(''); ax1.set_ylabel('Temperature'); ax1.set_title('Max Temp')\n",
    "\n",
    "# Temperature from 1 day ago\n",
    "ax2.plot(dates, features['temp_1'])\n",
    "ax2.set_xlabel(''); ax2.set_ylabel('Temperature'); ax2.set_title('Previous Max Temp')\n",
    "\n",
    "# Temperature from 2 days ago\n",
    "ax3.plot(dates, features['temp_2'])\n",
    "ax3.set_xlabel('Date'); ax3.set_ylabel('Temperature'); ax3.set_title('Two Days Prior Max Temp')\n",
    "\n",
    "# Friend Estimate\n",
    "ax4.plot(dates, features['friend'])\n",
    "ax4.set_xlabel('Date'); ax4.set_ylabel('Temperature'); ax4.set_title('Friend Estimate')\n",
    "\n",
    "plt.tight_layout(pad=2)\n",
    "\"\"\""
   ]
  },
  {
   "cell_type": "markdown",
   "metadata": {},
   "source": [
    "# Data Preparation"
   ]
  },
  {
   "cell_type": "markdown",
   "metadata": {},
   "source": [
    "### One-Hot Encoding"
   ]
  },
  {
   "cell_type": "markdown",
   "metadata": {},
   "source": [
    "One hot encoding takes this:\n",
    "\n",
    "| week |\n",
    "|------|\n",
    "| Mon  |\n",
    "| Tue  |\n",
    "| Wed  |\n",
    "| Thu  |\n",
    "| Fri  |\n",
    "| Sat  |\n",
    "| Sun  |\n",
    "\n",
    "and converts it into:\n",
    "\n",
    "| Mon | Tue | Wed | Thu | Fri | Sat | Sun |\n",
    "|-----|-----|-----|-----|-----|-----|-----|\n",
    "| 1   | 0   | 0   | 0   | 0   |  0  |  0  |\n",
    "| 0   | 1   | 0   | 0   | 0   |  0  |  0  |\n",
    "| 0   | 0   | 1   | 0   | 0   |  0  |  0  |\n",
    "| 0   | 0   | 0   | 1   | 0   |  0  |  0  |\n",
    "| 0   | 0   | 0   | 0   | 1   |  0  |  0  |\n",
    "| 0   | 0   | 0   | 0   | 0   |  1  |  0  |\n",
    "| 0   | 0   | 0   | 0   | 0   |  0  |  1  |"
   ]
  },
  {
   "cell_type": "code",
   "execution_count": 22,
   "metadata": {
    "collapsed": false,
    "hideCode": false,
    "hidePrompt": false,
    "jupyter": {
     "outputs_hidden": false
    }
   },
   "outputs": [],
   "source": [
    "# One-hot encode categorical features\n",
    "\n",
    "\n",
    "\"\"\"\n",
    "le = LabelEncoder()\n",
    "le.fit(features['CLASE'].unique())\n",
    "features['CLASE']=le.transform(features['BARRIO'])\n",
    "\"\"\"\n",
    "features_train = pd.get_dummies(features_train)\n",
    "features_train=features_train.groupby(['ANIO','CLUSTER','SEMANA']).agg({'CLASE_atropello':'sum','CLASE_caida ocupante':'sum','CLASE_choque':'sum','CLASE_otro':'sum','CLASE_volcamiento':'sum'})\n",
    "nombre_columnasTipo=['atropello', 'caidaocupante','choque','otro','volcamiento']\n",
    "features_train.columns = nombre_columnasTipo\n",
    "features_train = features_train.reset_index()\n",
    "\n",
    "features_train.loc[features_train['CLUSTER'] == 0, 'CLUSTER'] = 'cluster0'\n",
    "features_train.loc[features_train['CLUSTER'] == 1, 'CLUSTER'] = 'cluster1'\n",
    "features_train.loc[features_train['CLUSTER'] == 2, 'CLUSTER'] = 'cluster2'\n",
    "\n",
    "features_train = pd.get_dummies(features_train)\n",
    "\n",
    "\n",
    "features_val = pd.get_dummies(features_val)\n",
    "features_val=features_val.groupby(['ANIO','CLUSTER','SEMANA']).agg({'CLASE_atropello':'sum','CLASE_caida ocupante':'sum','CLASE_choque':'sum','CLASE_otro':'sum','CLASE_volcamiento':'sum'})\n",
    "nombre_columnasTipo=['atropello', 'caidaocupante','choque','otro','volcamiento']\n",
    "features_val.columns = nombre_columnasTipo\n",
    "features_val = features_val.reset_index()\n",
    "\n",
    "features_val.loc[features_val['CLUSTER'] == 0, 'CLUSTER'] = 'cluster0'\n",
    "features_val.loc[features_val['CLUSTER'] == 1, 'CLUSTER'] = 'cluster1'\n",
    "features_val.loc[features_val['CLUSTER'] == 2, 'CLUSTER'] = 'cluster2'\n",
    "\n",
    "features_val = pd.get_dummies(features_val)\n"
   ]
  },
  {
   "cell_type": "code",
   "execution_count": 23,
   "metadata": {},
   "outputs": [
    {
     "data": {
      "text/html": [
       "<div>\n",
       "<style scoped>\n",
       "    .dataframe tbody tr th:only-of-type {\n",
       "        vertical-align: middle;\n",
       "    }\n",
       "\n",
       "    .dataframe tbody tr th {\n",
       "        vertical-align: top;\n",
       "    }\n",
       "\n",
       "    .dataframe thead th {\n",
       "        text-align: right;\n",
       "    }\n",
       "</style>\n",
       "<table border=\"1\" class=\"dataframe\">\n",
       "  <thead>\n",
       "    <tr style=\"text-align: right;\">\n",
       "      <th></th>\n",
       "      <th>ANIO</th>\n",
       "      <th>SEMANA</th>\n",
       "      <th>atropello</th>\n",
       "      <th>caidaocupante</th>\n",
       "      <th>choque</th>\n",
       "      <th>otro</th>\n",
       "      <th>volcamiento</th>\n",
       "      <th>CLUSTER_cluster0</th>\n",
       "      <th>CLUSTER_cluster1</th>\n",
       "      <th>CLUSTER_cluster2</th>\n",
       "    </tr>\n",
       "  </thead>\n",
       "  <tbody>\n",
       "    <tr>\n",
       "      <th>0</th>\n",
       "      <td>2018.0</td>\n",
       "      <td>209</td>\n",
       "      <td>46</td>\n",
       "      <td>37</td>\n",
       "      <td>203.0</td>\n",
       "      <td>53</td>\n",
       "      <td>10</td>\n",
       "      <td>1</td>\n",
       "      <td>0</td>\n",
       "      <td>0</td>\n",
       "    </tr>\n",
       "    <tr>\n",
       "      <th>1</th>\n",
       "      <td>2018.0</td>\n",
       "      <td>210</td>\n",
       "      <td>23</td>\n",
       "      <td>38</td>\n",
       "      <td>208.0</td>\n",
       "      <td>47</td>\n",
       "      <td>8</td>\n",
       "      <td>1</td>\n",
       "      <td>0</td>\n",
       "      <td>0</td>\n",
       "    </tr>\n",
       "    <tr>\n",
       "      <th>2</th>\n",
       "      <td>2018.0</td>\n",
       "      <td>211</td>\n",
       "      <td>40</td>\n",
       "      <td>48</td>\n",
       "      <td>278.0</td>\n",
       "      <td>58</td>\n",
       "      <td>17</td>\n",
       "      <td>1</td>\n",
       "      <td>0</td>\n",
       "      <td>0</td>\n",
       "    </tr>\n",
       "    <tr>\n",
       "      <th>3</th>\n",
       "      <td>2018.0</td>\n",
       "      <td>212</td>\n",
       "      <td>37</td>\n",
       "      <td>39</td>\n",
       "      <td>275.0</td>\n",
       "      <td>49</td>\n",
       "      <td>8</td>\n",
       "      <td>1</td>\n",
       "      <td>0</td>\n",
       "      <td>0</td>\n",
       "    </tr>\n",
       "    <tr>\n",
       "      <th>4</th>\n",
       "      <td>2018.0</td>\n",
       "      <td>213</td>\n",
       "      <td>38</td>\n",
       "      <td>49</td>\n",
       "      <td>277.0</td>\n",
       "      <td>32</td>\n",
       "      <td>15</td>\n",
       "      <td>1</td>\n",
       "      <td>0</td>\n",
       "      <td>0</td>\n",
       "    </tr>\n",
       "    <tr>\n",
       "      <th>...</th>\n",
       "      <td>...</td>\n",
       "      <td>...</td>\n",
       "      <td>...</td>\n",
       "      <td>...</td>\n",
       "      <td>...</td>\n",
       "      <td>...</td>\n",
       "      <td>...</td>\n",
       "      <td>...</td>\n",
       "      <td>...</td>\n",
       "      <td>...</td>\n",
       "    </tr>\n",
       "    <tr>\n",
       "      <th>154</th>\n",
       "      <td>2018.0</td>\n",
       "      <td>257</td>\n",
       "      <td>20</td>\n",
       "      <td>11</td>\n",
       "      <td>245.0</td>\n",
       "      <td>14</td>\n",
       "      <td>8</td>\n",
       "      <td>0</td>\n",
       "      <td>0</td>\n",
       "      <td>1</td>\n",
       "    </tr>\n",
       "    <tr>\n",
       "      <th>155</th>\n",
       "      <td>2018.0</td>\n",
       "      <td>258</td>\n",
       "      <td>30</td>\n",
       "      <td>12</td>\n",
       "      <td>273.0</td>\n",
       "      <td>26</td>\n",
       "      <td>10</td>\n",
       "      <td>0</td>\n",
       "      <td>0</td>\n",
       "      <td>1</td>\n",
       "    </tr>\n",
       "    <tr>\n",
       "      <th>156</th>\n",
       "      <td>2018.0</td>\n",
       "      <td>259</td>\n",
       "      <td>28</td>\n",
       "      <td>18</td>\n",
       "      <td>287.0</td>\n",
       "      <td>23</td>\n",
       "      <td>10</td>\n",
       "      <td>0</td>\n",
       "      <td>0</td>\n",
       "      <td>1</td>\n",
       "    </tr>\n",
       "    <tr>\n",
       "      <th>157</th>\n",
       "      <td>2018.0</td>\n",
       "      <td>260</td>\n",
       "      <td>21</td>\n",
       "      <td>7</td>\n",
       "      <td>184.0</td>\n",
       "      <td>11</td>\n",
       "      <td>5</td>\n",
       "      <td>0</td>\n",
       "      <td>0</td>\n",
       "      <td>1</td>\n",
       "    </tr>\n",
       "    <tr>\n",
       "      <th>158</th>\n",
       "      <td>2018.0</td>\n",
       "      <td>261</td>\n",
       "      <td>2</td>\n",
       "      <td>1</td>\n",
       "      <td>16.0</td>\n",
       "      <td>1</td>\n",
       "      <td>1</td>\n",
       "      <td>0</td>\n",
       "      <td>0</td>\n",
       "      <td>1</td>\n",
       "    </tr>\n",
       "  </tbody>\n",
       "</table>\n",
       "<p>159 rows × 10 columns</p>\n",
       "</div>"
      ],
      "text/plain": [
       "       ANIO  SEMANA  atropello  caidaocupante  choque  otro  volcamiento  \\\n",
       "0    2018.0     209         46             37   203.0    53           10   \n",
       "1    2018.0     210         23             38   208.0    47            8   \n",
       "2    2018.0     211         40             48   278.0    58           17   \n",
       "3    2018.0     212         37             39   275.0    49            8   \n",
       "4    2018.0     213         38             49   277.0    32           15   \n",
       "..      ...     ...        ...            ...     ...   ...          ...   \n",
       "154  2018.0     257         20             11   245.0    14            8   \n",
       "155  2018.0     258         30             12   273.0    26           10   \n",
       "156  2018.0     259         28             18   287.0    23           10   \n",
       "157  2018.0     260         21              7   184.0    11            5   \n",
       "158  2018.0     261          2              1    16.0     1            1   \n",
       "\n",
       "     CLUSTER_cluster0  CLUSTER_cluster1  CLUSTER_cluster2  \n",
       "0                   1                 0                 0  \n",
       "1                   1                 0                 0  \n",
       "2                   1                 0                 0  \n",
       "3                   1                 0                 0  \n",
       "4                   1                 0                 0  \n",
       "..                ...               ...               ...  \n",
       "154                 0                 0                 1  \n",
       "155                 0                 0                 1  \n",
       "156                 0                 0                 1  \n",
       "157                 0                 0                 1  \n",
       "158                 0                 0                 1  \n",
       "\n",
       "[159 rows x 10 columns]"
      ]
     },
     "execution_count": 23,
     "metadata": {},
     "output_type": "execute_result"
    }
   ],
   "source": [
    "features_val"
   ]
  },
  {
   "cell_type": "code",
   "execution_count": 24,
   "metadata": {
    "collapsed": false,
    "jupyter": {
     "outputs_hidden": false
    }
   },
   "outputs": [
    {
     "name": "stdout",
     "output_type": "stream",
     "text": [
      "Shape of features after one-hot encoding: (159, 10)\n",
      "Shape of train after one-hot encoding: (636, 10)\n"
     ]
    }
   ],
   "source": [
    "\n",
    "print('Shape of features after one-hot encoding:', features_val.shape)\n",
    "print('Shape of train after one-hot encoding:', features_train.shape)\n"
   ]
  },
  {
   "cell_type": "markdown",
   "metadata": {},
   "source": [
    "### Features and Labels and Convert Data to Arrays"
   ]
  },
  {
   "cell_type": "code",
   "execution_count": 25,
   "metadata": {},
   "outputs": [],
   "source": [
    "# Use numpy to convert to arrays\n",
    "import numpy as np\n",
    "\n",
    "# Labels are the values we want to predict\n",
    "\n",
    "label_train = np.array(features_train[['atropello', 'caidaocupante','choque','otro','volcamiento']])\n",
    "label_val = np.array(features_val[['atropello', 'caidaocupante','choque','otro','volcamiento']])\n",
    "\n",
    "# Remove the labels from the features\n",
    "# axis 1 refers to the columns\n",
    "features_train= features_train.drop(['atropello', 'caidaocupante','choque','otro','volcamiento'], axis = 1)\n",
    "features_val= features_val.drop(['atropello', 'caidaocupante','choque','otro','volcamiento'], axis = 1)\n",
    "feature_list = list(features_train.columns)\n",
    "\n",
    "features_train= np.array(features_train)\n",
    "features_val= np.array(features_val)\n",
    "\n",
    "\n",
    "\n"
   ]
  },
  {
   "cell_type": "code",
   "execution_count": null,
   "metadata": {},
   "outputs": [],
   "source": []
  },
  {
   "cell_type": "markdown",
   "metadata": {},
   "source": [
    "### Training and Testing Sets"
   ]
  },
  {
   "cell_type": "code",
   "execution_count": null,
   "metadata": {},
   "outputs": [],
   "source": [
    "\n"
   ]
  },
  {
   "cell_type": "code",
   "execution_count": 26,
   "metadata": {
    "collapsed": false,
    "jupyter": {
     "outputs_hidden": false
    }
   },
   "outputs": [
    {
     "name": "stdout",
     "output_type": "stream",
     "text": [
      "Training Features Shape: (636, 5)\n",
      "Training Labels Shape: (636, 5)\n",
      "Testing Features Shape: (159, 5)\n",
      "Testing Labels Shape: (159, 5)\n"
     ]
    }
   ],
   "source": [
    "print('Training Features Shape:', features_train.shape)\n",
    "print('Training Labels Shape:', label_train.shape)\n",
    "print('Testing Features Shape:', features_val.shape)\n",
    "print('Testing Labels Shape:', label_val.shape)"
   ]
  },
  {
   "cell_type": "markdown",
   "metadata": {},
   "source": [
    "# Establish Baseline"
   ]
  },
  {
   "cell_type": "code",
   "execution_count": 27,
   "metadata": {
    "collapsed": false,
    "jupyter": {
     "outputs_hidden": false
    }
   },
   "outputs": [
    {
     "data": {
      "text/plain": [
       "\"\\n# The baseline predictions are the historical averages\\nbaseline_preds = test_features[:, feature_list.index('average')]\\n\\n# Baseline errors, and display average baseline error\\nbaseline_errors = abs(baseline_preds - test_labels)\\nprint('Average baseline error: ', round(np.mean(baseline_errors), 2), 'degrees.')\\n\""
      ]
     },
     "execution_count": 27,
     "metadata": {},
     "output_type": "execute_result"
    }
   ],
   "source": [
    "\"\"\"\n",
    "# The baseline predictions are the historical averages\n",
    "baseline_preds = test_features[:, feature_list.index('average')]\n",
    "\n",
    "# Baseline errors, and display average baseline error\n",
    "baseline_errors = abs(baseline_preds - test_labels)\n",
    "print('Average baseline error: ', round(np.mean(baseline_errors), 2), 'degrees.')\n",
    "\"\"\""
   ]
  },
  {
   "cell_type": "markdown",
   "metadata": {},
   "source": [
    "# Train Model"
   ]
  },
  {
   "cell_type": "code",
   "execution_count": 28,
   "metadata": {
    "hideCode": false,
    "hidePrompt": false
   },
   "outputs": [],
   "source": [
    "# Import the model we are using\n",
    "from sklearn.ensemble import RandomForestRegressor\n",
    "\n",
    "# Instantiate model \n",
    "rf = RandomForestRegressor(n_estimators= 1000, min_samples_leaf=50, random_state=42)\n",
    "\n",
    "# Train the model on training data\n",
    "rf.fit(features_train,label_train);\n"
   ]
  },
  {
   "cell_type": "code",
   "execution_count": null,
   "metadata": {},
   "outputs": [],
   "source": []
  },
  {
   "cell_type": "markdown",
   "metadata": {},
   "source": [
    "# Make Predictions on Test Data"
   ]
  },
  {
   "cell_type": "code",
   "execution_count": 29,
   "metadata": {
    "collapsed": false,
    "jupyter": {
     "outputs_hidden": false
    }
   },
   "outputs": [
    {
     "name": "stdout",
     "output_type": "stream",
     "text": [
      "error validacion: 325.29153465889914 erro prueva 293.12953247210106\n"
     ]
    },
    {
     "data": {
      "text/plain": [
       "[<matplotlib.lines.Line2D at 0x26db4692310>]"
      ]
     },
     "execution_count": 29,
     "metadata": {},
     "output_type": "execute_result"
    },
    {
     "data": {
      "image/png": "[encoded data removed]",
      "text/plain": [
       "<Figure size 432x288 with 1 Axes>"
      ]
     },
     "metadata": {
      "needs_background": "light"
     },
     "output_type": "display_data"
    }
   ],
   "source": [
    "from sklearn.metrics import mean_squared_error as rmse\n",
    "# Use the forest's predict method on the test data\n",
    "prediccion_validacion = rf.predict(features_val)\n",
    "prediccion_entrenamiento=rf.predict(features_train)\n",
    "# Calculate the absolute errors\n",
    "error=rmse(label_val, prediccion_validacion)\n",
    "error2=rmse(label_train, prediccion_entrenamiento)\n",
    "\n",
    "# Print out the mean absolute error (mae)\n",
    "print('error validacion:', error,\"erro prueva\",error2)\n",
    "#plt.plot(prediccion_validacion[80])\n",
    "#plt.plot(test_labels[80])\n",
    "plt.plot(prediccion_entrenamiento[0:,2])\n",
    "\n",
    "plt.plot(label_train[0::,2])\n"
   ]
  },
  {
   "cell_type": "code",
   "execution_count": 30,
   "metadata": {},
   "outputs": [
    {
     "name": "stdout",
     "output_type": "stream",
     "text": [
      "Variable: CLUSTER_cluster1     Importance: 0.95\n",
      "Variable: CLUSTER_cluster0     Importance: 0.02\n",
      "Variable: CLUSTER_cluster2     Importance: 0.02\n",
      "Variable: SEMANA               Importance: 0.01\n",
      "Variable: ANIO                 Importance: 0.0\n"
     ]
    }
   ],
   "source": [
    "\n",
    "# Get numerical feature importances\n",
    "importances = list(rf.feature_importances_)\n",
    "\n",
    "# List of tuples with variable and importance\n",
    "feature_importances = [(feature, round(importance, 2)) for feature, importance in zip(feature_list, importances)]\n",
    "\n",
    "# Sort the feature importances by most important first\n",
    "feature_importances = sorted(feature_importances, key = lambda x: x[1], reverse = True)\n",
    "joblib.dump(rf, 'models/arbol_semana.pkl')\n",
    "# Print out the feature and importances \n",
    "[print('Variable: {:20} Importance: {}'.format(*pair)) for pair in feature_importances];"
   ]
  }
 ],
 "metadata": {
  "hide_code_all_hidden": false,
  "kernelspec": {
   "display_name": "Python 3",
   "language": "python",
   "name": "python3"
  },
  "language_info": {
   "codemirror_mode": {
    "name": "ipython",
    "version": 3
   },
   "file_extension": ".py",
   "mimetype": "text/x-python",
   "name": "python",
   "nbconvert_exporter": "python",
   "pygments_lexer": "ipython3",
   "version": "3.8.6"
  }
 },
 "nbformat": 4,
 "nbformat_minor": 4
}
