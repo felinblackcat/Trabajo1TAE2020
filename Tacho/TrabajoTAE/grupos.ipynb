{
 "cells": [
  {
   "cell_type": "code",
   "execution_count": 46,
   "metadata": {},
   "outputs": [],
   "source": [
    "import pandas as pd"
   ]
  },
  {
   "cell_type": "code",
   "execution_count": 47,
   "metadata": {},
   "outputs": [
    {
     "name": "stderr",
     "output_type": "stream",
     "text": [
      "F:\\Winpython64-3.8.6.0\\WPy64-3860\\python-3.8.6.amd64\\lib\\site-packages\\IPython\\core\\interactiveshell.py:3145: DtypeWarning: Columns (3,19) have mixed types.Specify dtype option on import or set low_memory=False.\n",
      "  has_raised = await self.run_ast_nodes(code_ast.body, cell_name,\n"
     ]
    }
   ],
   "source": [
    "joindata = pd.read_csv(\"DatosBrutoCorregidos.csv\")"
   ]
  },
  {
   "cell_type": "code",
   "execution_count": 48,
   "metadata": {},
   "outputs": [],
   "source": [
    "joindata = joindata[['PERIODO','MES','DIA','CLASE','BARRIO']]\n",
    "joindata['FECHA']=pd.to_datetime(joindata['PERIODO']*10000+joindata['MES']*100+joindata['DIA'],format='%Y%m%d')\n",
    "joindata = joindata[['FECHA','BARRIO','CLASE']]"
   ]
  },
  {
   "cell_type": "code",
   "execution_count": 49,
   "metadata": {},
   "outputs": [],
   "source": [
    "grupo =  joindata.groupby(['FECHA','BARRIO','CLASE']).agg({'CLASE': ['count']})\n",
    "grupo.columns  = ['cuentaclase']\n",
    "grupo  = grupo.reset_index()\n",
    "grupo.to_excel(\"datos_procesados.xlsx\",index = False)\n"
   ]
  },
  {
   "cell_type": "code",
   "execution_count": 50,
   "metadata": {},
   "outputs": [
    {
     "data": {
      "text/html": [
       "<div>\n",
       "<style scoped>\n",
       "    .dataframe tbody tr th:only-of-type {\n",
       "        vertical-align: middle;\n",
       "    }\n",
       "\n",
       "    .dataframe tbody tr th {\n",
       "        vertical-align: top;\n",
       "    }\n",
       "\n",
       "    .dataframe thead th {\n",
       "        text-align: right;\n",
       "    }\n",
       "</style>\n",
       "<table border=\"1\" class=\"dataframe\">\n",
       "  <thead>\n",
       "    <tr style=\"text-align: right;\">\n",
       "      <th></th>\n",
       "      <th>FECHA</th>\n",
       "      <th>BARRIO</th>\n",
       "      <th>CLASE</th>\n",
       "      <th>cuentaclase</th>\n",
       "    </tr>\n",
       "  </thead>\n",
       "  <tbody>\n",
       "    <tr>\n",
       "      <th>7430</th>\n",
       "      <td>2014-03-25</td>\n",
       "      <td>caribe</td>\n",
       "      <td>choque</td>\n",
       "      <td>9</td>\n",
       "    </tr>\n",
       "    <tr>\n",
       "      <th>11338</th>\n",
       "      <td>2014-05-07</td>\n",
       "      <td>caribe</td>\n",
       "      <td>choque</td>\n",
       "      <td>9</td>\n",
       "    </tr>\n",
       "    <tr>\n",
       "      <th>40065</th>\n",
       "      <td>2015-03-20</td>\n",
       "      <td>terminal de transporte</td>\n",
       "      <td>choque</td>\n",
       "      <td>9</td>\n",
       "    </tr>\n",
       "    <tr>\n",
       "      <th>43410</th>\n",
       "      <td>2015-04-28</td>\n",
       "      <td>caribe</td>\n",
       "      <td>choque</td>\n",
       "      <td>9</td>\n",
       "    </tr>\n",
       "    <tr>\n",
       "      <th>47571</th>\n",
       "      <td>2015-06-11</td>\n",
       "      <td>la candelaria</td>\n",
       "      <td>choque</td>\n",
       "      <td>9</td>\n",
       "    </tr>\n",
       "    <tr>\n",
       "      <th>56779</th>\n",
       "      <td>2015-09-18</td>\n",
       "      <td>caribe</td>\n",
       "      <td>choque</td>\n",
       "      <td>9</td>\n",
       "    </tr>\n",
       "    <tr>\n",
       "      <th>63921</th>\n",
       "      <td>2015-12-05</td>\n",
       "      <td>guayaquil</td>\n",
       "      <td>choque</td>\n",
       "      <td>9</td>\n",
       "    </tr>\n",
       "    <tr>\n",
       "      <th>137535</th>\n",
       "      <td>2018-02-19</td>\n",
       "      <td>campo amor</td>\n",
       "      <td>choque</td>\n",
       "      <td>9</td>\n",
       "    </tr>\n",
       "    <tr>\n",
       "      <th>148923</th>\n",
       "      <td>2018-06-27</td>\n",
       "      <td>caribe</td>\n",
       "      <td>choque</td>\n",
       "      <td>9</td>\n",
       "    </tr>\n",
       "    <tr>\n",
       "      <th>159489</th>\n",
       "      <td>2018-10-25</td>\n",
       "      <td>la candelaria</td>\n",
       "      <td>choque</td>\n",
       "      <td>9</td>\n",
       "    </tr>\n",
       "    <tr>\n",
       "      <th>163659</th>\n",
       "      <td>2018-12-12</td>\n",
       "      <td>caribe</td>\n",
       "      <td>choque</td>\n",
       "      <td>9</td>\n",
       "    </tr>\n",
       "    <tr>\n",
       "      <th>192936</th>\n",
       "      <td>2019-11-01</td>\n",
       "      <td>campo amor</td>\n",
       "      <td>choque</td>\n",
       "      <td>9</td>\n",
       "    </tr>\n",
       "  </tbody>\n",
       "</table>\n",
       "</div>"
      ],
      "text/plain": [
       "            FECHA                  BARRIO   CLASE  cuentaclase\n",
       "7430   2014-03-25                  caribe  choque            9\n",
       "11338  2014-05-07                  caribe  choque            9\n",
       "40065  2015-03-20  terminal de transporte  choque            9\n",
       "43410  2015-04-28                  caribe  choque            9\n",
       "47571  2015-06-11           la candelaria  choque            9\n",
       "56779  2015-09-18                  caribe  choque            9\n",
       "63921  2015-12-05               guayaquil  choque            9\n",
       "137535 2018-02-19              campo amor  choque            9\n",
       "148923 2018-06-27                  caribe  choque            9\n",
       "159489 2018-10-25           la candelaria  choque            9\n",
       "163659 2018-12-12                  caribe  choque            9\n",
       "192936 2019-11-01              campo amor  choque            9"
      ]
     },
     "execution_count": 50,
     "metadata": {},
     "output_type": "execute_result"
    }
   ],
   "source": [
    "grupo[grupo['cuentaclase']>8] "
   ]
  },
  {
   "cell_type": "code",
   "execution_count": null,
   "metadata": {},
   "outputs": [],
   "source": []
  },
  {
   "cell_type": "code",
   "execution_count": null,
   "metadata": {},
   "outputs": [],
   "source": []
  }
 ],
 "metadata": {
  "kernelspec": {
   "display_name": "Python 3",
   "language": "python",
   "name": "python3"
  },
  "language_info": {
   "codemirror_mode": {
    "name": "ipython",
    "version": 3
   },
   "file_extension": ".py",
   "mimetype": "text/x-python",
   "name": "python",
   "nbconvert_exporter": "python",
   "pygments_lexer": "ipython3",
   "version": "3.8.6"
  }
 },
 "nbformat": 4,
 "nbformat_minor": 4
}
