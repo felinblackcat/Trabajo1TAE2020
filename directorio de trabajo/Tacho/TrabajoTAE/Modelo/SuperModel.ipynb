{
 "cells": [
  {
   "cell_type": "code",
   "execution_count": 9,
   "metadata": {},
   "outputs": [],
   "source": [
    "import pandas as pd\n",
    "from sklearn.preprocessing import LabelEncoder\n",
    "from sklearn import preprocessing\n",
    "import sklearn.svm\n",
    "from sklearn.model_selection import GridSearchCV\n",
    "from sklearn.multioutput import MultiOutputRegressor\n",
    "from sklearn import svm\n",
    "from sklearn.model_selection import GridSearchCV\n",
    "from sklearn.multioutput import MultiOutputRegressor\n",
    "from sklearn.model_selection import cross_val_score\n",
    "import numpy as np\n",
    "from sklearn.ensemble import RandomForestRegressor\n",
    "import joblib\n",
    "from sklearn.metrics import r2_score\n",
    "from matplotlib import pyplot as plt\n",
    "from sklearn.metrics import mean_squared_error as rmse\n",
    "from sklearn.neural_network import MLPClassifier\n",
    "import numpy as np\n",
    "np.random.seed(0)"
   ]
  },
  {
   "cell_type": "markdown",
   "metadata": {},
   "source": [
    "# Lectura de datos\n",
    "- train.xlsx para entrenamiento\n",
    "- val.xlsx para validacion"
   ]
  },
  {
   "cell_type": "code",
   "execution_count": 10,
   "metadata": {},
   "outputs": [],
   "source": [
    "train = pd.read_csv(\"train.csv\")\n",
    "val = pd.read_csv(\"val.csv\")\n"
   ]
  },
  {
   "cell_type": "markdown",
   "metadata": {},
   "source": [
    "# Entrenamiento por mes\n"
   ]
  },
  {
   "cell_type": "markdown",
   "metadata": {},
   "source": [
    "## Agrupacion de datos con:\n",
    "- Mes\n",
    "- Año\n",
    "- Cluster"
   ]
  },
  {
   "cell_type": "code",
   "execution_count": 11,
   "metadata": {},
   "outputs": [],
   "source": [
    "train_mes = train.groupby(['MES','ANIO','CLUSTER']).sum().reset_index()\n",
    "train_mes = train_mes[['MES','ANIO','CLUSTER','atropello','caida_ocupante','choque','otro','volcamiento']]\n",
    "\n",
    "val_mes = val.groupby(['MES','ANIO','CLUSTER']).sum().reset_index()\n",
    "val_mes = val_mes[['MES','ANIO','CLUSTER','atropello','caida_ocupante','choque','otro','volcamiento']]\n"
   ]
  },
  {
   "cell_type": "markdown",
   "metadata": {},
   "source": [
    "## Datos de entrenamiento "
   ]
  },
  {
   "cell_type": "code",
   "execution_count": 12,
   "metadata": {},
   "outputs": [],
   "source": [
    "#\n",
    "X_train = train_mes[['MES','ANIO','CLUSTER']].values\n",
    "y_train = train_mes[['atropello','caida_ocupante','choque','otro','volcamiento']].values\n"
   ]
  },
  {
   "cell_type": "markdown",
   "metadata": {},
   "source": [
    "## Normalizacion\n",
    "- Lo lleva a rango (0,1)"
   ]
  },
  {
   "cell_type": "code",
   "execution_count": 13,
   "metadata": {},
   "outputs": [
    {
     "data": {
      "text/plain": [
       "['scaler_mes.pkl']"
      ]
     },
     "execution_count": 13,
     "metadata": {},
     "output_type": "execute_result"
    }
   ],
   "source": [
    "#StandardScaler()\n",
    "#RobustScaler()\n",
    "min_max_scaler = preprocessing.MinMaxScaler()\n",
    "min_max_scaler = min_max_scaler.fit(X_train)\n",
    "X_train = min_max_scaler.transform(X_train)\n",
    "joblib.dump(min_max_scaler,\"scaler_mes.pkl\")\n"
   ]
  },
  {
   "cell_type": "markdown",
   "metadata": {},
   "source": [
    "## Entrenamiento svm"
   ]
  },
  {
   "cell_type": "code",
   "execution_count": 14,
   "metadata": {},
   "outputs": [
    {
     "name": "stdout",
     "output_type": "stream",
     "text": [
      "R2 promedio: -64572.18580367493\n"
     ]
    },
    {
     "data": {
      "text/plain": [
       "['svm_mes.pkl']"
      ]
     },
     "execution_count": 14,
     "metadata": {},
     "output_type": "execute_result"
    }
   ],
   "source": [
    "svm =  MultiOutputRegressor(sklearn.svm.SVR(),n_jobs=-1)\n",
    "scores = cross_val_score(svm, X_train, y_train, cv=5,scoring = 'neg_mean_squared_error')\n",
    "print('R2 promedio:',np.mean(scores))\n",
    "svm = svm.fit(X_train,y_train)\n",
    "joblib.dump(svm, 'svm_mes.pkl')"
   ]
  },
  {
   "cell_type": "markdown",
   "metadata": {},
   "source": [
    "## Prediccion"
   ]
  },
  {
   "cell_type": "code",
   "execution_count": 15,
   "metadata": {},
   "outputs": [
    {
     "data": {
      "text/plain": [
       "63980.354076548676"
      ]
     },
     "execution_count": 15,
     "metadata": {},
     "output_type": "execute_result"
    }
   ],
   "source": [
    "y_pred = svm.predict(X_train)\n",
    "rmse(y_train, y_pred)"
   ]
  },
  {
   "cell_type": "code",
   "execution_count": 16,
   "metadata": {},
   "outputs": [],
   "source": [
    "#'choque_atropello','incendio',\n",
    "X_val = val_mes[['MES','ANIO','CLUSTER']].values\n",
    "y_val = val_mes[['atropello','caida_ocupante','choque','otro','volcamiento']].values\n",
    "X_val = min_max_scaler.transform(X_val)"
   ]
  },
  {
   "cell_type": "markdown",
   "metadata": {},
   "source": [
    "## Validacion"
   ]
  },
  {
   "cell_type": "code",
   "execution_count": 17,
   "metadata": {},
   "outputs": [
    {
     "name": "stdout",
     "output_type": "stream",
     "text": [
      "RMSE  VALIDACION: 65223.74125175185\n"
     ]
    }
   ],
   "source": [
    "y_pred = svm.predict(X_val)\n",
    "print(\"RMSE  VALIDACION:\",rmse(y_val, y_pred))\n",
    "y_val = pd.DataFrame(y_val)\n",
    "y_pred = pd.DataFrame(y_pred)\n"
   ]
  },
  {
   "cell_type": "code",
   "execution_count": 18,
   "metadata": {},
   "outputs": [
    {
     "data": {
      "text/plain": [
       "[<matplotlib.lines.Line2D at 0x277c5855250>]"
      ]
     },
     "execution_count": 18,
     "metadata": {},
     "output_type": "execute_result"
    },
    {
     "data": {
      "image/png": "[encoded data removed]",
      "text/plain": [
       "<Figure size 432x288 with 1 Axes>"
      ]
     },
     "metadata": {
      "needs_background": "light"
     },
     "output_type": "display_data"
    }
   ],
   "source": [
    "plt.plot([i for i in range(30)],list(y_pred[0])[0:30])\n",
    "plt.plot([i for i in range(30)],list(y_val[0])[0:30])"
   ]
  },
  {
   "cell_type": "markdown",
   "metadata": {},
   "source": [
    "## Entrenamiento con RandomForestRegresor"
   ]
  },
  {
   "cell_type": "code",
   "execution_count": 19,
   "metadata": {},
   "outputs": [
    {
     "name": "stdout",
     "output_type": "stream",
     "text": [
      "R2 promedio: -1326.4431222266007\n"
     ]
    },
    {
     "data": {
      "text/plain": [
       "['bosque_mes.pkl']"
      ]
     },
     "execution_count": 19,
     "metadata": {},
     "output_type": "execute_result"
    }
   ],
   "source": [
    "bosque =  RandomForestRegressor()\n",
    "scores = cross_val_score(bosque, X_train, y_train, cv=5,scoring = 'neg_mean_squared_error')\n",
    "print('R2 promedio:',np.mean(scores))\n",
    "bosque = bosque.fit(X_train,y_train)\n",
    "joblib.dump(bosque, 'bosque_mes.pkl',compress=9)"
   ]
  },
  {
   "cell_type": "markdown",
   "metadata": {},
   "source": [
    "## Prediccion"
   ]
  },
  {
   "cell_type": "code",
   "execution_count": 20,
   "metadata": {},
   "outputs": [
    {
     "data": {
      "text/plain": [
       "94.04680861111116"
      ]
     },
     "execution_count": 20,
     "metadata": {},
     "output_type": "execute_result"
    }
   ],
   "source": [
    "y_pred = bosque.predict(X_train)\n",
    "rmse(y_train, y_pred)"
   ]
  },
  {
   "cell_type": "markdown",
   "metadata": {},
   "source": [
    "## Entrenamiento con tuneado de parametros"
   ]
  },
  {
   "cell_type": "code",
   "execution_count": 21,
   "metadata": {},
   "outputs": [
    {
     "name": "stdout",
     "output_type": "stream",
     "text": [
      "Mejores Parametros Encontrados\n",
      "{'bootstrap': True, 'max_depth': 128, 'max_features': 'auto', 'min_samples_split': 16, 'n_estimators': 1024}\n",
      "RMSE CV entrenamiento promedio: -1198.305688477314\n",
      "RMSE entrenamiento: 546.5580975358841\n"
     ]
    }
   ],
   "source": [
    "clf =  RandomForestRegressor()\n",
    "tuned_params = { \n",
    "            #\"criterion\": ['entropy','gini'],\n",
    "            \"max_features\": [1,2,4,8,16,32],\n",
    "            \"n_estimators\" :[512,1024,2048,4096],\n",
    "            \"min_samples_split\" : [2,4,8,16,32,64,128],\n",
    "            \"bootstrap\" : [False,True],\n",
    "            \"max_features\": ['auto','sqrt'],\n",
    "            \"max_depth\": [2,4,8,16,32,64,128,256]\n",
    "            }\n",
    "\n",
    "\n",
    "clf = GridSearchCV(clf, tuned_params,cv=5,scoring='neg_mean_squared_error',n_jobs = -1)\n",
    "clf.fit(X_train, y_train)\n",
    "print(\"Mejores Parametros Encontrados\")\n",
    "print(clf.best_params_)\n",
    "\n",
    "##\n",
    "## Se entrena el clasificador\n",
    "##\n",
    "clf =  RandomForestRegressor(\n",
    "    #criterion  = clf.best_params_['criterion'],\n",
    "    max_features  = clf.best_params_['max_features'],\n",
    "    n_estimators  = clf.best_params_['n_estimators'],\n",
    "    min_samples_split  = clf.best_params_['min_samples_split'],\n",
    "    bootstrap  = clf.best_params_['bootstrap'],\n",
    "    max_depth  = clf.best_params_['max_depth'],\n",
    ")\n",
    "\n",
    "\n",
    "scores = cross_val_score(clf, X_train, y_train, cv=5,scoring = 'neg_mean_squared_error')\n",
    "print('RMSE CV entrenamiento promedio:',np.mean(scores))\n",
    "\n",
    "### Se guarda el Modelo\n",
    "\n",
    "bosque = clf.fit(X_train,y_train)\n",
    "joblib.dump(bosque, 'bosque_tuning_mes.pkl',compress=9)\n",
    "\n",
    "\n",
    "\n",
    "y_pred = bosque.predict(X_train)\n",
    "print(\"RMSE entrenamiento:\",rmse(y_train, y_pred))"
   ]
  },
  {
   "cell_type": "markdown",
   "metadata": {},
   "source": [
    "## Prediccion para tuneado de datos"
   ]
  },
  {
   "cell_type": "code",
   "execution_count": null,
   "metadata": {},
   "outputs": [],
   "source": [
    "y_pred = bosque.predict(X_val)\n",
    "print(\"Error de validación:\",rmse(y_val, y_pred))\n",
    "y_val = pd.DataFrame(y_val)\n",
    "y_pred = pd.DataFrame(y_pred)\n",
    "plt.plot([i for i in range(30)],list(y_pred[1])[0:30])\n",
    "plt.plot([i for i in range(30)],list(y_val[1])[0:30])"
   ]
  },
  {
   "cell_type": "markdown",
   "metadata": {},
   "source": [
    "# Modelo predictivo por dia"
   ]
  },
  {
   "cell_type": "code",
   "execution_count": null,
   "metadata": {},
   "outputs": [],
   "source": [
    "train_dia = train.groupby(['DIA','MES','ANIO','CLUSTER']).sum().reset_index()\n",
    "train_dia = train_dia[['DIA','ESPECIAL','MES','ANIO','CLUSTER','atropello','caida_ocupante','choque','otro','volcamiento','incendio','choque_atropello']]\n",
    "\n",
    "val_dia = val.groupby(['DIA','MES','ANIO','CLUSTER']).sum().reset_index()\n",
    "val_dia = val_dia[['DIA','ESPECIAL','MES','ANIO','CLUSTER','atropello','caida_ocupante','choque','otro','volcamiento','incendio','choque_atropello']]\n"
   ]
  },
  {
   "cell_type": "code",
   "execution_count": null,
   "metadata": {},
   "outputs": [],
   "source": [
    "X_train = train_dia[['DIA','MES','ANIO','CLUSTER','ESPECIAL']].values\n",
    "y_train = train_dia[['DIA','ESPECIAL','atropello','caida_ocupante','choque','choque_atropello','incendio','otro','volcamiento']].values\n"
   ]
  },
  {
   "cell_type": "code",
   "execution_count": null,
   "metadata": {},
   "outputs": [],
   "source": [
    "min_max_scaler = preprocessing.MinMaxScaler()\n",
    "min_max_scaler = min_max_scaler.fit(X_train)\n",
    "X_train = min_max_scaler.transform(X_train)\n",
    "joblib.dump(min_max_scaler,\"scaler_dia.pkl\")"
   ]
  },
  {
   "cell_type": "code",
   "execution_count": null,
   "metadata": {},
   "outputs": [],
   "source": [
    "clf =  RandomForestRegressor()\n",
    "tuned_params = { \n",
    "            #\"criterion\": ['entropy','gini'],\n",
    "            \"max_features\": [1,2,4,8,16,32],\n",
    "            \"n_estimators\" :[512,1024,2048,4096],\n",
    "            \"min_samples_split\" : [2,4,8,16,32,64,128],\n",
    "            \"bootstrap\" : [False,True],\n",
    "            \"max_features\": ['auto','sqrt'],\n",
    "            \"max_depth\": [2,4,8,16,32,64,128,256]\n",
    "            }\n",
    "\n",
    "\n",
    "clf = GridSearchCV(clf, tuned_params,cv=5,scoring='neg_mean_squared_error',n_jobs = -1)\n",
    "clf.fit(X_train, y_train)\n",
    "print(\"Mejores Parametros Encontrados\")\n",
    "print(clf.best_params_)\n",
    "\n",
    "##\n",
    "## Se entrena el clasificador\n",
    "##\n",
    "clf =  RandomForestRegressor(\n",
    "    #criterion  = clf.best_params_['criterion'],\n",
    "    max_features  = clf.best_params_['max_features'],\n",
    "    n_estimators  = clf.best_params_['n_estimators'],\n",
    "    min_samples_split  = clf.best_params_['min_samples_split'],\n",
    "    bootstrap  = clf.best_params_['bootstrap'],\n",
    "    max_depth  = clf.best_params_['max_depth'],\n",
    ")\n",
    "\n",
    "scores = cross_val_score(clf, X_train, y_train, cv=5,scoring = 'neg_mean_squared_error')\n",
    "print('RMSE CV entrenamiento promedio:',np.mean(scores))\n",
    "\n",
    "### Se guarda el Modelo\n",
    "\n",
    "bosque = clf.fit(X_train,y_train)\n",
    "joblib.dump(bosque, 'bosque_tuning_dia.pkl',compress=9)\n",
    "\n",
    "\n",
    "\n",
    "y_pred = bosque.predict(X_train)\n",
    "print(\"RMSE entrenamiento:\",rmse(y_train, y_pred))"
   ]
  },
  {
   "cell_type": "code",
   "execution_count": null,
   "metadata": {},
   "outputs": [],
   "source": [
    "y_pred = bosque.predict(X_val)\n",
    "print(\"Error de validación:\",rmse(y_val, y_pred))\n",
    "y_val = pd.DataFrame(y_val)\n",
    "y_pred = pd.DataFrame(y_pred)\n",
    "#plt.plot([i for i in range(30)],list(y_pred[1])[0:30])\n",
    "#plt.plot([i for i in range(30)],list(y_val[1])[0:30])\n",
    "plt.plot(y_pred)\n",
    "plt.plot(y_val)"
   ]
  },
  {
   "cell_type": "code",
   "execution_count": null,
   "metadata": {},
   "outputs": [],
   "source": []
  }
 ],
 "metadata": {
  "kernelspec": {
   "display_name": "Python 3",
   "language": "python",
   "name": "python3"
  },
  "language_info": {
   "codemirror_mode": {
    "name": "ipython",
    "version": 3
   },
   "file_extension": ".py",
   "mimetype": "text/x-python",
   "name": "python",
   "nbconvert_exporter": "python",
   "pygments_lexer": "ipython3",
   "version": "3.8.6"
  }
 },
 "nbformat": 4,
 "nbformat_minor": 4
}
