{
 "cells": [
  {
   "cell_type": "code",
   "execution_count": 213,
   "metadata": {},
   "outputs": [],
   "source": [
    "import pandas as pd\n",
    "from sklearn.preprocessing import LabelEncoder\n",
    "from sklearn import preprocessing\n",
    "import sklearn.svm\n",
    "from sklearn.model_selection import GridSearchCV\n",
    "from sklearn.multioutput import MultiOutputRegressor\n",
    "from sklearn import svm\n",
    "from sklearn.model_selection import GridSearchCV\n",
    "from sklearn.multioutput import MultiOutputRegressor\n",
    "from sklearn.model_selection import cross_val_score\n",
    "import numpy as np\n",
    "from sklearn.ensemble import RandomForestRegressor\n",
    "import joblib\n",
    "from sklearn.metrics import r2_score\n",
    "from matplotlib import pyplot as plt\n",
    "from sklearn.metrics import mean_squared_error as rmse\n",
    "from sklearn.neural_network import MLPClassifier\n",
    "import numpy as np\n",
    "np.random.seed(0)"
   ]
  },
  {
   "cell_type": "markdown",
   "metadata": {},
   "source": [
    "# Lectura de datos\n",
    "- train.xlsx para entrenamiento\n",
    "- val.xlsx para validacion"
   ]
  },
  {
   "cell_type": "code",
   "execution_count": 214,
   "metadata": {},
   "outputs": [],
   "source": [
    "train = pd.read_excel(\"train.xlsx\")\n",
    "val = pd.read_excel(\"val.xlsx\")\n"
   ]
  },
  {
   "cell_type": "markdown",
   "metadata": {},
   "source": [
    "# Entrenamiento por mes\n"
   ]
  },
  {
   "cell_type": "markdown",
   "metadata": {},
   "source": [
    "## Agrupacion de datos con:\n",
    "- Mes\n",
    "- Año\n",
    "- Cluster"
   ]
  },
  {
   "cell_type": "code",
   "execution_count": 215,
   "metadata": {},
   "outputs": [],
   "source": [
    "train_mes = train.groupby(['MES','ANIO','CLUSTER']).sum().reset_index()\n",
    "train_mes = train_mes[['MES','ANIO','CLUSTER','atropello','caida_ocupante','choque','otro','volcamiento','incendio','choque_atropello']]\n",
    "\n",
    "val_mes = val.groupby(['MES','ANIO','CLUSTER']).sum().reset_index()\n",
    "val_mes = val_mes[['MES','ANIO','CLUSTER','atropello','caida_ocupante','choque','otro','volcamiento','incendio','choque_atropello']]\n"
   ]
  },
  {
   "cell_type": "markdown",
   "metadata": {},
   "source": [
    "## Datos de entrenamiento "
   ]
  },
  {
   "cell_type": "code",
   "execution_count": 216,
   "metadata": {},
   "outputs": [],
   "source": [
    "#\n",
    "X_train = train_mes[['MES','ANIO','CLUSTER']].values\n",
    "y_train = train_mes[['atropello','caida_ocupante','choque','choque_atropello','incendio','otro','volcamiento']].values\n"
   ]
  },
  {
   "cell_type": "markdown",
   "metadata": {},
   "source": [
    "## Normalizacion\n",
    "- Lo lleva a rango (0,1)"
   ]
  },
  {
   "cell_type": "code",
   "execution_count": 227,
   "metadata": {},
   "outputs": [
    {
     "data": {
      "text/plain": [
       "['scaler_mes.pkl']"
      ]
     },
     "execution_count": 227,
     "metadata": {},
     "output_type": "execute_result"
    }
   ],
   "source": [
    "#StandardScaler()\n",
    "#RobustScaler()\n",
    "min_max_scaler = preprocessing.MinMaxScaler()\n",
    "min_max_scaler = min_max_scaler.fit(X_train)\n",
    "X_train = min_max_scaler.transform(X_train)\n",
    "joblib.dump(min_max_scaler,\"scaler_mes.pkl\")\n"
   ]
  },
  {
   "cell_type": "markdown",
   "metadata": {},
   "source": [
    "## Entrenamiento svm"
   ]
  },
  {
   "cell_type": "code",
   "execution_count": 218,
   "metadata": {},
   "outputs": [
    {
     "name": "stdout",
     "output_type": "stream",
     "text": [
      "R2 promedio: -45750.578072591736\n"
     ]
    },
    {
     "data": {
      "text/plain": [
       "['svm_mes.pkl']"
      ]
     },
     "execution_count": 218,
     "metadata": {},
     "output_type": "execute_result"
    }
   ],
   "source": [
    "svm =  MultiOutputRegressor(sklearn.svm.SVR(),n_jobs=-1)\n",
    "scores = cross_val_score(svm, X_train, y_train, cv=5,scoring = 'neg_mean_squared_error')\n",
    "print('R2 promedio:',np.mean(scores))\n",
    "svm = svm.fit(X_train,y_train)\n",
    "joblib.dump(svm, 'svm_mes.pkl')"
   ]
  },
  {
   "cell_type": "markdown",
   "metadata": {},
   "source": [
    "## Prediccion"
   ]
  },
  {
   "cell_type": "code",
   "execution_count": 219,
   "metadata": {},
   "outputs": [
    {
     "data": {
      "text/plain": [
       "45380.24728474487"
      ]
     },
     "execution_count": 219,
     "metadata": {},
     "output_type": "execute_result"
    }
   ],
   "source": [
    "y_pred = svm.predict(X_train)\n",
    "rmse(y_train, y_pred)"
   ]
  },
  {
   "cell_type": "code",
   "execution_count": 220,
   "metadata": {},
   "outputs": [],
   "source": [
    "#'choque_atropello','incendio',\n",
    "X_val = val_mes[['MES','ANIO','CLUSTER']].values\n",
    "y_val = val_mes[['atropello','caida_ocupante','choque','choque_atropello','incendio','otro','volcamiento']].values\n",
    "X_val = min_max_scaler.transform(X_val)"
   ]
  },
  {
   "cell_type": "markdown",
   "metadata": {},
   "source": [
    "## Validacion"
   ]
  },
  {
   "cell_type": "code",
   "execution_count": 221,
   "metadata": {},
   "outputs": [
    {
     "name": "stdout",
     "output_type": "stream",
     "text": [
      "RMSE  VALIDACION: 46279.63178557018\n"
     ]
    }
   ],
   "source": [
    "y_pred = svm.predict(X_val)\n",
    "print(\"RMSE  VALIDACION:\",rmse(y_val, y_pred))\n",
    "y_val = pd.DataFrame(y_val)\n",
    "y_pred = pd.DataFrame(y_pred)\n"
   ]
  },
  {
   "cell_type": "code",
   "execution_count": 222,
   "metadata": {},
   "outputs": [
    {
     "data": {
      "text/plain": [
       "[<matplotlib.lines.Line2D at 0x24a12511040>]"
      ]
     },
     "execution_count": 222,
     "metadata": {},
     "output_type": "execute_result"
    },
    {
     "data": {
      "image/png": "[encoded data removed]",
      "text/plain": [
       "<Figure size 432x288 with 1 Axes>"
      ]
     },
     "metadata": {
      "needs_background": "light"
     },
     "output_type": "display_data"
    }
   ],
   "source": [
    "plt.plot([i for i in range(30)],list(y_pred[0])[0:30])\n",
    "plt.plot([i for i in range(30)],list(y_val[0])[0:30])"
   ]
  },
  {
   "cell_type": "markdown",
   "metadata": {},
   "source": [
    "## Entrenamiento con RandomForestRegresor"
   ]
  },
  {
   "cell_type": "code",
   "execution_count": 223,
   "metadata": {},
   "outputs": [
    {
     "name": "stdout",
     "output_type": "stream",
     "text": [
      "R2 promedio: -949.1014546446168\n"
     ]
    },
    {
     "data": {
      "text/plain": [
       "['bosque_mes.pkl']"
      ]
     },
     "execution_count": 223,
     "metadata": {},
     "output_type": "execute_result"
    }
   ],
   "source": [
    "bosque =  RandomForestRegressor()\n",
    "scores = cross_val_score(bosque, X_train, y_train, cv=5,scoring = 'neg_mean_squared_error')\n",
    "print('R2 promedio:',np.mean(scores))\n",
    "bosque = bosque.fit(X_train,y_train)\n",
    "joblib.dump(bosque, 'bosque_mes.pkl',compress=9)"
   ]
  },
  {
   "cell_type": "markdown",
   "metadata": {},
   "source": [
    "## Prediccion"
   ]
  },
  {
   "cell_type": "code",
   "execution_count": 224,
   "metadata": {},
   "outputs": [
    {
     "data": {
      "text/plain": [
       "66.80343779761913"
      ]
     },
     "execution_count": 224,
     "metadata": {},
     "output_type": "execute_result"
    }
   ],
   "source": [
    "y_pred = bosque.predict(X_train)\n",
    "rmse(y_train, y_pred)"
   ]
  },
  {
   "cell_type": "markdown",
   "metadata": {},
   "source": [
    "## Entrenamiento con tuneado de parametros"
   ]
  },
  {
   "cell_type": "code",
   "execution_count": 225,
   "metadata": {},
   "outputs": [
    {
     "name": "stdout",
     "output_type": "stream",
     "text": [
      "Mejores Parametros Encontrados\n",
      "{'bootstrap': True, 'max_depth': 256, 'max_features': 'auto', 'min_samples_split': 16, 'n_estimators': 512}\n",
      "RMSE CV entrenamiento promedio: -855.613141142932\n",
      "RMSE entrenamiento: 386.69958692011886\n"
     ]
    }
   ],
   "source": [
    "clf =  RandomForestRegressor()\n",
    "tuned_params = { \n",
    "            #\"criterion\": ['entropy','gini'],\n",
    "            \"max_features\": [1,2,4,8,16,32],\n",
    "            \"n_estimators\" :[512,1024,2048,4096],\n",
    "            \"min_samples_split\" : [2,4,8,16,32,64,128],\n",
    "            \"bootstrap\" : [False,True],\n",
    "            \"max_features\": ['auto','sqrt'],\n",
    "            \"max_depth\": [2,4,8,16,32,64,128,256]\n",
    "            }\n",
    "\n",
    "\n",
    "clf = GridSearchCV(clf, tuned_params,cv=5,scoring='neg_mean_squared_error',n_jobs = -1)\n",
    "clf.fit(X_train, y_train)\n",
    "print(\"Mejores Parametros Encontrados\")\n",
    "print(clf.best_params_)\n",
    "\n",
    "##\n",
    "## Se entrena el clasificador\n",
    "##\n",
    "clf =  RandomForestRegressor(\n",
    "    #criterion  = clf.best_params_['criterion'],\n",
    "    max_features  = clf.best_params_['max_features'],\n",
    "    n_estimators  = clf.best_params_['n_estimators'],\n",
    "    min_samples_split  = clf.best_params_['min_samples_split'],\n",
    "    bootstrap  = clf.best_params_['bootstrap'],\n",
    "    max_depth  = clf.best_params_['max_depth'],\n",
    ")\n",
    "\n",
    "\n",
    "scores = cross_val_score(clf, X_train, y_train, cv=5,scoring = 'neg_mean_squared_error')\n",
    "print('RMSE CV entrenamiento promedio:',np.mean(scores))\n",
    "\n",
    "### Se guarda el Modelo\n",
    "\n",
    "bosque = clf.fit(X_train,y_train)\n",
    "joblib.dump(bosque, 'bosque_tuning_mes.pkl',compress=9)\n",
    "\n",
    "\n",
    "\n",
    "y_pred = bosque.predict(X_train)\n",
    "print(\"RMSE entrenamiento:\",rmse(y_train, y_pred))"
   ]
  },
  {
   "cell_type": "markdown",
   "metadata": {},
   "source": [
    "## Prediccion para tuneado de datos"
   ]
  },
  {
   "cell_type": "code",
   "execution_count": 226,
   "metadata": {},
   "outputs": [
    {
     "name": "stdout",
     "output_type": "stream",
     "text": [
      "Error de validación: 593.8414240047196\n"
     ]
    },
    {
     "data": {
      "text/plain": [
       "[<matplotlib.lines.Line2D at 0x24a18980790>]"
      ]
     },
     "execution_count": 226,
     "metadata": {},
     "output_type": "execute_result"
    },
    {
     "data": {
      "image/png": "[encoded data removed]",
      "text/plain": [
       "<Figure size 432x288 with 1 Axes>"
      ]
     },
     "metadata": {
      "needs_background": "light"
     },
     "output_type": "display_data"
    }
   ],
   "source": [
    "y_pred = bosque.predict(X_val)\n",
    "print(\"Error de validación:\",rmse(y_val, y_pred))\n",
    "y_val = pd.DataFrame(y_val)\n",
    "y_pred = pd.DataFrame(y_pred)\n",
    "plt.plot([i for i in range(30)],list(y_pred[1])[0:30])\n",
    "plt.plot([i for i in range(30)],list(y_val[1])[0:30])"
   ]
  },
  {
   "cell_type": "markdown",
   "metadata": {},
   "source": [
    "# Modelo predictivo por dia"
   ]
  },
  {
   "cell_type": "code",
   "execution_count": 231,
   "metadata": {},
   "outputs": [],
   "source": [
    "train_dia = train.groupby(['DIA','MES','ANIO','CLUSTER']).sum().reset_index()\n",
    "train_dia = train_dia[['DIA','ESPECIAL','MES','ANIO','CLUSTER','atropello','caida_ocupante','choque','otro','volcamiento','incendio','choque_atropello']]\n",
    "\n",
    "val_dia = val.groupby(['DIA','MES','ANIO','CLUSTER']).sum().reset_index()\n",
    "val_dia = val_dia[['DIA','ESPECIAL','MES','ANIO','CLUSTER','atropello','caida_ocupante','choque','otro','volcamiento','incendio','choque_atropello']]\n"
   ]
  },
  {
   "cell_type": "code",
   "execution_count": 236,
   "metadata": {},
   "outputs": [],
   "source": [
    "X_train = train_dia[['DIA','MES','ANIO','CLUSTER','ESPECIAL']].values\n",
    "y_train = train_dia[['DIA','ESPECIAL','atropello','caida_ocupante','choque','choque_atropello','incendio','otro','volcamiento']].values\n"
   ]
  },
  {
   "cell_type": "code",
   "execution_count": 237,
   "metadata": {},
   "outputs": [
    {
     "data": {
      "text/plain": [
       "['scaler_dia.pkl']"
      ]
     },
     "execution_count": 237,
     "metadata": {},
     "output_type": "execute_result"
    }
   ],
   "source": [
    "min_max_scaler = preprocessing.MinMaxScaler()\n",
    "min_max_scaler = min_max_scaler.fit(X_train)\n",
    "X_train = min_max_scaler.transform(X_train)\n",
    "joblib.dump(min_max_scaler,\"scaler_dia.pkl\")"
   ]
  },
  {
   "cell_type": "code",
   "execution_count": 238,
   "metadata": {},
   "outputs": [
    {
     "name": "stdout",
     "output_type": "stream",
     "text": [
      "Mejores Parametros Encontrados\n",
      "{'bootstrap': True, 'max_depth': 8, 'max_features': 'auto', 'min_samples_split': 16, 'n_estimators': 2048}\n",
      "RMSE CV entrenamiento promedio: -11.590153221305867\n",
      "RMSE entrenamiento: 9.018529837533174\n"
     ]
    }
   ],
   "source": [
    "clf =  RandomForestRegressor()\n",
    "tuned_params = { \n",
    "            #\"criterion\": ['entropy','gini'],\n",
    "            \"max_features\": [1,2,4,8,16,32],\n",
    "            \"n_estimators\" :[512,1024,2048,4096],\n",
    "            \"min_samples_split\" : [2,4,8,16,32,64,128],\n",
    "            \"bootstrap\" : [False,True],\n",
    "            \"max_features\": ['auto','sqrt'],\n",
    "            \"max_depth\": [2,4,8,16,32,64,128,256]\n",
    "            }\n",
    "\n",
    "\n",
    "clf = GridSearchCV(clf, tuned_params,cv=5,scoring='neg_mean_squared_error',n_jobs = -1)\n",
    "clf.fit(X_train, y_train)\n",
    "print(\"Mejores Parametros Encontrados\")\n",
    "print(clf.best_params_)\n",
    "\n",
    "##\n",
    "## Se entrena el clasificador\n",
    "##\n",
    "clf =  RandomForestRegressor(\n",
    "    #criterion  = clf.best_params_['criterion'],\n",
    "    max_features  = clf.best_params_['max_features'],\n",
    "    n_estimators  = clf.best_params_['n_estimators'],\n",
    "    min_samples_split  = clf.best_params_['min_samples_split'],\n",
    "    bootstrap  = clf.best_params_['bootstrap'],\n",
    "    max_depth  = clf.best_params_['max_depth'],\n",
    ")\n",
    "\n",
    "scores = cross_val_score(clf, X_train, y_train, cv=5,scoring = 'neg_mean_squared_error')\n",
    "print('RMSE CV entrenamiento promedio:',np.mean(scores))\n",
    "\n",
    "### Se guarda el Modelo\n",
    "\n",
    "bosque = clf.fit(X_train,y_train)\n",
    "joblib.dump(bosque, 'bosque_tuning_dia.pkl',compress=9)\n",
    "\n",
    "\n",
    "\n",
    "y_pred = bosque.predict(X_train)\n",
    "print(\"RMSE entrenamiento:\",rmse(y_train, y_pred))"
   ]
  },
  {
   "cell_type": "code",
   "execution_count": 240,
   "metadata": {},
   "outputs": [
    {
     "ename": "ValueError",
     "evalue": "Number of features of the model must match the input. Model n_features is 5 and input n_features is 3 ",
     "output_type": "error",
     "traceback": [
      "\u001b[1;31m---------------------------------------------------------------------------\u001b[0m",
      "\u001b[1;31mValueError\u001b[0m                                Traceback (most recent call last)",
      "\u001b[1;32m<ipython-input-240-4d2a56624b49>\u001b[0m in \u001b[0;36m<module>\u001b[1;34m\u001b[0m\n\u001b[1;32m----> 1\u001b[1;33m \u001b[0my_pred\u001b[0m \u001b[1;33m=\u001b[0m \u001b[0mbosque\u001b[0m\u001b[1;33m.\u001b[0m\u001b[0mpredict\u001b[0m\u001b[1;33m(\u001b[0m\u001b[0mX_val\u001b[0m\u001b[1;33m)\u001b[0m\u001b[1;33m\u001b[0m\u001b[1;33m\u001b[0m\u001b[0m\n\u001b[0m\u001b[0;32m      2\u001b[0m \u001b[0mprint\u001b[0m\u001b[1;33m(\u001b[0m\u001b[1;34m\"Error de validación:\"\u001b[0m\u001b[1;33m,\u001b[0m\u001b[0mrmse\u001b[0m\u001b[1;33m(\u001b[0m\u001b[0my_val\u001b[0m\u001b[1;33m,\u001b[0m \u001b[0my_pred\u001b[0m\u001b[1;33m)\u001b[0m\u001b[1;33m)\u001b[0m\u001b[1;33m\u001b[0m\u001b[1;33m\u001b[0m\u001b[0m\n\u001b[0;32m      3\u001b[0m \u001b[0my_val\u001b[0m \u001b[1;33m=\u001b[0m \u001b[0mpd\u001b[0m\u001b[1;33m.\u001b[0m\u001b[0mDataFrame\u001b[0m\u001b[1;33m(\u001b[0m\u001b[0my_val\u001b[0m\u001b[1;33m)\u001b[0m\u001b[1;33m\u001b[0m\u001b[1;33m\u001b[0m\u001b[0m\n\u001b[0;32m      4\u001b[0m \u001b[0my_pred\u001b[0m \u001b[1;33m=\u001b[0m \u001b[0mpd\u001b[0m\u001b[1;33m.\u001b[0m\u001b[0mDataFrame\u001b[0m\u001b[1;33m(\u001b[0m\u001b[0my_pred\u001b[0m\u001b[1;33m)\u001b[0m\u001b[1;33m\u001b[0m\u001b[1;33m\u001b[0m\u001b[0m\n\u001b[0;32m      5\u001b[0m \u001b[1;31m#plt.plot([i for i in range(30)],list(y_pred[1])[0:30])\u001b[0m\u001b[1;33m\u001b[0m\u001b[1;33m\u001b[0m\u001b[1;33m\u001b[0m\u001b[0m\n",
      "\u001b[1;32mF:\\Winpython64-3.8.6.0\\WPy64-3860\\python-3.8.6.amd64\\lib\\site-packages\\sklearn\\ensemble\\_forest.py\u001b[0m in \u001b[0;36mpredict\u001b[1;34m(self, X)\u001b[0m\n\u001b[0;32m    781\u001b[0m         \u001b[0mcheck_is_fitted\u001b[0m\u001b[1;33m(\u001b[0m\u001b[0mself\u001b[0m\u001b[1;33m)\u001b[0m\u001b[1;33m\u001b[0m\u001b[1;33m\u001b[0m\u001b[0m\n\u001b[0;32m    782\u001b[0m         \u001b[1;31m# Check data\u001b[0m\u001b[1;33m\u001b[0m\u001b[1;33m\u001b[0m\u001b[1;33m\u001b[0m\u001b[0m\n\u001b[1;32m--> 783\u001b[1;33m         \u001b[0mX\u001b[0m \u001b[1;33m=\u001b[0m \u001b[0mself\u001b[0m\u001b[1;33m.\u001b[0m\u001b[0m_validate_X_predict\u001b[0m\u001b[1;33m(\u001b[0m\u001b[0mX\u001b[0m\u001b[1;33m)\u001b[0m\u001b[1;33m\u001b[0m\u001b[1;33m\u001b[0m\u001b[0m\n\u001b[0m\u001b[0;32m    784\u001b[0m \u001b[1;33m\u001b[0m\u001b[0m\n\u001b[0;32m    785\u001b[0m         \u001b[1;31m# Assign chunk of trees to jobs\u001b[0m\u001b[1;33m\u001b[0m\u001b[1;33m\u001b[0m\u001b[1;33m\u001b[0m\u001b[0m\n",
      "\u001b[1;32mF:\\Winpython64-3.8.6.0\\WPy64-3860\\python-3.8.6.amd64\\lib\\site-packages\\sklearn\\ensemble\\_forest.py\u001b[0m in \u001b[0;36m_validate_X_predict\u001b[1;34m(self, X)\u001b[0m\n\u001b[0;32m    419\u001b[0m         \u001b[0mcheck_is_fitted\u001b[0m\u001b[1;33m(\u001b[0m\u001b[0mself\u001b[0m\u001b[1;33m)\u001b[0m\u001b[1;33m\u001b[0m\u001b[1;33m\u001b[0m\u001b[0m\n\u001b[0;32m    420\u001b[0m \u001b[1;33m\u001b[0m\u001b[0m\n\u001b[1;32m--> 421\u001b[1;33m         \u001b[1;32mreturn\u001b[0m \u001b[0mself\u001b[0m\u001b[1;33m.\u001b[0m\u001b[0mestimators_\u001b[0m\u001b[1;33m[\u001b[0m\u001b[1;36m0\u001b[0m\u001b[1;33m]\u001b[0m\u001b[1;33m.\u001b[0m\u001b[0m_validate_X_predict\u001b[0m\u001b[1;33m(\u001b[0m\u001b[0mX\u001b[0m\u001b[1;33m,\u001b[0m \u001b[0mcheck_input\u001b[0m\u001b[1;33m=\u001b[0m\u001b[1;32mTrue\u001b[0m\u001b[1;33m)\u001b[0m\u001b[1;33m\u001b[0m\u001b[1;33m\u001b[0m\u001b[0m\n\u001b[0m\u001b[0;32m    422\u001b[0m \u001b[1;33m\u001b[0m\u001b[0m\n\u001b[0;32m    423\u001b[0m     \u001b[1;33m@\u001b[0m\u001b[0mproperty\u001b[0m\u001b[1;33m\u001b[0m\u001b[1;33m\u001b[0m\u001b[0m\n",
      "\u001b[1;32mF:\\Winpython64-3.8.6.0\\WPy64-3860\\python-3.8.6.amd64\\lib\\site-packages\\sklearn\\tree\\_classes.py\u001b[0m in \u001b[0;36m_validate_X_predict\u001b[1;34m(self, X, check_input)\u001b[0m\n\u001b[0;32m    394\u001b[0m         \u001b[0mn_features\u001b[0m \u001b[1;33m=\u001b[0m \u001b[0mX\u001b[0m\u001b[1;33m.\u001b[0m\u001b[0mshape\u001b[0m\u001b[1;33m[\u001b[0m\u001b[1;36m1\u001b[0m\u001b[1;33m]\u001b[0m\u001b[1;33m\u001b[0m\u001b[1;33m\u001b[0m\u001b[0m\n\u001b[0;32m    395\u001b[0m         \u001b[1;32mif\u001b[0m \u001b[0mself\u001b[0m\u001b[1;33m.\u001b[0m\u001b[0mn_features_\u001b[0m \u001b[1;33m!=\u001b[0m \u001b[0mn_features\u001b[0m\u001b[1;33m:\u001b[0m\u001b[1;33m\u001b[0m\u001b[1;33m\u001b[0m\u001b[0m\n\u001b[1;32m--> 396\u001b[1;33m             raise ValueError(\"Number of features of the model must \"\n\u001b[0m\u001b[0;32m    397\u001b[0m                              \u001b[1;34m\"match the input. Model n_features is %s and \"\u001b[0m\u001b[1;33m\u001b[0m\u001b[1;33m\u001b[0m\u001b[0m\n\u001b[0;32m    398\u001b[0m                              \u001b[1;34m\"input n_features is %s \"\u001b[0m\u001b[1;33m\u001b[0m\u001b[1;33m\u001b[0m\u001b[0m\n",
      "\u001b[1;31mValueError\u001b[0m: Number of features of the model must match the input. Model n_features is 5 and input n_features is 3 "
     ]
    }
   ],
   "source": [
    "y_pred = bosque.predict(X_val)\n",
    "print(\"Error de validación:\",rmse(y_val, y_pred))\n",
    "y_val = pd.DataFrame(y_val)\n",
    "y_pred = pd.DataFrame(y_pred)\n",
    "#plt.plot([i for i in range(30)],list(y_pred[1])[0:30])\n",
    "#plt.plot([i for i in range(30)],list(y_val[1])[0:30])\n",
    "plt.plot(y_pred)\n",
    "plt.plot(y_val)"
   ]
  },
  {
   "cell_type": "code",
   "execution_count": null,
   "metadata": {},
   "outputs": [],
   "source": []
  }
 ],
 "metadata": {
  "kernelspec": {
   "display_name": "Python 3",
   "language": "python",
   "name": "python3"
  },
  "language_info": {
   "codemirror_mode": {
    "name": "ipython",
    "version": 3
   },
   "file_extension": ".py",
   "mimetype": "text/x-python",
   "name": "python",
   "nbconvert_exporter": "python",
   "pygments_lexer": "ipython3",
   "version": "3.8.6"
  }
 },
 "nbformat": 4,
 "nbformat_minor": 4
}
