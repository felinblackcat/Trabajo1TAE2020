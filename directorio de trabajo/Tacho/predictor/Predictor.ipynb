{
 "cells": [
  {
   "cell_type": "code",
   "execution_count": 33,
   "metadata": {},
   "outputs": [],
   "source": [
    "import pandas as pd\n",
    "from sklearn.preprocessing import LabelEncoder\n",
    "from sklearn import preprocessing\n",
    "import sklearn.svm\n",
    "from sklearn.model_selection import GridSearchCV\n",
    "from sklearn.multioutput import MultiOutputRegressor\n",
    "from sklearn import svm\n",
    "from sklearn.model_selection import GridSearchCV\n",
    "from sklearn.multioutput import MultiOutputRegressor\n",
    "from sklearn.model_selection import cross_val_score\n",
    "import numpy as np\n",
    "from sklearn.ensemble import RandomForestRegressor\n",
    "import joblib\n",
    "from sklearn.metrics import r2_score\n",
    "from matplotlib import pyplot as plt\n",
    "from sklearn.metrics import mean_squared_error as rmse"
   ]
  },
  {
   "cell_type": "markdown",
   "metadata": {},
   "source": [
    "# Lectura de Datos"
   ]
  },
  {
   "cell_type": "code",
   "execution_count": 34,
   "metadata": {},
   "outputs": [],
   "source": [
    "train = pd.read_excel(\"train.xlsx\")\n",
    "val = pd.read_excel(\"val.xlsx\")"
   ]
  },
  {
   "cell_type": "markdown",
   "metadata": {},
   "source": [
    "# Agrupación de datos"
   ]
  },
  {
   "cell_type": "markdown",
   "metadata": {},
   "source": [
    "Día"
   ]
  },
  {
   "cell_type": "code",
   "execution_count": 35,
   "metadata": {},
   "outputs": [
    {
     "data": {
      "text/html": [
       "<div>\n",
       "<style scoped>\n",
       "    .dataframe tbody tr th:only-of-type {\n",
       "        vertical-align: middle;\n",
       "    }\n",
       "\n",
       "    .dataframe tbody tr th {\n",
       "        vertical-align: top;\n",
       "    }\n",
       "\n",
       "    .dataframe thead th {\n",
       "        text-align: right;\n",
       "    }\n",
       "</style>\n",
       "<table border=\"1\" class=\"dataframe\">\n",
       "  <thead>\n",
       "    <tr style=\"text-align: right;\">\n",
       "      <th></th>\n",
       "      <th>BARRIO</th>\n",
       "      <th>DIA</th>\n",
       "      <th>MES</th>\n",
       "      <th>ANIO</th>\n",
       "      <th>ESPECIAL</th>\n",
       "      <th>atropello</th>\n",
       "      <th>caida_ocupante</th>\n",
       "      <th>choque</th>\n",
       "      <th>otro</th>\n",
       "      <th>volcamiento</th>\n",
       "      <th>incendio</th>\n",
       "      <th>choque_atropello</th>\n",
       "    </tr>\n",
       "  </thead>\n",
       "  <tbody>\n",
       "    <tr>\n",
       "      <th>0</th>\n",
       "      <td>aguas frias</td>\n",
       "      <td>2</td>\n",
       "      <td>5</td>\n",
       "      <td>2018</td>\n",
       "      <td>0</td>\n",
       "      <td>0</td>\n",
       "      <td>0</td>\n",
       "      <td>1</td>\n",
       "      <td>0</td>\n",
       "      <td>0</td>\n",
       "      <td>0</td>\n",
       "      <td>0</td>\n",
       "    </tr>\n",
       "    <tr>\n",
       "      <th>1</th>\n",
       "      <td>aguas frias</td>\n",
       "      <td>2</td>\n",
       "      <td>8</td>\n",
       "      <td>2018</td>\n",
       "      <td>0</td>\n",
       "      <td>1</td>\n",
       "      <td>0</td>\n",
       "      <td>0</td>\n",
       "      <td>0</td>\n",
       "      <td>0</td>\n",
       "      <td>0</td>\n",
       "      <td>0</td>\n",
       "    </tr>\n",
       "    <tr>\n",
       "      <th>2</th>\n",
       "      <td>aguas frias</td>\n",
       "      <td>4</td>\n",
       "      <td>11</td>\n",
       "      <td>2018</td>\n",
       "      <td>0</td>\n",
       "      <td>0</td>\n",
       "      <td>1</td>\n",
       "      <td>1</td>\n",
       "      <td>0</td>\n",
       "      <td>0</td>\n",
       "      <td>0</td>\n",
       "      <td>0</td>\n",
       "    </tr>\n",
       "    <tr>\n",
       "      <th>3</th>\n",
       "      <td>aguas frias</td>\n",
       "      <td>10</td>\n",
       "      <td>8</td>\n",
       "      <td>2018</td>\n",
       "      <td>0</td>\n",
       "      <td>1</td>\n",
       "      <td>0</td>\n",
       "      <td>0</td>\n",
       "      <td>0</td>\n",
       "      <td>0</td>\n",
       "      <td>0</td>\n",
       "      <td>0</td>\n",
       "    </tr>\n",
       "    <tr>\n",
       "      <th>4</th>\n",
       "      <td>aguas frias</td>\n",
       "      <td>19</td>\n",
       "      <td>10</td>\n",
       "      <td>2018</td>\n",
       "      <td>0</td>\n",
       "      <td>0</td>\n",
       "      <td>0</td>\n",
       "      <td>0</td>\n",
       "      <td>1</td>\n",
       "      <td>0</td>\n",
       "      <td>0</td>\n",
       "      <td>0</td>\n",
       "    </tr>\n",
       "  </tbody>\n",
       "</table>\n",
       "</div>"
      ],
      "text/plain": [
       "        BARRIO  DIA  MES  ANIO  ESPECIAL  atropello  caida_ocupante  choque  \\\n",
       "0  aguas frias    2    5  2018         0          0               0       1   \n",
       "1  aguas frias    2    8  2018         0          1               0       0   \n",
       "2  aguas frias    4   11  2018         0          0               1       1   \n",
       "3  aguas frias   10    8  2018         0          1               0       0   \n",
       "4  aguas frias   19   10  2018         0          0               0       0   \n",
       "\n",
       "   otro  volcamiento  incendio  choque_atropello  \n",
       "0     0            0         0                 0  \n",
       "1     0            0         0                 0  \n",
       "2     0            0         0                 0  \n",
       "3     0            0         0                 0  \n",
       "4     1            0         0                 0  "
      ]
     },
     "execution_count": 35,
     "metadata": {},
     "output_type": "execute_result"
    }
   ],
   "source": [
    "train_dia = train.groupby(['BARRIO','DIA','MES','ANIO']).sum().reset_index()\n",
    "#data_dia = data_dia.to_frame()\n",
    "train_dia.to_excel(\"train_dia.xlsx\",index=False)\n",
    "train_dia.head()"
   ]
  },
  {
   "cell_type": "code",
   "execution_count": 70,
   "metadata": {},
   "outputs": [
    {
     "data": {
      "text/html": [
       "<div>\n",
       "<style scoped>\n",
       "    .dataframe tbody tr th:only-of-type {\n",
       "        vertical-align: middle;\n",
       "    }\n",
       "\n",
       "    .dataframe tbody tr th {\n",
       "        vertical-align: top;\n",
       "    }\n",
       "\n",
       "    .dataframe thead th {\n",
       "        text-align: right;\n",
       "    }\n",
       "</style>\n",
       "<table border=\"1\" class=\"dataframe\">\n",
       "  <thead>\n",
       "    <tr style=\"text-align: right;\">\n",
       "      <th></th>\n",
       "      <th>BARRIO</th>\n",
       "      <th>DIA</th>\n",
       "      <th>MES</th>\n",
       "      <th>ANIO</th>\n",
       "      <th>FECHAS_ESPECIALES</th>\n",
       "      <th>atropello</th>\n",
       "      <th>caida_ocupante</th>\n",
       "      <th>choque</th>\n",
       "      <th>otro</th>\n",
       "      <th>volcamiento</th>\n",
       "      <th>incendio</th>\n",
       "      <th>choque_atropello</th>\n",
       "      <th>BARRIO_ENCODER</th>\n",
       "    </tr>\n",
       "  </thead>\n",
       "  <tbody>\n",
       "    <tr>\n",
       "      <th>0</th>\n",
       "      <td>aguas frias</td>\n",
       "      <td>1</td>\n",
       "      <td>2</td>\n",
       "      <td>2015</td>\n",
       "      <td>0</td>\n",
       "      <td>0</td>\n",
       "      <td>0</td>\n",
       "      <td>0</td>\n",
       "      <td>1</td>\n",
       "      <td>0</td>\n",
       "      <td>0</td>\n",
       "      <td>0</td>\n",
       "      <td>0</td>\n",
       "    </tr>\n",
       "    <tr>\n",
       "      <th>1</th>\n",
       "      <td>aguas frias</td>\n",
       "      <td>1</td>\n",
       "      <td>3</td>\n",
       "      <td>2014</td>\n",
       "      <td>0</td>\n",
       "      <td>0</td>\n",
       "      <td>0</td>\n",
       "      <td>1</td>\n",
       "      <td>0</td>\n",
       "      <td>0</td>\n",
       "      <td>0</td>\n",
       "      <td>0</td>\n",
       "      <td>0</td>\n",
       "    </tr>\n",
       "    <tr>\n",
       "      <th>2</th>\n",
       "      <td>aguas frias</td>\n",
       "      <td>1</td>\n",
       "      <td>9</td>\n",
       "      <td>2014</td>\n",
       "      <td>0</td>\n",
       "      <td>0</td>\n",
       "      <td>0</td>\n",
       "      <td>1</td>\n",
       "      <td>0</td>\n",
       "      <td>0</td>\n",
       "      <td>0</td>\n",
       "      <td>0</td>\n",
       "      <td>0</td>\n",
       "    </tr>\n",
       "    <tr>\n",
       "      <th>3</th>\n",
       "      <td>aguas frias</td>\n",
       "      <td>1</td>\n",
       "      <td>10</td>\n",
       "      <td>2015</td>\n",
       "      <td>0</td>\n",
       "      <td>0</td>\n",
       "      <td>0</td>\n",
       "      <td>1</td>\n",
       "      <td>0</td>\n",
       "      <td>0</td>\n",
       "      <td>0</td>\n",
       "      <td>0</td>\n",
       "      <td>0</td>\n",
       "    </tr>\n",
       "    <tr>\n",
       "      <th>4</th>\n",
       "      <td>aguas frias</td>\n",
       "      <td>2</td>\n",
       "      <td>5</td>\n",
       "      <td>2016</td>\n",
       "      <td>0</td>\n",
       "      <td>0</td>\n",
       "      <td>0</td>\n",
       "      <td>1</td>\n",
       "      <td>0</td>\n",
       "      <td>0</td>\n",
       "      <td>0</td>\n",
       "      <td>0</td>\n",
       "      <td>0</td>\n",
       "    </tr>\n",
       "  </tbody>\n",
       "</table>\n",
       "</div>"
      ],
      "text/plain": [
       "        BARRIO  DIA  MES  ANIO  FECHAS_ESPECIALES  atropello  caida_ocupante  \\\n",
       "0  aguas frias    1    2  2015                  0          0               0   \n",
       "1  aguas frias    1    3  2014                  0          0               0   \n",
       "2  aguas frias    1    9  2014                  0          0               0   \n",
       "3  aguas frias    1   10  2015                  0          0               0   \n",
       "4  aguas frias    2    5  2016                  0          0               0   \n",
       "\n",
       "   choque  otro  volcamiento  incendio  choque_atropello  BARRIO_ENCODER  \n",
       "0       0     1            0         0                 0               0  \n",
       "1       1     0            0         0                 0               0  \n",
       "2       1     0            0         0                 0               0  \n",
       "3       1     0            0         0                 0               0  \n",
       "4       1     0            0         0                 0               0  "
      ]
     },
     "execution_count": 70,
     "metadata": {},
     "output_type": "execute_result"
    }
   ],
   "source": [
    "val_dia = val.groupby(['BARRIO','DIA','MES','ANIO']).sum().reset_index()\n",
    "#data_dia = data_dia.to_frame()\n",
    "val_dia.to_excel(\"val_dia.xlsx\",index=False)\n",
    "val_dia.head()"
   ]
  },
  {
   "cell_type": "markdown",
   "metadata": {},
   "source": [
    "Mes"
   ]
  },
  {
   "cell_type": "code",
   "execution_count": 37,
   "metadata": {},
   "outputs": [
    {
     "data": {
      "text/html": [
       "<div>\n",
       "<style scoped>\n",
       "    .dataframe tbody tr th:only-of-type {\n",
       "        vertical-align: middle;\n",
       "    }\n",
       "\n",
       "    .dataframe tbody tr th {\n",
       "        vertical-align: top;\n",
       "    }\n",
       "\n",
       "    .dataframe thead th {\n",
       "        text-align: right;\n",
       "    }\n",
       "</style>\n",
       "<table border=\"1\" class=\"dataframe\">\n",
       "  <thead>\n",
       "    <tr style=\"text-align: right;\">\n",
       "      <th></th>\n",
       "      <th>BARRIO</th>\n",
       "      <th>MES</th>\n",
       "      <th>ANIO</th>\n",
       "      <th>ESPECIAL</th>\n",
       "      <th>DIA</th>\n",
       "      <th>atropello</th>\n",
       "      <th>caida_ocupante</th>\n",
       "      <th>choque</th>\n",
       "      <th>otro</th>\n",
       "      <th>volcamiento</th>\n",
       "      <th>incendio</th>\n",
       "      <th>choque_atropello</th>\n",
       "    </tr>\n",
       "  </thead>\n",
       "  <tbody>\n",
       "    <tr>\n",
       "      <th>0</th>\n",
       "      <td>aguas frias</td>\n",
       "      <td>5</td>\n",
       "      <td>2018</td>\n",
       "      <td>0</td>\n",
       "      <td>22</td>\n",
       "      <td>0</td>\n",
       "      <td>0</td>\n",
       "      <td>2</td>\n",
       "      <td>0</td>\n",
       "      <td>0</td>\n",
       "      <td>0</td>\n",
       "      <td>0</td>\n",
       "    </tr>\n",
       "    <tr>\n",
       "      <th>1</th>\n",
       "      <td>aguas frias</td>\n",
       "      <td>8</td>\n",
       "      <td>2018</td>\n",
       "      <td>0</td>\n",
       "      <td>12</td>\n",
       "      <td>2</td>\n",
       "      <td>0</td>\n",
       "      <td>0</td>\n",
       "      <td>0</td>\n",
       "      <td>0</td>\n",
       "      <td>0</td>\n",
       "      <td>0</td>\n",
       "    </tr>\n",
       "    <tr>\n",
       "      <th>2</th>\n",
       "      <td>aguas frias</td>\n",
       "      <td>10</td>\n",
       "      <td>2018</td>\n",
       "      <td>0</td>\n",
       "      <td>19</td>\n",
       "      <td>0</td>\n",
       "      <td>0</td>\n",
       "      <td>0</td>\n",
       "      <td>1</td>\n",
       "      <td>0</td>\n",
       "      <td>0</td>\n",
       "      <td>0</td>\n",
       "    </tr>\n",
       "    <tr>\n",
       "      <th>3</th>\n",
       "      <td>aguas frias</td>\n",
       "      <td>11</td>\n",
       "      <td>2018</td>\n",
       "      <td>0</td>\n",
       "      <td>4</td>\n",
       "      <td>0</td>\n",
       "      <td>1</td>\n",
       "      <td>1</td>\n",
       "      <td>0</td>\n",
       "      <td>0</td>\n",
       "      <td>0</td>\n",
       "      <td>0</td>\n",
       "    </tr>\n",
       "    <tr>\n",
       "      <th>4</th>\n",
       "      <td>aldea pablo vi</td>\n",
       "      <td>1</td>\n",
       "      <td>2018</td>\n",
       "      <td>0</td>\n",
       "      <td>24</td>\n",
       "      <td>2</td>\n",
       "      <td>0</td>\n",
       "      <td>0</td>\n",
       "      <td>0</td>\n",
       "      <td>0</td>\n",
       "      <td>0</td>\n",
       "      <td>0</td>\n",
       "    </tr>\n",
       "  </tbody>\n",
       "</table>\n",
       "</div>"
      ],
      "text/plain": [
       "           BARRIO  MES  ANIO  ESPECIAL  DIA  atropello  caida_ocupante  \\\n",
       "0     aguas frias    5  2018         0   22          0               0   \n",
       "1     aguas frias    8  2018         0   12          2               0   \n",
       "2     aguas frias   10  2018         0   19          0               0   \n",
       "3     aguas frias   11  2018         0    4          0               1   \n",
       "4  aldea pablo vi    1  2018         0   24          2               0   \n",
       "\n",
       "   choque  otro  volcamiento  incendio  choque_atropello  \n",
       "0       2     0            0         0                 0  \n",
       "1       0     0            0         0                 0  \n",
       "2       0     1            0         0                 0  \n",
       "3       1     0            0         0                 0  \n",
       "4       0     0            0         0                 0  "
      ]
     },
     "execution_count": 37,
     "metadata": {},
     "output_type": "execute_result"
    }
   ],
   "source": [
    "train_mes = train.groupby(['BARRIO','MES','ANIO']).sum().reset_index()\n",
    "#data_dia = data_dia.to_frame()\n",
    "train_mes.to_excel(\"train_mes.xlsx\",index=False)\n",
    "train_mes.head()"
   ]
  },
  {
   "cell_type": "code",
   "execution_count": 38,
   "metadata": {},
   "outputs": [
    {
     "data": {
      "text/html": [
       "<div>\n",
       "<style scoped>\n",
       "    .dataframe tbody tr th:only-of-type {\n",
       "        vertical-align: middle;\n",
       "    }\n",
       "\n",
       "    .dataframe tbody tr th {\n",
       "        vertical-align: top;\n",
       "    }\n",
       "\n",
       "    .dataframe thead th {\n",
       "        text-align: right;\n",
       "    }\n",
       "</style>\n",
       "<table border=\"1\" class=\"dataframe\">\n",
       "  <thead>\n",
       "    <tr style=\"text-align: right;\">\n",
       "      <th></th>\n",
       "      <th>BARRIO</th>\n",
       "      <th>MES</th>\n",
       "      <th>ANIO</th>\n",
       "      <th>FECHAS_ESPECIALES</th>\n",
       "      <th>DIA</th>\n",
       "      <th>atropello</th>\n",
       "      <th>caida_ocupante</th>\n",
       "      <th>choque</th>\n",
       "      <th>otro</th>\n",
       "      <th>volcamiento</th>\n",
       "      <th>incendio</th>\n",
       "      <th>choque_atropello</th>\n",
       "    </tr>\n",
       "  </thead>\n",
       "  <tbody>\n",
       "    <tr>\n",
       "      <th>0</th>\n",
       "      <td>aguas frias</td>\n",
       "      <td>1</td>\n",
       "      <td>2014</td>\n",
       "      <td>0</td>\n",
       "      <td>30</td>\n",
       "      <td>0</td>\n",
       "      <td>0</td>\n",
       "      <td>1</td>\n",
       "      <td>0</td>\n",
       "      <td>0</td>\n",
       "      <td>0</td>\n",
       "      <td>0</td>\n",
       "    </tr>\n",
       "    <tr>\n",
       "      <th>1</th>\n",
       "      <td>aguas frias</td>\n",
       "      <td>1</td>\n",
       "      <td>2015</td>\n",
       "      <td>0</td>\n",
       "      <td>13</td>\n",
       "      <td>0</td>\n",
       "      <td>0</td>\n",
       "      <td>0</td>\n",
       "      <td>1</td>\n",
       "      <td>0</td>\n",
       "      <td>0</td>\n",
       "      <td>0</td>\n",
       "    </tr>\n",
       "    <tr>\n",
       "      <th>2</th>\n",
       "      <td>aguas frias</td>\n",
       "      <td>1</td>\n",
       "      <td>2016</td>\n",
       "      <td>0</td>\n",
       "      <td>26</td>\n",
       "      <td>0</td>\n",
       "      <td>0</td>\n",
       "      <td>2</td>\n",
       "      <td>1</td>\n",
       "      <td>0</td>\n",
       "      <td>0</td>\n",
       "      <td>0</td>\n",
       "    </tr>\n",
       "    <tr>\n",
       "      <th>3</th>\n",
       "      <td>aguas frias</td>\n",
       "      <td>2</td>\n",
       "      <td>2014</td>\n",
       "      <td>0</td>\n",
       "      <td>10</td>\n",
       "      <td>0</td>\n",
       "      <td>0</td>\n",
       "      <td>2</td>\n",
       "      <td>0</td>\n",
       "      <td>0</td>\n",
       "      <td>0</td>\n",
       "      <td>0</td>\n",
       "    </tr>\n",
       "    <tr>\n",
       "      <th>4</th>\n",
       "      <td>aguas frias</td>\n",
       "      <td>2</td>\n",
       "      <td>2015</td>\n",
       "      <td>0</td>\n",
       "      <td>28</td>\n",
       "      <td>0</td>\n",
       "      <td>0</td>\n",
       "      <td>1</td>\n",
       "      <td>1</td>\n",
       "      <td>0</td>\n",
       "      <td>0</td>\n",
       "      <td>0</td>\n",
       "    </tr>\n",
       "  </tbody>\n",
       "</table>\n",
       "</div>"
      ],
      "text/plain": [
       "        BARRIO  MES  ANIO  FECHAS_ESPECIALES  DIA  atropello  caida_ocupante  \\\n",
       "0  aguas frias    1  2014                  0   30          0               0   \n",
       "1  aguas frias    1  2015                  0   13          0               0   \n",
       "2  aguas frias    1  2016                  0   26          0               0   \n",
       "3  aguas frias    2  2014                  0   10          0               0   \n",
       "4  aguas frias    2  2015                  0   28          0               0   \n",
       "\n",
       "   choque  otro  volcamiento  incendio  choque_atropello  \n",
       "0       1     0            0         0                 0  \n",
       "1       0     1            0         0                 0  \n",
       "2       2     1            0         0                 0  \n",
       "3       2     0            0         0                 0  \n",
       "4       1     1            0         0                 0  "
      ]
     },
     "execution_count": 38,
     "metadata": {},
     "output_type": "execute_result"
    }
   ],
   "source": [
    "val_mes = val.groupby(['BARRIO','MES','ANIO']).sum().reset_index()\n",
    "#data_dia = data_dia.to_frame()\n",
    "val_mes.to_excel(\"val_mes.xlsx\",index=False)\n",
    "val_mes.head()"
   ]
  },
  {
   "cell_type": "markdown",
   "metadata": {},
   "source": [
    "# Predictor Mensual"
   ]
  },
  {
   "cell_type": "markdown",
   "metadata": {},
   "source": [
    "# Lectura de datos"
   ]
  },
  {
   "cell_type": "code",
   "execution_count": 39,
   "metadata": {},
   "outputs": [],
   "source": [
    "train = pd.read_excel(\"train_mes.xlsx\")\n",
    "val = pd.read_excel(\"val_mes.xlsx\")"
   ]
  },
  {
   "cell_type": "markdown",
   "metadata": {},
   "source": [
    "# LabelEncoder"
   ]
  },
  {
   "cell_type": "markdown",
   "metadata": {},
   "source": [
    "LabelEnconder para el atributo barrio"
   ]
  },
  {
   "cell_type": "code",
   "execution_count": 40,
   "metadata": {},
   "outputs": [
    {
     "data": {
      "text/html": [
       "<div>\n",
       "<style scoped>\n",
       "    .dataframe tbody tr th:only-of-type {\n",
       "        vertical-align: middle;\n",
       "    }\n",
       "\n",
       "    .dataframe tbody tr th {\n",
       "        vertical-align: top;\n",
       "    }\n",
       "\n",
       "    .dataframe thead th {\n",
       "        text-align: right;\n",
       "    }\n",
       "</style>\n",
       "<table border=\"1\" class=\"dataframe\">\n",
       "  <thead>\n",
       "    <tr style=\"text-align: right;\">\n",
       "      <th></th>\n",
       "      <th>BARRIO</th>\n",
       "      <th>MES</th>\n",
       "      <th>ANIO</th>\n",
       "      <th>FECHAS_ESPECIALES</th>\n",
       "      <th>DIA</th>\n",
       "      <th>atropello</th>\n",
       "      <th>caida_ocupante</th>\n",
       "      <th>choque</th>\n",
       "      <th>otro</th>\n",
       "      <th>volcamiento</th>\n",
       "      <th>incendio</th>\n",
       "      <th>choque_atropello</th>\n",
       "      <th>BARRIO_ENCODER</th>\n",
       "    </tr>\n",
       "  </thead>\n",
       "  <tbody>\n",
       "    <tr>\n",
       "      <th>0</th>\n",
       "      <td>aguas frias</td>\n",
       "      <td>1</td>\n",
       "      <td>2014</td>\n",
       "      <td>0</td>\n",
       "      <td>30</td>\n",
       "      <td>0</td>\n",
       "      <td>0</td>\n",
       "      <td>1</td>\n",
       "      <td>0</td>\n",
       "      <td>0</td>\n",
       "      <td>0</td>\n",
       "      <td>0</td>\n",
       "      <td>0</td>\n",
       "    </tr>\n",
       "    <tr>\n",
       "      <th>1</th>\n",
       "      <td>aguas frias</td>\n",
       "      <td>1</td>\n",
       "      <td>2015</td>\n",
       "      <td>0</td>\n",
       "      <td>13</td>\n",
       "      <td>0</td>\n",
       "      <td>0</td>\n",
       "      <td>0</td>\n",
       "      <td>1</td>\n",
       "      <td>0</td>\n",
       "      <td>0</td>\n",
       "      <td>0</td>\n",
       "      <td>0</td>\n",
       "    </tr>\n",
       "    <tr>\n",
       "      <th>2</th>\n",
       "      <td>aguas frias</td>\n",
       "      <td>1</td>\n",
       "      <td>2016</td>\n",
       "      <td>0</td>\n",
       "      <td>26</td>\n",
       "      <td>0</td>\n",
       "      <td>0</td>\n",
       "      <td>2</td>\n",
       "      <td>1</td>\n",
       "      <td>0</td>\n",
       "      <td>0</td>\n",
       "      <td>0</td>\n",
       "      <td>0</td>\n",
       "    </tr>\n",
       "    <tr>\n",
       "      <th>3</th>\n",
       "      <td>aguas frias</td>\n",
       "      <td>2</td>\n",
       "      <td>2014</td>\n",
       "      <td>0</td>\n",
       "      <td>10</td>\n",
       "      <td>0</td>\n",
       "      <td>0</td>\n",
       "      <td>2</td>\n",
       "      <td>0</td>\n",
       "      <td>0</td>\n",
       "      <td>0</td>\n",
       "      <td>0</td>\n",
       "      <td>0</td>\n",
       "    </tr>\n",
       "    <tr>\n",
       "      <th>4</th>\n",
       "      <td>aguas frias</td>\n",
       "      <td>2</td>\n",
       "      <td>2015</td>\n",
       "      <td>0</td>\n",
       "      <td>28</td>\n",
       "      <td>0</td>\n",
       "      <td>0</td>\n",
       "      <td>1</td>\n",
       "      <td>1</td>\n",
       "      <td>0</td>\n",
       "      <td>0</td>\n",
       "      <td>0</td>\n",
       "      <td>0</td>\n",
       "    </tr>\n",
       "  </tbody>\n",
       "</table>\n",
       "</div>"
      ],
      "text/plain": [
       "        BARRIO  MES  ANIO  FECHAS_ESPECIALES  DIA  atropello  caida_ocupante  \\\n",
       "0  aguas frias    1  2014                  0   30          0               0   \n",
       "1  aguas frias    1  2015                  0   13          0               0   \n",
       "2  aguas frias    1  2016                  0   26          0               0   \n",
       "3  aguas frias    2  2014                  0   10          0               0   \n",
       "4  aguas frias    2  2015                  0   28          0               0   \n",
       "\n",
       "   choque  otro  volcamiento  incendio  choque_atropello  BARRIO_ENCODER  \n",
       "0       1     0            0         0                 0               0  \n",
       "1       0     1            0         0                 0               0  \n",
       "2       2     1            0         0                 0               0  \n",
       "3       2     0            0         0                 0               0  \n",
       "4       1     1            0         0                 0               0  "
      ]
     },
     "execution_count": 40,
     "metadata": {},
     "output_type": "execute_result"
    }
   ],
   "source": [
    "le = LabelEncoder()\n",
    "le.fit(train['BARRIO'].unique())\n",
    "train['BARRIO_ENCODER']=le.transform(train['BARRIO'])\n",
    "le = LabelEncoder()\n",
    "le.fit(val['BARRIO'].unique())\n",
    "val['BARRIO_ENCODER']=le.transform(val['BARRIO'])\n",
    "train.head()\n",
    "val.head()"
   ]
  },
  {
   "cell_type": "markdown",
   "metadata": {},
   "source": [
    "# X y y"
   ]
  },
  {
   "cell_type": "code",
   "execution_count": 41,
   "metadata": {},
   "outputs": [],
   "source": [
    "X_train = train[['BARRIO_ENCODER','MES','ANIO']].values\n",
    "y_train = train[['atropello','caida_ocupante','choque','choque_atropello','incendio','otro','volcamiento']].values"
   ]
  },
  {
   "cell_type": "markdown",
   "metadata": {},
   "source": [
    "# Normalización"
   ]
  },
  {
   "cell_type": "code",
   "execution_count": 42,
   "metadata": {},
   "outputs": [
    {
     "data": {
      "text/plain": [
       "['models/scaler_mes.pkl']"
      ]
     },
     "execution_count": 42,
     "metadata": {},
     "output_type": "execute_result"
    }
   ],
   "source": [
    "min_max_scaler = preprocessing.MinMaxScaler()\n",
    "min_max_scaler = min_max_scaler.fit(X_train)\n",
    "X_train = min_max_scaler.transform(X_train)\n",
    "joblib.dump(min_max_scaler,\"models/scaler_mes.pkl\")"
   ]
  },
  {
   "cell_type": "markdown",
   "metadata": {},
   "source": [
    "# Entrenamiento del modelo"
   ]
  },
  {
   "cell_type": "markdown",
   "metadata": {},
   "source": [
    "## Maquina de Soporte Vectorial"
   ]
  },
  {
   "cell_type": "code",
   "execution_count": 43,
   "metadata": {},
   "outputs": [
    {
     "name": "stdout",
     "output_type": "stream",
     "text": [
      "R2 promedio: -21.698871039591676\n"
     ]
    },
    {
     "data": {
      "text/plain": [
       "['models/svm_mes.pkl']"
      ]
     },
     "execution_count": 43,
     "metadata": {},
     "output_type": "execute_result"
    }
   ],
   "source": [
    "svm =  MultiOutputRegressor(sklearn.svm.SVR(),n_jobs=-1)\n",
    "scores = cross_val_score(svm, X_train, y_train, cv=5,scoring = 'neg_mean_squared_error')\n",
    "print('R2 promedio:',np.mean(scores))\n",
    "svm = svm.fit(X_train,y_train)\n",
    "joblib.dump(svm, 'models/svm_mes.pkl')"
   ]
  },
  {
   "cell_type": "code",
   "execution_count": 44,
   "metadata": {},
   "outputs": [
    {
     "data": {
      "text/plain": [
       "22.004474842126605"
      ]
     },
     "execution_count": 44,
     "metadata": {},
     "output_type": "execute_result"
    }
   ],
   "source": [
    "y_pred = svm.predict(X_train)\n",
    "rmse(y_train, y_pred)"
   ]
  },
  {
   "cell_type": "markdown",
   "metadata": {},
   "source": [
    "## Bosque Aleatorio"
   ]
  },
  {
   "cell_type": "code",
   "execution_count": 45,
   "metadata": {},
   "outputs": [
    {
     "name": "stdout",
     "output_type": "stream",
     "text": [
      "R2 promedio: -68.02957317332633\n"
     ]
    },
    {
     "data": {
      "text/plain": [
       "['models/bosque_mes.pkl']"
      ]
     },
     "execution_count": 45,
     "metadata": {},
     "output_type": "execute_result"
    }
   ],
   "source": [
    "bosque =  RandomForestRegressor()\n",
    "scores = cross_val_score(bosque, X_train, y_train, cv=5,scoring = 'neg_mean_squared_error')\n",
    "print('R2 promedio:',np.mean(scores))\n",
    "bosque = bosque.fit(X_train,y_train)\n",
    "joblib.dump(bosque, 'models/bosque_mes.pkl',compress=9)"
   ]
  },
  {
   "cell_type": "code",
   "execution_count": 46,
   "metadata": {},
   "outputs": [
    {
     "data": {
      "text/plain": [
       "0.40879406760486964"
      ]
     },
     "execution_count": 46,
     "metadata": {},
     "output_type": "execute_result"
    }
   ],
   "source": [
    "y_pred = bosque.predict(X_train)\n",
    "rmse(y_train, y_pred)"
   ]
  },
  {
   "cell_type": "markdown",
   "metadata": {},
   "source": [
    "### Ajuste de Parametros"
   ]
  },
  {
   "cell_type": "code",
   "execution_count": 50,
   "metadata": {},
   "outputs": [
    {
     "name": "stdout",
     "output_type": "stream",
     "text": [
      "Mejores Parametros Encontrados\n",
      "{'bootstrap': True, 'max_depth': 2, 'max_features': 'sqrt', 'min_samples_split': 8, 'n_estimators': 1024}\n",
      "RMSE CV entrenamiento promedio: -29.994550615700387\n",
      "RMSE entrenamiento: 19.075179992198176\n"
     ]
    }
   ],
   "source": [
    "clf =  RandomForestRegressor()\n",
    "tuned_params = { \n",
    "            #\"criterion\": ['entropy','gini'],\n",
    "            \"max_features\": [1,2,4,8,16],\n",
    "            \"n_estimators\" :[512,1024],\n",
    "            \"min_samples_split\" : [2,4,8,16,32],\n",
    "            \"bootstrap\" : [False,True],\n",
    "            \"max_features\": ['auto','sqrt'],\n",
    "            \"max_depth\": [2,4,8,16,32,64,128]\n",
    "            }\n",
    "\n",
    "\n",
    "clf = GridSearchCV(clf, tuned_params,cv=5,scoring='neg_mean_squared_error',n_jobs = -1)\n",
    "clf.fit(X_train, y_train)\n",
    "print(\"Mejores Parametros Encontrados\")\n",
    "print(clf.best_params_)\n",
    "\n",
    "##\n",
    "## Se entrena el clasificador\n",
    "##\n",
    "clf =  RandomForestRegressor(\n",
    "    #criterion  = clf.best_params_['criterion'],\n",
    "    max_features  = clf.best_params_['max_features'],\n",
    "    n_estimators  = clf.best_params_['n_estimators'],\n",
    "    min_samples_split  = clf.best_params_['min_samples_split'],\n",
    "    bootstrap  = clf.best_params_['bootstrap'],\n",
    "    max_depth  = clf.best_params_['max_depth'],\n",
    ")\n",
    "\n",
    "\n",
    "scores = cross_val_score(clf, X_train, y_train, cv=5,scoring = 'neg_mean_squared_error')\n",
    "print('RMSE CV entrenamiento promedio:',np.mean(scores))\n",
    "\n",
    "### Se guarda el Modelo\n",
    "\n",
    "bosque = clf.fit(X_train,y_train)\n",
    "joblib.dump(bosque, 'models/bosque_tuning_mes.pkl',compress=9)\n",
    "\n",
    "\n",
    "\n",
    "y_pred = bosque.predict(X_train)\n",
    "print(\"RMSE entrenamiento:\",rmse(y_train, y_pred))"
   ]
  },
  {
   "cell_type": "markdown",
   "metadata": {},
   "source": [
    "## Red Neuronal"
   ]
  },
  {
   "cell_type": "markdown",
   "metadata": {
    "collapsed": true
   },
   "source": [
    "parametros = {\"hidden_layer_sizes\":  [(18,),(20,),(25,),(50,),(100,),(18,2),(20,2),(25,2),(18,3),(20,3),(25,3),(18,4),(20,4),(25,4),(50,4),(100,4),(200,4),(18,5),(20,5),(25,5),(50,5),(100,5),(200,5)]}\n",
    "red = sklearn.neural_network.MLPClassifier()\n",
    "clf = GridSearchCV(red, parametros,cv=5,scoring='f1',n_jobs = -1)\n",
    "clf.fit(X_train,y_train)\n",
    "print(\"Mejores Parametros Encontrados\")\n",
    "print(clf.best_params_)"
   ]
  },
  {
   "cell_type": "markdown",
   "metadata": {},
   "source": [
    "# Validacion"
   ]
  },
  {
   "cell_type": "code",
   "execution_count": 51,
   "metadata": {},
   "outputs": [],
   "source": [
    "X_val = val[['BARRIO_ENCODER','MES','ANIO']].values\n",
    "y_val = val[['atropello','caida_ocupante','choque','choque_atropello','incendio','otro','volcamiento']].values\n",
    "X_val = min_max_scaler.transform(X_val)"
   ]
  },
  {
   "cell_type": "markdown",
   "metadata": {},
   "source": [
    "## Bosque Aleatorio"
   ]
  },
  {
   "cell_type": "code",
   "execution_count": 52,
   "metadata": {},
   "outputs": [
    {
     "name": "stdout",
     "output_type": "stream",
     "text": [
      "Error de validación: 19.561701050272127\n"
     ]
    },
    {
     "data": {
      "text/plain": [
       "[<matplotlib.lines.Line2D at 0x24fff0fbf70>]"
      ]
     },
     "execution_count": 52,
     "metadata": {},
     "output_type": "execute_result"
    },
    {
     "data": {
      "image/png": "[encoded data removed]",
      "text/plain": [
       "<Figure size 432x288 with 1 Axes>"
      ]
     },
     "metadata": {
      "needs_background": "light"
     },
     "output_type": "display_data"
    }
   ],
   "source": [
    "y_pred = bosque.predict(X_val)\n",
    "print(\"Error de validación:\",rmse(y_val, y_pred))\n",
    "y_val = pd.DataFrame(y_val)\n",
    "y_pred = pd.DataFrame(y_pred)\n",
    "plt.plot([i for i in range(100)],list(y_pred[0])[0:100])\n",
    "plt.plot([i for i in range(100)],list(y_val[0])[0:100])"
   ]
  },
  {
   "cell_type": "markdown",
   "metadata": {},
   "source": [
    "## SVM"
   ]
  },
  {
   "cell_type": "code",
   "execution_count": 53,
   "metadata": {},
   "outputs": [
    {
     "name": "stdout",
     "output_type": "stream",
     "text": [
      "RMSE  VALIDACION: 24.176499148614692\n"
     ]
    },
    {
     "data": {
      "text/plain": [
       "[<matplotlib.lines.Line2D at 0x24ffbfae4f0>]"
      ]
     },
     "execution_count": 53,
     "metadata": {},
     "output_type": "execute_result"
    },
    {
     "data": {
      "image/png": "[encoded data removed]",
      "text/plain": [
       "<Figure size 432x288 with 1 Axes>"
      ]
     },
     "metadata": {
      "needs_background": "light"
     },
     "output_type": "display_data"
    }
   ],
   "source": [
    "y_pred = svm.predict(X_val)\n",
    "print(\"RMSE  VALIDACION:\",rmse(y_val, y_pred))\n",
    "y_val = pd.DataFrame(y_val)\n",
    "y_pred = pd.DataFrame(y_pred)\n",
    "plt.plot([i for i in range(100)],list(y_pred[0])[0:100])\n",
    "plt.plot([i for i in range(100)],list(y_val[0])[0:100])"
   ]
  },
  {
   "cell_type": "markdown",
   "metadata": {},
   "source": [
    "# PREDICTOR DIARIO"
   ]
  },
  {
   "cell_type": "markdown",
   "metadata": {},
   "source": [
    "## Lectura de Datos"
   ]
  },
  {
   "cell_type": "code",
   "execution_count": 73,
   "metadata": {},
   "outputs": [],
   "source": [
    "train = pd.read_excel(\"train_dia.xlsx\")\n",
    "val = pd.read_excel(\"val_dia.xlsx\")"
   ]
  },
  {
   "cell_type": "markdown",
   "metadata": {},
   "source": [
    "## LabelEncoder"
   ]
  },
  {
   "cell_type": "code",
   "execution_count": 55,
   "metadata": {},
   "outputs": [
    {
     "data": {
      "text/html": [
       "<div>\n",
       "<style scoped>\n",
       "    .dataframe tbody tr th:only-of-type {\n",
       "        vertical-align: middle;\n",
       "    }\n",
       "\n",
       "    .dataframe tbody tr th {\n",
       "        vertical-align: top;\n",
       "    }\n",
       "\n",
       "    .dataframe thead th {\n",
       "        text-align: right;\n",
       "    }\n",
       "</style>\n",
       "<table border=\"1\" class=\"dataframe\">\n",
       "  <thead>\n",
       "    <tr style=\"text-align: right;\">\n",
       "      <th></th>\n",
       "      <th>BARRIO</th>\n",
       "      <th>DIA</th>\n",
       "      <th>MES</th>\n",
       "      <th>ANIO</th>\n",
       "      <th>FECHAS_ESPECIALES</th>\n",
       "      <th>atropello</th>\n",
       "      <th>caida_ocupante</th>\n",
       "      <th>choque</th>\n",
       "      <th>otro</th>\n",
       "      <th>volcamiento</th>\n",
       "      <th>incendio</th>\n",
       "      <th>choque_atropello</th>\n",
       "      <th>BARRIO_ENCODER</th>\n",
       "    </tr>\n",
       "  </thead>\n",
       "  <tbody>\n",
       "    <tr>\n",
       "      <th>0</th>\n",
       "      <td>aguas frias</td>\n",
       "      <td>1</td>\n",
       "      <td>2</td>\n",
       "      <td>2015</td>\n",
       "      <td>0</td>\n",
       "      <td>0</td>\n",
       "      <td>0</td>\n",
       "      <td>0</td>\n",
       "      <td>1</td>\n",
       "      <td>0</td>\n",
       "      <td>0</td>\n",
       "      <td>0</td>\n",
       "      <td>0</td>\n",
       "    </tr>\n",
       "    <tr>\n",
       "      <th>1</th>\n",
       "      <td>aguas frias</td>\n",
       "      <td>1</td>\n",
       "      <td>3</td>\n",
       "      <td>2014</td>\n",
       "      <td>0</td>\n",
       "      <td>0</td>\n",
       "      <td>0</td>\n",
       "      <td>1</td>\n",
       "      <td>0</td>\n",
       "      <td>0</td>\n",
       "      <td>0</td>\n",
       "      <td>0</td>\n",
       "      <td>0</td>\n",
       "    </tr>\n",
       "    <tr>\n",
       "      <th>2</th>\n",
       "      <td>aguas frias</td>\n",
       "      <td>1</td>\n",
       "      <td>9</td>\n",
       "      <td>2014</td>\n",
       "      <td>0</td>\n",
       "      <td>0</td>\n",
       "      <td>0</td>\n",
       "      <td>1</td>\n",
       "      <td>0</td>\n",
       "      <td>0</td>\n",
       "      <td>0</td>\n",
       "      <td>0</td>\n",
       "      <td>0</td>\n",
       "    </tr>\n",
       "    <tr>\n",
       "      <th>3</th>\n",
       "      <td>aguas frias</td>\n",
       "      <td>1</td>\n",
       "      <td>10</td>\n",
       "      <td>2015</td>\n",
       "      <td>0</td>\n",
       "      <td>0</td>\n",
       "      <td>0</td>\n",
       "      <td>1</td>\n",
       "      <td>0</td>\n",
       "      <td>0</td>\n",
       "      <td>0</td>\n",
       "      <td>0</td>\n",
       "      <td>0</td>\n",
       "    </tr>\n",
       "    <tr>\n",
       "      <th>4</th>\n",
       "      <td>aguas frias</td>\n",
       "      <td>2</td>\n",
       "      <td>5</td>\n",
       "      <td>2016</td>\n",
       "      <td>0</td>\n",
       "      <td>0</td>\n",
       "      <td>0</td>\n",
       "      <td>1</td>\n",
       "      <td>0</td>\n",
       "      <td>0</td>\n",
       "      <td>0</td>\n",
       "      <td>0</td>\n",
       "      <td>0</td>\n",
       "    </tr>\n",
       "  </tbody>\n",
       "</table>\n",
       "</div>"
      ],
      "text/plain": [
       "        BARRIO  DIA  MES  ANIO  FECHAS_ESPECIALES  atropello  caida_ocupante  \\\n",
       "0  aguas frias    1    2  2015                  0          0               0   \n",
       "1  aguas frias    1    3  2014                  0          0               0   \n",
       "2  aguas frias    1    9  2014                  0          0               0   \n",
       "3  aguas frias    1   10  2015                  0          0               0   \n",
       "4  aguas frias    2    5  2016                  0          0               0   \n",
       "\n",
       "   choque  otro  volcamiento  incendio  choque_atropello  BARRIO_ENCODER  \n",
       "0       0     1            0         0                 0               0  \n",
       "1       1     0            0         0                 0               0  \n",
       "2       1     0            0         0                 0               0  \n",
       "3       1     0            0         0                 0               0  \n",
       "4       1     0            0         0                 0               0  "
      ]
     },
     "execution_count": 55,
     "metadata": {},
     "output_type": "execute_result"
    }
   ],
   "source": [
    "le = LabelEncoder()\n",
    "le.fit(train['BARRIO'].unique())\n",
    "train['BARRIO_ENCODER']=le.transform(train['BARRIO'])\n",
    "le = LabelEncoder()\n",
    "le.fit(val['BARRIO'].unique())\n",
    "val['BARRIO_ENCODER']=le.transform(val['BARRIO'])\n",
    "train.head()\n",
    "val.head()"
   ]
  },
  {
   "cell_type": "markdown",
   "metadata": {},
   "source": [
    "## X y y"
   ]
  },
  {
   "cell_type": "code",
   "execution_count": 56,
   "metadata": {},
   "outputs": [],
   "source": [
    "X_train = train[['BARRIO_ENCODER','MES','ANIO','ESPECIAL']].values\n",
    "y_train = train[['atropello','caida_ocupante','choque','choque_atropello','incendio','otro','volcamiento']].values"
   ]
  },
  {
   "cell_type": "markdown",
   "metadata": {},
   "source": [
    "## Normalización"
   ]
  },
  {
   "cell_type": "code",
   "execution_count": 57,
   "metadata": {},
   "outputs": [
    {
     "data": {
      "text/plain": [
       "['models/scaler_dia.pkl']"
      ]
     },
     "execution_count": 57,
     "metadata": {},
     "output_type": "execute_result"
    }
   ],
   "source": [
    "min_max_scaler = preprocessing.MinMaxScaler()\n",
    "min_max_scaler = min_max_scaler.fit(X_train)\n",
    "X_train = min_max_scaler.transform(X_train)\n",
    "joblib.dump(min_max_scaler,\"models/scaler_dia.pkl\")"
   ]
  },
  {
   "cell_type": "markdown",
   "metadata": {},
   "source": [
    "# Entrenamiento del Modelo"
   ]
  },
  {
   "cell_type": "markdown",
   "metadata": {},
   "source": [
    "## SVM"
   ]
  },
  {
   "cell_type": "code",
   "execution_count": 58,
   "metadata": {},
   "outputs": [
    {
     "name": "stdout",
     "output_type": "stream",
     "text": [
      "RMSE promedio: -0.1899196985575175\n"
     ]
    },
    {
     "data": {
      "text/plain": [
       "['models/svm_dia.pkl']"
      ]
     },
     "execution_count": 58,
     "metadata": {},
     "output_type": "execute_result"
    }
   ],
   "source": [
    "svm =  MultiOutputRegressor(sklearn.svm.SVR(),n_jobs=-1)\n",
    "scores = cross_val_score(svm, X_train, y_train, cv=5,scoring = 'neg_mean_squared_error')\n",
    "print('RMSE promedio:',np.mean(scores))\n",
    "svm = svm.fit(X_train,y_train)\n",
    "joblib.dump(svm, 'models/svm_dia.pkl')"
   ]
  },
  {
   "cell_type": "code",
   "execution_count": 59,
   "metadata": {},
   "outputs": [
    {
     "data": {
      "text/plain": [
       "0.18535355639963244"
      ]
     },
     "execution_count": 59,
     "metadata": {},
     "output_type": "execute_result"
    }
   ],
   "source": [
    "y_pred = svm.predict(X_train)\n",
    "rmse(y_train, y_pred)"
   ]
  },
  {
   "cell_type": "markdown",
   "metadata": {},
   "source": [
    "## Bosque Aleatorio"
   ]
  },
  {
   "cell_type": "code",
   "execution_count": 60,
   "metadata": {},
   "outputs": [
    {
     "name": "stdout",
     "output_type": "stream",
     "text": [
      "RMSE promedio: -0.26071056199028375\n"
     ]
    },
    {
     "data": {
      "text/plain": [
       "['models/bosque_dia.pkl']"
      ]
     },
     "execution_count": 60,
     "metadata": {},
     "output_type": "execute_result"
    }
   ],
   "source": [
    "bosque =  RandomForestRegressor()\n",
    "scores = cross_val_score(bosque, X_train, y_train, cv=5,scoring = 'neg_mean_squared_error')\n",
    "print('RMSE promedio:',np.mean(scores))\n",
    "bosque = bosque.fit(X_train,y_train)\n",
    "joblib.dump(bosque, 'models/bosque_dia.pkl',compress=9)"
   ]
  },
  {
   "cell_type": "code",
   "execution_count": 61,
   "metadata": {},
   "outputs": [
    {
     "data": {
      "text/plain": [
       "0.1340837302895612"
      ]
     },
     "execution_count": 61,
     "metadata": {},
     "output_type": "execute_result"
    }
   ],
   "source": [
    "y_pred = bosque.predict(X_train)\n",
    "rmse(y_train, y_pred)"
   ]
  },
  {
   "cell_type": "markdown",
   "metadata": {},
   "source": [
    "### Ajuste de parametros"
   ]
  },
  {
   "cell_type": "code",
   "execution_count": 63,
   "metadata": {},
   "outputs": [
    {
     "name": "stdout",
     "output_type": "stream",
     "text": [
      "Mejores Parametros Encontrados\n",
      "{'bootstrap': False, 'max_depth': 2, 'max_features': 'sqrt', 'min_samples_split': 32, 'n_estimators': 1024}\n",
      "RMSE CV entrenamiento promedio: -0.1912252928547103\n",
      "RMSE entrenamiento: 0.17939592192340736\n"
     ]
    }
   ],
   "source": [
    "clf =  RandomForestRegressor()\n",
    "tuned_params = { \n",
    "            #\"criterion\": ['entropy','gini'],\n",
    "            \"max_features\": [1,2,4,8,16],\n",
    "            \"n_estimators\" :[512,1024],\n",
    "            \"min_samples_split\" : [2,4,8,16,32],\n",
    "            \"bootstrap\" : [False,True],\n",
    "            \"max_features\": ['auto','sqrt'],\n",
    "            \"max_depth\": [2,4,8,16,32,64,128]\n",
    "            }\n",
    "\n",
    "\n",
    "clf = GridSearchCV(clf, tuned_params,cv=5,scoring='neg_mean_squared_error',n_jobs = -1)\n",
    "clf.fit(X_train,y_train)\n",
    "print(\"Mejores Parametros Encontrados\")\n",
    "print(clf.best_params_)\n",
    "\n",
    "##\n",
    "## Se entrena el clasificador\n",
    "##\n",
    "clf =  RandomForestRegressor(\n",
    "    #criterion  = clf.best_params_['criterion'],\n",
    "    max_features  = clf.best_params_['max_features'],\n",
    "    n_estimators  = clf.best_params_['n_estimators'],\n",
    "    min_samples_split  = clf.best_params_['min_samples_split'],\n",
    "    bootstrap  = clf.best_params_['bootstrap'],\n",
    "    max_depth  = clf.best_params_['max_depth'],\n",
    ")\n",
    "\n",
    "\n",
    "scores = cross_val_score(clf, X_train, y_train, cv=5,scoring = 'neg_mean_squared_error')\n",
    "print('RMSE CV entrenamiento promedio:',np.mean(scores))\n",
    "\n",
    "### Se guarda el Modelo\n",
    "\n",
    "bosque = clf.fit(X_train,y_train)\n",
    "joblib.dump(bosque, 'models/bosque_tuning_dia.pkl',compress=9)\n",
    "\n",
    "\n",
    "\n",
    "y_pred = bosque.predict(X_train)\n",
    "print(\"RMSE entrenamiento:\",rmse(y_train, y_pred))"
   ]
  },
  {
   "cell_type": "markdown",
   "metadata": {},
   "source": [
    "# Validación"
   ]
  },
  {
   "cell_type": "code",
   "execution_count": 74,
   "metadata": {},
   "outputs": [],
   "source": [
    "X_val = val[['BARRIO_ENCODER','MES','ANIO','ESPECIAL']].values\n",
    "y_val = val[['atropello','caida_ocupante','choque','choque_atropello','incendio','otro','volcamiento']].values\n",
    "X_val = min_max_scaler.transform(X_val)"
   ]
  },
  {
   "cell_type": "markdown",
   "metadata": {},
   "source": [
    "## Bosque Aleatorio"
   ]
  },
  {
   "cell_type": "code",
   "execution_count": 75,
   "metadata": {},
   "outputs": [
    {
     "name": "stdout",
     "output_type": "stream",
     "text": [
      "0.18833499211798996\n"
     ]
    },
    {
     "data": {
      "text/plain": [
       "[<matplotlib.lines.Line2D at 0x24fffd25ee0>]"
      ]
     },
     "execution_count": 75,
     "metadata": {},
     "output_type": "execute_result"
    },
    {
     "data": {
      "image/png": "[encoded data removed]",
      "text/plain": [
       "<Figure size 432x288 with 1 Axes>"
      ]
     },
     "metadata": {
      "needs_background": "light"
     },
     "output_type": "display_data"
    }
   ],
   "source": [
    "y_pred = bosque.predict(X_val)\n",
    "print(rmse(y_val, y_pred))\n",
    "y_val = pd.DataFrame(y_val)\n",
    "y_pred = pd.DataFrame(y_pred)\n",
    "plt.plot([i for i in range(100)],list(y_pred[0])[0:100])\n",
    "plt.plot([i for i in range(100)],list(y_val[0])[0:100])"
   ]
  },
  {
   "cell_type": "markdown",
   "metadata": {},
   "source": [
    "## SVM"
   ]
  },
  {
   "cell_type": "code",
   "execution_count": 76,
   "metadata": {},
   "outputs": [
    {
     "name": "stdout",
     "output_type": "stream",
     "text": [
      "rmse: 0.19520876964902348\n"
     ]
    },
    {
     "data": {
      "text/plain": [
       "[<matplotlib.lines.Line2D at 0x24ffd9a62b0>]"
      ]
     },
     "execution_count": 76,
     "metadata": {},
     "output_type": "execute_result"
    },
    {
     "data": {
      "image/png": "[encoded data removed]",
      "text/plain": [
       "<Figure size 432x288 with 1 Axes>"
      ]
     },
     "metadata": {
      "needs_background": "light"
     },
     "output_type": "display_data"
    }
   ],
   "source": [
    "y_pred = svm.predict(X_val)\n",
    "print(\"rmse:\",rmse(y_val, y_pred))\n",
    "y_val = pd.DataFrame(y_val)\n",
    "y_pred = pd.DataFrame(y_pred)\n",
    "plt.plot([i for i in range(100)],list(y_pred[0])[0:100])\n",
    "plt.plot([i for i in range(100)],list(y_val[0])[0:100])"
   ]
  },
  {
   "cell_type": "code",
   "execution_count": null,
   "metadata": {},
   "outputs": [],
   "source": []
  }
 ],
 "metadata": {
  "kernelspec": {
   "display_name": "Python 3",
   "language": "python",
   "name": "python3"
  },
  "language_info": {
   "codemirror_mode": {
    "name": "ipython",
    "version": 3
   },
   "file_extension": ".py",
   "mimetype": "text/x-python",
   "name": "python",
   "nbconvert_exporter": "python",
   "pygments_lexer": "ipython3",
   "version": "3.8.6"
  }
 },
 "nbformat": 4,
 "nbformat_minor": 4
}
