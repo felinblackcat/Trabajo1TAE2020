{
 "cells": [
  {
   "cell_type": "code",
   "execution_count": 145,
   "metadata": {},
   "outputs": [],
   "source": [
    "import joblib\n",
    "from sklearn.preprocessing import LabelEncoder\n",
    "import pandas as pd\n",
    "from sklearn import preprocessing\n",
    "from sklearn.metrics import mean_squared_error as rmse\n",
    "from matplotlib import pyplot as plt\n"
   ]
  },
  {
   "cell_type": "markdown",
   "metadata": {},
   "source": [
    "#Cargamos los modelos previamente guardados"
   ]
  },
  {
   "cell_type": "code",
   "execution_count": 146,
   "metadata": {},
   "outputs": [],
   "source": [
    "svm_dia=joblib.load('models/svm_dia.pkl')\n",
    "min_max_scaler_dia=joblib.load('models/scaler_dia.pkl')\n"
   ]
  },
  {
   "cell_type": "markdown",
   "metadata": {},
   "source": [
    "#Carga de datos"
   ]
  },
  {
   "cell_type": "code",
   "execution_count": 147,
   "metadata": {},
   "outputs": [],
   "source": [
    "val_dia=pd.read_excel(\"val_dia.xlsx\")\n",
    "train_dia=pd.read_excel(\"train_dia.xlsx\")"
   ]
  },
  {
   "cell_type": "code",
   "execution_count": 148,
   "metadata": {},
   "outputs": [],
   "source": [
    "## LabelEncoder"
   ]
  },
  {
   "cell_type": "code",
   "execution_count": 149,
   "metadata": {},
   "outputs": [],
   "source": [
    "le = LabelEncoder()\n",
    "le.fit(val_dia['BARRIO'].unique())\n",
    "val_dia['BARRIO_ENCODER']=le.transform(val_dia['BARRIO'])\n",
    "val_dia.head()\n",
    "le = LabelEncoder()\n",
    "le.fit(train_dia['BARRIO'].unique())\n",
    "train_dia['BARRIO_ENCODER']=le.transform(train_dia['BARRIO'])"
   ]
  },
  {
   "cell_type": "code",
   "execution_count": 150,
   "metadata": {},
   "outputs": [],
   "source": [
    "#obtener los vectores que se usaran\n",
    "#########Vector que envian"
   ]
  },
  {
   "cell_type": "code",
   "execution_count": 151,
   "metadata": {},
   "outputs": [
    {
     "data": {
      "text/plain": [
       "['models/min_max_scaler_dia.pkl']"
      ]
     },
     "execution_count": 151,
     "metadata": {},
     "output_type": "execute_result"
    }
   ],
   "source": [
    "X_val_dia = val_dia[['BARRIO_ENCODER','MES','ANIO','ESPECIAL']].values #Este es el vector que envian\n",
    "y_val_dia = val_dia[['atropello','caida_ocupante','choque','choque_atropello','incendio','otro','volcamiento']].values\n",
    "#X_train_dia = val_dia[['BARRIO_ENCODER','MES','ANIO','ESPECIAL']].values\n",
    "\n",
    "#X_val_dia = min_max_scaler_dia.transform(X_val_dia) #agregar cuando el modelo este en la carpeta\n",
    "\n",
    "#min_max_scaler_dia = preprocessing.MinMaxScaler() #borrar cuando el modelo este en la carpeta\n",
    "#min_max_scaler_dia = min_max_scaler.fit(X_train_dia)#borrar si modelo en carpeta\n",
    "X_val_dia = min_max_scaler_dia.transform(X_val_dia)\n",
    "#joblib.dump(min_max_scaler_dia, 'models/min_max_scaler_dia.pkl')"
   ]
  },
  {
   "cell_type": "code",
   "execution_count": 162,
   "metadata": {},
   "outputs": [
    {
     "name": "stdout",
     "output_type": "stream",
     "text": [
      "rmse: 0.18773704786204953\n"
     ]
    },
    {
     "data": {
      "text/plain": [
       "[<matplotlib.lines.Line2D at 0x1e6d97390a0>]"
      ]
     },
     "execution_count": 162,
     "metadata": {},
     "output_type": "execute_result"
    },
    {
     "data": {
      "image/png": "[encoded data removed]",
      "text/plain": [
       "<Figure size 432x288 with 1 Axes>"
      ]
     },
     "metadata": {
      "needs_background": "light"
     },
     "output_type": "display_data"
    }
   ],
   "source": [
    "y_pred_dia = svm_dia.predict(X_val_dia)\n",
    "print(\"rmse:\",rmse(y_val_dia, y_pred_dia))\n",
    "y_val_dia = pd.DataFrame(y_val_dia)\n",
    "y_pred_dia = pd.DataFrame(y_pred_dia) ##esto es lo que se envia\n",
    "\n",
    "plt.plot([i for i in range(100)],list(y_pred_dia[6])[0:100])\n",
    "plt.plot([i for i in range(100)],list(y_val_dia[6])[0:100])"
   ]
  },
  {
   "cell_type": "code",
   "execution_count": 159,
   "metadata": {},
   "outputs": [
    {
     "data": {
      "text/plain": [
       "[<matplotlib.lines.Line2D at 0x1e6dc382850>]"
      ]
     },
     "execution_count": 159,
     "metadata": {},
     "output_type": "execute_result"
    },
    {
     "data": {
      "image/png": "[encoded data removed]",
      "text/plain": [
       "<Figure size 432x288 with 1 Axes>"
      ]
     },
     "metadata": {
      "needs_background": "light"
     },
     "output_type": "display_data"
    }
   ],
   "source": [
    "plt.plot([i for i in range(100)],list(y_pred_dia[5])[0:100])\n"
   ]
  },
  {
   "cell_type": "code",
   "execution_count": 154,
   "metadata": {},
   "outputs": [
    {
     "data": {
      "text/html": [
       "<div>\n",
       "<style scoped>\n",
       "    .dataframe tbody tr th:only-of-type {\n",
       "        vertical-align: middle;\n",
       "    }\n",
       "\n",
       "    .dataframe tbody tr th {\n",
       "        vertical-align: top;\n",
       "    }\n",
       "\n",
       "    .dataframe thead th {\n",
       "        text-align: right;\n",
       "    }\n",
       "</style>\n",
       "<table border=\"1\" class=\"dataframe\">\n",
       "  <thead>\n",
       "    <tr style=\"text-align: right;\">\n",
       "      <th></th>\n",
       "      <th>0</th>\n",
       "      <th>1</th>\n",
       "      <th>2</th>\n",
       "      <th>3</th>\n",
       "      <th>4</th>\n",
       "      <th>5</th>\n",
       "      <th>6</th>\n",
       "    </tr>\n",
       "  </thead>\n",
       "  <tbody>\n",
       "    <tr>\n",
       "      <th>0</th>\n",
       "      <td>0.101395</td>\n",
       "      <td>0.10064</td>\n",
       "      <td>0.861571</td>\n",
       "      <td>0.0</td>\n",
       "      <td>0.1</td>\n",
       "      <td>0.100856</td>\n",
       "      <td>0.100997</td>\n",
       "    </tr>\n",
       "    <tr>\n",
       "      <th>1</th>\n",
       "      <td>0.101395</td>\n",
       "      <td>0.10064</td>\n",
       "      <td>0.861571</td>\n",
       "      <td>0.0</td>\n",
       "      <td>0.1</td>\n",
       "      <td>0.100856</td>\n",
       "      <td>0.100997</td>\n",
       "    </tr>\n",
       "    <tr>\n",
       "      <th>2</th>\n",
       "      <td>0.101395</td>\n",
       "      <td>0.10064</td>\n",
       "      <td>0.861571</td>\n",
       "      <td>0.0</td>\n",
       "      <td>0.1</td>\n",
       "      <td>0.100856</td>\n",
       "      <td>0.100997</td>\n",
       "    </tr>\n",
       "    <tr>\n",
       "      <th>3</th>\n",
       "      <td>0.101395</td>\n",
       "      <td>0.10064</td>\n",
       "      <td>0.861571</td>\n",
       "      <td>0.0</td>\n",
       "      <td>0.1</td>\n",
       "      <td>0.100856</td>\n",
       "      <td>0.100997</td>\n",
       "    </tr>\n",
       "    <tr>\n",
       "      <th>4</th>\n",
       "      <td>0.101395</td>\n",
       "      <td>0.10064</td>\n",
       "      <td>0.861571</td>\n",
       "      <td>0.0</td>\n",
       "      <td>0.1</td>\n",
       "      <td>0.100856</td>\n",
       "      <td>0.100997</td>\n",
       "    </tr>\n",
       "    <tr>\n",
       "      <th>...</th>\n",
       "      <td>...</td>\n",
       "      <td>...</td>\n",
       "      <td>...</td>\n",
       "      <td>...</td>\n",
       "      <td>...</td>\n",
       "      <td>...</td>\n",
       "      <td>...</td>\n",
       "    </tr>\n",
       "    <tr>\n",
       "      <th>27301</th>\n",
       "      <td>0.101395</td>\n",
       "      <td>0.10064</td>\n",
       "      <td>0.861571</td>\n",
       "      <td>0.0</td>\n",
       "      <td>0.1</td>\n",
       "      <td>0.100856</td>\n",
       "      <td>0.100997</td>\n",
       "    </tr>\n",
       "    <tr>\n",
       "      <th>27302</th>\n",
       "      <td>0.101395</td>\n",
       "      <td>0.10064</td>\n",
       "      <td>0.861571</td>\n",
       "      <td>0.0</td>\n",
       "      <td>0.1</td>\n",
       "      <td>0.100856</td>\n",
       "      <td>0.100997</td>\n",
       "    </tr>\n",
       "    <tr>\n",
       "      <th>27303</th>\n",
       "      <td>0.101395</td>\n",
       "      <td>0.10064</td>\n",
       "      <td>0.861571</td>\n",
       "      <td>0.0</td>\n",
       "      <td>0.1</td>\n",
       "      <td>0.100856</td>\n",
       "      <td>0.100997</td>\n",
       "    </tr>\n",
       "    <tr>\n",
       "      <th>27304</th>\n",
       "      <td>0.101395</td>\n",
       "      <td>0.10064</td>\n",
       "      <td>0.861571</td>\n",
       "      <td>0.0</td>\n",
       "      <td>0.1</td>\n",
       "      <td>0.100856</td>\n",
       "      <td>0.100997</td>\n",
       "    </tr>\n",
       "    <tr>\n",
       "      <th>27305</th>\n",
       "      <td>0.101395</td>\n",
       "      <td>0.10064</td>\n",
       "      <td>0.861571</td>\n",
       "      <td>0.0</td>\n",
       "      <td>0.1</td>\n",
       "      <td>0.100856</td>\n",
       "      <td>0.100997</td>\n",
       "    </tr>\n",
       "  </tbody>\n",
       "</table>\n",
       "<p>27306 rows × 7 columns</p>\n",
       "</div>"
      ],
      "text/plain": [
       "              0        1         2    3    4         5         6\n",
       "0      0.101395  0.10064  0.861571  0.0  0.1  0.100856  0.100997\n",
       "1      0.101395  0.10064  0.861571  0.0  0.1  0.100856  0.100997\n",
       "2      0.101395  0.10064  0.861571  0.0  0.1  0.100856  0.100997\n",
       "3      0.101395  0.10064  0.861571  0.0  0.1  0.100856  0.100997\n",
       "4      0.101395  0.10064  0.861571  0.0  0.1  0.100856  0.100997\n",
       "...         ...      ...       ...  ...  ...       ...       ...\n",
       "27301  0.101395  0.10064  0.861571  0.0  0.1  0.100856  0.100997\n",
       "27302  0.101395  0.10064  0.861571  0.0  0.1  0.100856  0.100997\n",
       "27303  0.101395  0.10064  0.861571  0.0  0.1  0.100856  0.100997\n",
       "27304  0.101395  0.10064  0.861571  0.0  0.1  0.100856  0.100997\n",
       "27305  0.101395  0.10064  0.861571  0.0  0.1  0.100856  0.100997\n",
       "\n",
       "[27306 rows x 7 columns]"
      ]
     },
     "execution_count": 154,
     "metadata": {},
     "output_type": "execute_result"
    }
   ],
   "source": [
    "y_pred_dia"
   ]
  },
  {
   "cell_type": "code",
   "execution_count": null,
   "metadata": {},
   "outputs": [],
   "source": []
  }
 ],
 "metadata": {
  "kernelspec": {
   "display_name": "Python 3",
   "language": "python",
   "name": "python3"
  },
  "language_info": {
   "codemirror_mode": {
    "name": "ipython",
    "version": 3
   },
   "file_extension": ".py",
   "mimetype": "text/x-python",
   "name": "python",
   "nbconvert_exporter": "python",
   "pygments_lexer": "ipython3",
   "version": "3.8.5"
  }
 },
 "nbformat": 4,
 "nbformat_minor": 4
}
